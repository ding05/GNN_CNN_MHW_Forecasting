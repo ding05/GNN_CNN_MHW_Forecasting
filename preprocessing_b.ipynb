{
  "nbformat": 4,
  "nbformat_minor": 0,
  "metadata": {
    "colab": {
      "name": "4/23 Preprocessing GODAS B.ipynb",
      "provenance": [],
      "collapsed_sections": []
    },
    "kernelspec": {
      "name": "python3",
      "display_name": "Python 3"
    },
    "language_info": {
      "name": "python"
    }
  },
  "cells": [
    {
      "cell_type": "markdown",
      "metadata": {
        "id": "65N8HO89kaSC"
      },
      "source": [
        "# **Obtaining Regional Multi-Year SST Anomaly Maps from GODAS**\n",
        "\n",
        "by Ding"
      ]
    },
    {
      "cell_type": "markdown",
      "metadata": {
        "id": "dHaYdwdhk-Ma"
      },
      "source": [
        "In this notebook, we will preprocess the GODAS dataset and get SST anomaly maps.\n",
        "\n",
        "Some details that have been described in the previous notebook \"Obtaining Regional Multi-Year SST Maps from GODAS\" will be omitted.\n",
        "\n",
        "Similarly, we extract the ocean region next to southeastern Australia from GODAS."
      ]
    },
    {
      "cell_type": "code",
      "metadata": {
        "id": "oNcRRPgKkZIr",
        "colab": {
          "base_uri": "https://localhost:8080/"
        },
        "outputId": "da60740d-04d9-4978-c294-777570bb2c13"
      },
      "source": [
        "from google.colab import drive\n",
        "drive.mount('/gdrive', force_remount=True)"
      ],
      "execution_count": null,
      "outputs": [
        {
          "output_type": "stream",
          "text": [
            "Mounted at /gdrive\n"
          ],
          "name": "stdout"
        }
      ]
    },
    {
      "cell_type": "code",
      "metadata": {
        "colab": {
          "base_uri": "https://localhost:8080/"
        },
        "id": "wzI4XjJlK0Ew",
        "outputId": "e9ba883f-5899-4c15-e490-bf25f2008927"
      },
      "source": [
        "!pip install netcdf4\n",
        "!pip install h5netcdf"
      ],
      "execution_count": null,
      "outputs": [
        {
          "output_type": "stream",
          "text": [
            "Collecting netcdf4\n",
            "\u001b[?25l  Downloading https://files.pythonhosted.org/packages/37/56/f65978898fb8e7e5df9c67531d86eb24eb04938deae3b61dbcce12c98212/netCDF4-1.5.6-cp37-cp37m-manylinux2014_x86_64.whl (4.7MB)\n",
            "\u001b[K     |████████████████████████████████| 4.7MB 6.3MB/s \n",
            "\u001b[?25hRequirement already satisfied: numpy>=1.9 in /usr/local/lib/python3.7/dist-packages (from netcdf4) (1.19.5)\n",
            "Collecting cftime\n",
            "\u001b[?25l  Downloading https://files.pythonhosted.org/packages/41/e0/3e120cca16571c5ee3b35f1ed432c2aae5dc91e2b789e8b9c3a70e721ea0/cftime-1.4.1-cp37-cp37m-manylinux2014_x86_64.whl (313kB)\n",
            "\u001b[K     |████████████████████████████████| 317kB 48.3MB/s \n",
            "\u001b[?25hInstalling collected packages: cftime, netcdf4\n",
            "Successfully installed cftime-1.4.1 netcdf4-1.5.6\n",
            "Collecting h5netcdf\n",
            "  Downloading https://files.pythonhosted.org/packages/1f/67/066987e482ff971d9b6b52263ce80904719cf15bf0f8319938d42d9af6fe/h5netcdf-0.11.0-py2.py3-none-any.whl\n",
            "Requirement already satisfied: h5py in /usr/local/lib/python3.7/dist-packages (from h5netcdf) (2.10.0)\n",
            "Requirement already satisfied: numpy>=1.7 in /usr/local/lib/python3.7/dist-packages (from h5py->h5netcdf) (1.19.5)\n",
            "Requirement already satisfied: six in /usr/local/lib/python3.7/dist-packages (from h5py->h5netcdf) (1.15.0)\n",
            "Installing collected packages: h5netcdf\n",
            "Successfully installed h5netcdf-0.11.0\n"
          ],
          "name": "stdout"
        }
      ]
    },
    {
      "cell_type": "code",
      "metadata": {
        "id": "bR0tr09vK12u"
      },
      "source": [
        "from netCDF4 import Dataset\n",
        "import matplotlib.pyplot as plt\n",
        "import xarray as xr\n",
        "import h5netcdf.legacyapi as netCDF4"
      ],
      "execution_count": null,
      "outputs": []
    },
    {
      "cell_type": "code",
      "metadata": {
        "colab": {
          "base_uri": "https://localhost:8080/"
        },
        "id": "bSxl8K6QK53K",
        "outputId": "0f72641f-baf4-42fe-fa3f-fa3e3f416969"
      },
      "source": [
        "pottmp_all = xr.open_mfdataset('/gdrive/My Drive/GODAS_pottmp/*.nc', decode_times=False)\n",
        "\n",
        "pottmp_seau = pottmp_all.where(pottmp_all.lat < -35, drop=True)\n",
        "pottmp_seau = pottmp_seau.where(pottmp_seau.lat > -45, drop=True)\n",
        "pottmp_seau = pottmp_seau.where(pottmp_seau.lon < 155, drop=True)\n",
        "pottmp_seau = pottmp_seau.where(pottmp_seau.lon > 145, drop=True)\n",
        "pottmp_seau = pottmp_seau.where(pottmp_seau.level == 5.0, drop=True)"
      ],
      "execution_count": null,
      "outputs": [
        {
          "output_type": "stream",
          "text": [
            "/usr/local/lib/python3.7/dist-packages/ipykernel_launcher.py:1: FutureWarning: In xarray version 0.15 the default behaviour of `open_mfdataset`\n",
            "will change. To retain the existing behavior, pass\n",
            "combine='nested'. To use future default behavior, pass\n",
            "combine='by_coords'. See\n",
            "http://xarray.pydata.org/en/stable/combining.html#combining-multi\n",
            "\n",
            "  \"\"\"Entry point for launching an IPython kernel.\n",
            "/usr/local/lib/python3.7/dist-packages/xarray/backends/api.py:941: FutureWarning: The datasets supplied have global dimension coordinates. You may want\n",
            "to use the new `combine_by_coords` function (or the\n",
            "`combine='by_coords'` option to `open_mfdataset`) to order the datasets\n",
            "before concatenation. Alternatively, to continue concatenating based\n",
            "on the order the datasets are supplied in future, please use the new\n",
            "`combine_nested` function (or the `combine='nested'` option to\n",
            "open_mfdataset).\n",
            "  from_openmfds=True,\n"
          ],
          "name": "stderr"
        }
      ]
    },
    {
      "cell_type": "code",
      "metadata": {
        "colab": {
          "base_uri": "https://localhost:8080/",
          "height": 314
        },
        "id": "DG0E8NwaLAw3",
        "outputId": "c4675e06-500a-488e-ac1c-5817e920f58b"
      },
      "source": [
        "pottmp_seau.pottmp.isel(level=0,time=240).plot()"
      ],
      "execution_count": null,
      "outputs": [
        {
          "output_type": "execute_result",
          "data": {
            "text/plain": [
              "<matplotlib.collections.QuadMesh at 0x7f5fa8f94190>"
            ]
          },
          "metadata": {
            "tags": []
          },
          "execution_count": 5
        },
        {
          "output_type": "display_data",
          "data": {
            "image/png": "[encoded data removed]",
            "text/plain": [
              "<Figure size 432x288 with 2 Axes>"
            ]
          },
          "metadata": {
            "tags": [],
            "needs_background": "light"
          }
        }
      ]
    },
    {
      "cell_type": "code",
      "metadata": {
        "colab": {
          "base_uri": "https://localhost:8080/",
          "height": 215
        },
        "id": "96csQM3aLiZi",
        "outputId": "69689d58-6638-476a-ef7f-a62804c4ffc2"
      },
      "source": [
        "pottmp_seau.pottmp"
      ],
      "execution_count": null,
      "outputs": [
        {
          "output_type": "execute_result",
          "data": {
            "text/html": [
              "<div><svg style=\"position: absolute; width: 0; height: 0; overflow: hidden\">\n",
              "<defs>\n",
              "<symbol id=\"icon-database\" viewBox=\"0 0 32 32\">\n",
              "<title>Show/Hide data repr</title>\n",
              "<path d=\"M16 0c-8.837 0-16 2.239-16 5v4c0 2.761 7.163 5 16 5s16-2.239 16-5v-4c0-2.761-7.163-5-16-5z\"></path>\n",
              "<path d=\"M16 17c-8.837 0-16-2.239-16-5v6c0 2.761 7.163 5 16 5s16-2.239 16-5v-6c0 2.761-7.163 5-16 5z\"></path>\n",
              "<path d=\"M16 26c-8.837 0-16-2.239-16-5v6c0 2.761 7.163 5 16 5s16-2.239 16-5v-6c0 2.761-7.163 5-16 5z\"></path>\n",
              "</symbol>\n",
              "<symbol id=\"icon-file-text2\" viewBox=\"0 0 32 32\">\n",
              "<title>Show/Hide attributes</title>\n",
              "<path d=\"M28.681 7.159c-0.694-0.947-1.662-2.053-2.724-3.116s-2.169-2.030-3.116-2.724c-1.612-1.182-2.393-1.319-2.841-1.319h-15.5c-1.378 0-2.5 1.121-2.5 2.5v27c0 1.378 1.122 2.5 2.5 2.5h23c1.378 0 2.5-1.122 2.5-2.5v-19.5c0-0.448-0.137-1.23-1.319-2.841zM24.543 5.457c0.959 0.959 1.712 1.825 2.268 2.543h-4.811v-4.811c0.718 0.556 1.584 1.309 2.543 2.268zM28 29.5c0 0.271-0.229 0.5-0.5 0.5h-23c-0.271 0-0.5-0.229-0.5-0.5v-27c0-0.271 0.229-0.5 0.5-0.5 0 0 15.499-0 15.5 0v7c0 0.552 0.448 1 1 1h7v19.5z\"></path>\n",
              "<path d=\"M23 26h-14c-0.552 0-1-0.448-1-1s0.448-1 1-1h14c0.552 0 1 0.448 1 1s-0.448 1-1 1z\"></path>\n",
              "<path d=\"M23 22h-14c-0.552 0-1-0.448-1-1s0.448-1 1-1h14c0.552 0 1 0.448 1 1s-0.448 1-1 1z\"></path>\n",
              "<path d=\"M23 18h-14c-0.552 0-1-0.448-1-1s0.448-1 1-1h14c0.552 0 1 0.448 1 1s-0.448 1-1 1z\"></path>\n",
              "</symbol>\n",
              "</defs>\n",
              "</svg>\n",
              "<style>/* CSS stylesheet for displaying xarray objects in jupyterlab.\n",
              " *\n",
              " */\n",
              "\n",
              ":root {\n",
              "  --xr-font-color0: var(--jp-content-font-color0, rgba(0, 0, 0, 1));\n",
              "  --xr-font-color2: var(--jp-content-font-color2, rgba(0, 0, 0, 0.54));\n",
              "  --xr-font-color3: var(--jp-content-font-color3, rgba(0, 0, 0, 0.38));\n",
              "  --xr-border-color: var(--jp-border-color2, #e0e0e0);\n",
              "  --xr-disabled-color: var(--jp-layout-color3, #bdbdbd);\n",
              "  --xr-background-color: var(--jp-layout-color0, white);\n",
              "  --xr-background-color-row-even: var(--jp-layout-color1, white);\n",
              "  --xr-background-color-row-odd: var(--jp-layout-color2, #eeeeee);\n",
              "}\n",
              "\n",
              ".xr-wrap {\n",
              "  min-width: 300px;\n",
              "  max-width: 700px;\n",
              "}\n",
              "\n",
              ".xr-header {\n",
              "  padding-top: 6px;\n",
              "  padding-bottom: 6px;\n",
              "  margin-bottom: 4px;\n",
              "  border-bottom: solid 1px var(--xr-border-color);\n",
              "}\n",
              "\n",
              ".xr-header > div,\n",
              ".xr-header > ul {\n",
              "  display: inline;\n",
              "  margin-top: 0;\n",
              "  margin-bottom: 0;\n",
              "}\n",
              "\n",
              ".xr-obj-type,\n",
              ".xr-array-name {\n",
              "  margin-left: 2px;\n",
              "  margin-right: 10px;\n",
              "}\n",
              "\n",
              ".xr-obj-type {\n",
              "  color: var(--xr-font-color2);\n",
              "}\n",
              "\n",
              ".xr-sections {\n",
              "  padding-left: 0 !important;\n",
              "  display: grid;\n",
              "  grid-template-columns: 150px auto auto 1fr 20px 20px;\n",
              "}\n",
              "\n",
              ".xr-section-item {\n",
              "  display: contents;\n",
              "}\n",
              "\n",
              ".xr-section-item input {\n",
              "  display: none;\n",
              "}\n",
              "\n",
              ".xr-section-item input + label {\n",
              "  color: var(--xr-disabled-color);\n",
              "}\n",
              "\n",
              ".xr-section-item input:enabled + label {\n",
              "  cursor: pointer;\n",
              "  color: var(--xr-font-color2);\n",
              "}\n",
              "\n",
              ".xr-section-item input:enabled + label:hover {\n",
              "  color: var(--xr-font-color0);\n",
              "}\n",
              "\n",
              ".xr-section-summary {\n",
              "  grid-column: 1;\n",
              "  color: var(--xr-font-color2);\n",
              "  font-weight: 500;\n",
              "}\n",
              "\n",
              ".xr-section-summary > span {\n",
              "  display: inline-block;\n",
              "  padding-left: 0.5em;\n",
              "}\n",
              "\n",
              ".xr-section-summary-in:disabled + label {\n",
              "  color: var(--xr-font-color2);\n",
              "}\n",
              "\n",
              ".xr-section-summary-in + label:before {\n",
              "  display: inline-block;\n",
              "  content: '►';\n",
              "  font-size: 11px;\n",
              "  width: 15px;\n",
              "  text-align: center;\n",
              "}\n",
              "\n",
              ".xr-section-summary-in:disabled + label:before {\n",
              "  color: var(--xr-disabled-color);\n",
              "}\n",
              "\n",
              ".xr-section-summary-in:checked + label:before {\n",
              "  content: '▼';\n",
              "}\n",
              "\n",
              ".xr-section-summary-in:checked + label > span {\n",
              "  display: none;\n",
              "}\n",
              "\n",
              ".xr-section-summary,\n",
              ".xr-section-inline-details {\n",
              "  padding-top: 4px;\n",
              "  padding-bottom: 4px;\n",
              "}\n",
              "\n",
              ".xr-section-inline-details {\n",
              "  grid-column: 2 / -1;\n",
              "}\n",
              "\n",
              ".xr-section-details {\n",
              "  display: none;\n",
              "  grid-column: 1 / -1;\n",
              "  margin-bottom: 5px;\n",
              "}\n",
              "\n",
              ".xr-section-summary-in:checked ~ .xr-section-details {\n",
              "  display: contents;\n",
              "}\n",
              "\n",
              ".xr-array-wrap {\n",
              "  grid-column: 1 / -1;\n",
              "  display: grid;\n",
              "  grid-template-columns: 20px auto;\n",
              "}\n",
              "\n",
              ".xr-array-wrap > label {\n",
              "  grid-column: 1;\n",
              "  vertical-align: top;\n",
              "}\n",
              "\n",
              ".xr-preview {\n",
              "  color: var(--xr-font-color3);\n",
              "}\n",
              "\n",
              ".xr-array-preview,\n",
              ".xr-array-data {\n",
              "  padding: 0 5px !important;\n",
              "  grid-column: 2;\n",
              "}\n",
              "\n",
              ".xr-array-data,\n",
              ".xr-array-in:checked ~ .xr-array-preview {\n",
              "  display: none;\n",
              "}\n",
              "\n",
              ".xr-array-in:checked ~ .xr-array-data,\n",
              ".xr-array-preview {\n",
              "  display: inline-block;\n",
              "}\n",
              "\n",
              ".xr-dim-list {\n",
              "  display: inline-block !important;\n",
              "  list-style: none;\n",
              "  padding: 0 !important;\n",
              "  margin: 0;\n",
              "}\n",
              "\n",
              ".xr-dim-list li {\n",
              "  display: inline-block;\n",
              "  padding: 0;\n",
              "  margin: 0;\n",
              "}\n",
              "\n",
              ".xr-dim-list:before {\n",
              "  content: '(';\n",
              "}\n",
              "\n",
              ".xr-dim-list:after {\n",
              "  content: ')';\n",
              "}\n",
              "\n",
              ".xr-dim-list li:not(:last-child):after {\n",
              "  content: ',';\n",
              "  padding-right: 5px;\n",
              "}\n",
              "\n",
              ".xr-has-index {\n",
              "  font-weight: bold;\n",
              "}\n",
              "\n",
              ".xr-var-list,\n",
              ".xr-var-item {\n",
              "  display: contents;\n",
              "}\n",
              "\n",
              ".xr-var-item > div,\n",
              ".xr-var-item label,\n",
              ".xr-var-item > .xr-var-name span {\n",
              "  background-color: var(--xr-background-color-row-even);\n",
              "  margin-bottom: 0;\n",
              "}\n",
              "\n",
              ".xr-var-item > .xr-var-name:hover span {\n",
              "  padding-right: 5px;\n",
              "}\n",
              "\n",
              ".xr-var-list > li:nth-child(odd) > div,\n",
              ".xr-var-list > li:nth-child(odd) > label,\n",
              ".xr-var-list > li:nth-child(odd) > .xr-var-name span {\n",
              "  background-color: var(--xr-background-color-row-odd);\n",
              "}\n",
              "\n",
              ".xr-var-name {\n",
              "  grid-column: 1;\n",
              "}\n",
              "\n",
              ".xr-var-dims {\n",
              "  grid-column: 2;\n",
              "}\n",
              "\n",
              ".xr-var-dtype {\n",
              "  grid-column: 3;\n",
              "  text-align: right;\n",
              "  color: var(--xr-font-color2);\n",
              "}\n",
              "\n",
              ".xr-var-preview {\n",
              "  grid-column: 4;\n",
              "}\n",
              "\n",
              ".xr-var-name,\n",
              ".xr-var-dims,\n",
              ".xr-var-dtype,\n",
              ".xr-preview,\n",
              ".xr-attrs dt {\n",
              "  white-space: nowrap;\n",
              "  overflow: hidden;\n",
              "  text-overflow: ellipsis;\n",
              "  padding-right: 10px;\n",
              "}\n",
              "\n",
              ".xr-var-name:hover,\n",
              ".xr-var-dims:hover,\n",
              ".xr-var-dtype:hover,\n",
              ".xr-attrs dt:hover {\n",
              "  overflow: visible;\n",
              "  width: auto;\n",
              "  z-index: 1;\n",
              "}\n",
              "\n",
              ".xr-var-attrs,\n",
              ".xr-var-data {\n",
              "  display: none;\n",
              "  background-color: var(--xr-background-color) !important;\n",
              "  padding-bottom: 5px !important;\n",
              "}\n",
              "\n",
              ".xr-var-attrs-in:checked ~ .xr-var-attrs,\n",
              ".xr-var-data-in:checked ~ .xr-var-data {\n",
              "  display: block;\n",
              "}\n",
              "\n",
              ".xr-var-data > table {\n",
              "  float: right;\n",
              "}\n",
              "\n",
              ".xr-var-name span,\n",
              ".xr-var-data,\n",
              ".xr-attrs {\n",
              "  padding-left: 25px !important;\n",
              "}\n",
              "\n",
              ".xr-attrs,\n",
              ".xr-var-attrs,\n",
              ".xr-var-data {\n",
              "  grid-column: 1 / -1;\n",
              "}\n",
              "\n",
              "dl.xr-attrs {\n",
              "  padding: 0;\n",
              "  margin: 0;\n",
              "  display: grid;\n",
              "  grid-template-columns: 125px auto;\n",
              "}\n",
              "\n",
              ".xr-attrs dt, dd {\n",
              "  padding: 0;\n",
              "  margin: 0;\n",
              "  float: left;\n",
              "  padding-right: 10px;\n",
              "  width: auto;\n",
              "}\n",
              "\n",
              ".xr-attrs dt {\n",
              "  font-weight: normal;\n",
              "  grid-column: 1;\n",
              "}\n",
              "\n",
              ".xr-attrs dt:hover span {\n",
              "  display: inline-block;\n",
              "  background: var(--xr-background-color);\n",
              "  padding-right: 10px;\n",
              "}\n",
              "\n",
              ".xr-attrs dd {\n",
              "  grid-column: 2;\n",
              "  white-space: pre-wrap;\n",
              "  word-break: break-all;\n",
              "}\n",
              "\n",
              ".xr-icon-database,\n",
              ".xr-icon-file-text2 {\n",
              "  display: inline-block;\n",
              "  vertical-align: middle;\n",
              "  width: 1em;\n",
              "  height: 1.5em !important;\n",
              "  stroke-width: 0;\n",
              "  stroke: currentColor;\n",
              "  fill: currentColor;\n",
              "}\n",
              "</style><div class='xr-wrap'><div class='xr-header'><div class='xr-obj-type'>xarray.DataArray</div><div class='xr-array-name'>'pottmp'</div><ul class='xr-dim-list'><li><span class='xr-has-index'>time</span>: 492</li><li><span class='xr-has-index'>level</span>: 1</li><li><span class='xr-has-index'>lat</span>: 30</li><li><span class='xr-has-index'>lon</span>: 10</li></ul></div><ul class='xr-sections'><li class='xr-section-item'><div class='xr-array-wrap'><input id='section-4b9ad21a-caae-4a64-8a5c-cb11ba2df193' class='xr-array-in' type='checkbox' ><label for='section-4b9ad21a-caae-4a64-8a5c-cb11ba2df193' title='Show/hide data repr'><svg class='icon xr-icon-database'><use xlink:href='#icon-database'></use></svg></label><div class='xr-array-preview xr-preview'><span>dask.array&lt;chunksize=(12, 1, 30, 10), meta=np.ndarray&gt;</span></div><pre class='xr-array-data'><table>\n",
              "<tr>\n",
              "<td>\n",
              "<table>\n",
              "  <thead>\n",
              "    <tr><td> </td><th> Array </th><th> Chunk </th></tr>\n",
              "  </thead>\n",
              "  <tbody>\n",
              "    <tr><th> Bytes </th><td> 590.40 kB </td> <td> 14.40 kB </td></tr>\n",
              "    <tr><th> Shape </th><td> (492, 1, 30, 10) </td> <td> (12, 1, 30, 10) </td></tr>\n",
              "    <tr><th> Count </th><td> 538 Tasks </td><td> 41 Chunks </td></tr>\n",
              "    <tr><th> Type </th><td> float32 </td><td> numpy.ndarray </td></tr>\n",
              "  </tbody>\n",
              "</table>\n",
              "</td>\n",
              "<td>\n",
              "<svg width=\"474\" height=\"100\" style=\"stroke:rgb(0,0,0);stroke-width:1\" >\n",
              "\n",
              "  <!-- Horizontal lines -->\n",
              "  <line x1=\"0\" y1=\"0\" x2=\"120\" y2=\"0\" style=\"stroke-width:2\" />\n",
              "  <line x1=\"0\" y1=\"25\" x2=\"120\" y2=\"25\" style=\"stroke-width:2\" />\n",
              "\n",
              "  <!-- Vertical lines -->\n",
              "  <line x1=\"0\" y1=\"0\" x2=\"0\" y2=\"25\" style=\"stroke-width:2\" />\n",
              "  <line x1=\"2\" y1=\"0\" x2=\"2\" y2=\"25\" />\n",
              "  <line x1=\"5\" y1=\"0\" x2=\"5\" y2=\"25\" />\n",
              "  <line x1=\"8\" y1=\"0\" x2=\"8\" y2=\"25\" />\n",
              "  <line x1=\"11\" y1=\"0\" x2=\"11\" y2=\"25\" />\n",
              "  <line x1=\"14\" y1=\"0\" x2=\"14\" y2=\"25\" />\n",
              "  <line x1=\"17\" y1=\"0\" x2=\"17\" y2=\"25\" />\n",
              "  <line x1=\"20\" y1=\"0\" x2=\"20\" y2=\"25\" />\n",
              "  <line x1=\"23\" y1=\"0\" x2=\"23\" y2=\"25\" />\n",
              "  <line x1=\"26\" y1=\"0\" x2=\"26\" y2=\"25\" />\n",
              "  <line x1=\"29\" y1=\"0\" x2=\"29\" y2=\"25\" />\n",
              "  <line x1=\"32\" y1=\"0\" x2=\"32\" y2=\"25\" />\n",
              "  <line x1=\"35\" y1=\"0\" x2=\"35\" y2=\"25\" />\n",
              "  <line x1=\"38\" y1=\"0\" x2=\"38\" y2=\"25\" />\n",
              "  <line x1=\"40\" y1=\"0\" x2=\"40\" y2=\"25\" />\n",
              "  <line x1=\"43\" y1=\"0\" x2=\"43\" y2=\"25\" />\n",
              "  <line x1=\"46\" y1=\"0\" x2=\"46\" y2=\"25\" />\n",
              "  <line x1=\"49\" y1=\"0\" x2=\"49\" y2=\"25\" />\n",
              "  <line x1=\"52\" y1=\"0\" x2=\"52\" y2=\"25\" />\n",
              "  <line x1=\"55\" y1=\"0\" x2=\"55\" y2=\"25\" />\n",
              "  <line x1=\"58\" y1=\"0\" x2=\"58\" y2=\"25\" />\n",
              "  <line x1=\"61\" y1=\"0\" x2=\"61\" y2=\"25\" />\n",
              "  <line x1=\"64\" y1=\"0\" x2=\"64\" y2=\"25\" />\n",
              "  <line x1=\"67\" y1=\"0\" x2=\"67\" y2=\"25\" />\n",
              "  <line x1=\"70\" y1=\"0\" x2=\"70\" y2=\"25\" />\n",
              "  <line x1=\"73\" y1=\"0\" x2=\"73\" y2=\"25\" />\n",
              "  <line x1=\"76\" y1=\"0\" x2=\"76\" y2=\"25\" />\n",
              "  <line x1=\"79\" y1=\"0\" x2=\"79\" y2=\"25\" />\n",
              "  <line x1=\"81\" y1=\"0\" x2=\"81\" y2=\"25\" />\n",
              "  <line x1=\"84\" y1=\"0\" x2=\"84\" y2=\"25\" />\n",
              "  <line x1=\"87\" y1=\"0\" x2=\"87\" y2=\"25\" />\n",
              "  <line x1=\"90\" y1=\"0\" x2=\"90\" y2=\"25\" />\n",
              "  <line x1=\"93\" y1=\"0\" x2=\"93\" y2=\"25\" />\n",
              "  <line x1=\"96\" y1=\"0\" x2=\"96\" y2=\"25\" />\n",
              "  <line x1=\"99\" y1=\"0\" x2=\"99\" y2=\"25\" />\n",
              "  <line x1=\"102\" y1=\"0\" x2=\"102\" y2=\"25\" />\n",
              "  <line x1=\"105\" y1=\"0\" x2=\"105\" y2=\"25\" />\n",
              "  <line x1=\"108\" y1=\"0\" x2=\"108\" y2=\"25\" />\n",
              "  <line x1=\"111\" y1=\"0\" x2=\"111\" y2=\"25\" />\n",
              "  <line x1=\"114\" y1=\"0\" x2=\"114\" y2=\"25\" />\n",
              "  <line x1=\"117\" y1=\"0\" x2=\"117\" y2=\"25\" />\n",
              "  <line x1=\"120\" y1=\"0\" x2=\"120\" y2=\"25\" style=\"stroke-width:2\" />\n",
              "\n",
              "  <!-- Colored Rectangle -->\n",
              "  <polygon points=\"0.000000,0.000000 120.000000,0.000000 120.000000,25.412617 0.000000,25.412617\" style=\"fill:#ECB172A0;stroke-width:0\"/>\n",
              "\n",
              "  <!-- Text -->\n",
              "  <text x=\"60.000000\" y=\"45.412617\" font-size=\"1.0rem\" font-weight=\"100\" text-anchor=\"middle\" >492</text>\n",
              "  <text x=\"140.000000\" y=\"12.706308\" font-size=\"1.0rem\" font-weight=\"100\" text-anchor=\"middle\" transform=\"rotate(0,140.000000,12.706308)\">1</text>\n",
              "\n",
              "\n",
              "  <!-- Horizontal lines -->\n",
              "  <line x1=\"190\" y1=\"0\" x2=\"204\" y2=\"14\" style=\"stroke-width:2\" />\n",
              "  <line x1=\"190\" y1=\"35\" x2=\"204\" y2=\"50\" style=\"stroke-width:2\" />\n",
              "\n",
              "  <!-- Vertical lines -->\n",
              "  <line x1=\"190\" y1=\"0\" x2=\"190\" y2=\"35\" style=\"stroke-width:2\" />\n",
              "  <line x1=\"204\" y1=\"14\" x2=\"204\" y2=\"50\" style=\"stroke-width:2\" />\n",
              "\n",
              "  <!-- Colored Rectangle -->\n",
              "  <polygon points=\"190.000000,0.000000 204.948598,14.948598 204.948598,50.658894 190.000000,35.710296\" style=\"fill:#ECB172A0;stroke-width:0\"/>\n",
              "\n",
              "  <!-- Horizontal lines -->\n",
              "  <line x1=\"190\" y1=\"0\" x2=\"219\" y2=\"0\" style=\"stroke-width:2\" />\n",
              "  <line x1=\"204\" y1=\"14\" x2=\"234\" y2=\"14\" style=\"stroke-width:2\" />\n",
              "\n",
              "  <!-- Vertical lines -->\n",
              "  <line x1=\"190\" y1=\"0\" x2=\"204\" y2=\"14\" style=\"stroke-width:2\" />\n",
              "  <line x1=\"219\" y1=\"0\" x2=\"234\" y2=\"14\" style=\"stroke-width:2\" />\n",
              "\n",
              "  <!-- Colored Rectangle -->\n",
              "  <polygon points=\"190.000000,0.000000 219.121535,0.000000 234.070133,14.948598 204.948598,14.948598\" style=\"fill:#ECB172A0;stroke-width:0\"/>\n",
              "\n",
              "  <!-- Horizontal lines -->\n",
              "  <line x1=\"204\" y1=\"14\" x2=\"234\" y2=\"14\" style=\"stroke-width:2\" />\n",
              "  <line x1=\"204\" y1=\"50\" x2=\"234\" y2=\"50\" style=\"stroke-width:2\" />\n",
              "\n",
              "  <!-- Vertical lines -->\n",
              "  <line x1=\"204\" y1=\"14\" x2=\"204\" y2=\"50\" style=\"stroke-width:2\" />\n",
              "  <line x1=\"234\" y1=\"14\" x2=\"234\" y2=\"50\" style=\"stroke-width:2\" />\n",
              "\n",
              "  <!-- Colored Rectangle -->\n",
              "  <polygon points=\"204.948598,14.948598 234.070133,14.948598 234.070133,50.658894 204.948598,50.658894\" style=\"fill:#ECB172A0;stroke-width:0\"/>\n",
              "\n",
              "  <!-- Text -->\n",
              "  <text x=\"219.509366\" y=\"70.658894\" font-size=\"1.0rem\" font-weight=\"100\" text-anchor=\"middle\" >10</text>\n",
              "  <text x=\"254.070133\" y=\"32.803746\" font-size=\"1.0rem\" font-weight=\"100\" text-anchor=\"middle\" transform=\"rotate(0,254.070133,32.803746)\">30</text>\n",
              "  <text x=\"187.474299\" y=\"63.184595\" font-size=\"1.0rem\" font-weight=\"100\" text-anchor=\"middle\" transform=\"rotate(45,187.474299,63.184595)\">1</text>\n",
              "</svg>\n",
              "</td>\n",
              "</tr>\n",
              "</table></pre></div></li><li class='xr-section-item'><input id='section-aafabfef-1e9b-4428-83e6-fd8f23a19076' class='xr-section-summary-in' type='checkbox'  checked><label for='section-aafabfef-1e9b-4428-83e6-fd8f23a19076' class='xr-section-summary' >Coordinates: <span>(4)</span></label><div class='xr-section-inline-details'></div><div class='xr-section-details'><ul class='xr-var-list'><li class='xr-var-item'><div class='xr-var-name'><span class='xr-has-index'>lat</span></div><div class='xr-var-dims'>(lat)</div><div class='xr-var-dtype'>float32</div><div class='xr-var-preview xr-preview'>-44.83355 -44.50021 ... -35.16695</div><input id='attrs-f3a5c022-732a-4696-a26d-b53c9d5c5c7b' class='xr-var-attrs-in' type='checkbox' ><label for='attrs-f3a5c022-732a-4696-a26d-b53c9d5c5c7b' title='Show/Hide attributes'><svg class='icon xr-icon-file-text2'><use xlink:href='#icon-file-text2'></use></svg></label><input id='data-3b1e9d0c-ffc5-4a26-ac6b-fda0b9551bdd' class='xr-var-data-in' type='checkbox'><label for='data-3b1e9d0c-ffc5-4a26-ac6b-fda0b9551bdd' title='Show/Hide data repr'><svg class='icon xr-icon-database'><use xlink:href='#icon-database'></use></svg></label><div class='xr-var-attrs'><dl class='xr-attrs'><dt><span>units :</span></dt><dd>degrees_north</dd><dt><span>GridType :</span></dt><dd>Cylindrical Equidistant Projection Grid</dd><dt><span>long_name :</span></dt><dd>latitude</dd><dt><span>actual_range :</span></dt><dd>[-74.5    64.499]</dd><dt><span>standard_name :</span></dt><dd>latitude</dd><dt><span>axis :</span></dt><dd>Y</dd></dl></div><pre class='xr-var-data'>array([-44.83355, -44.50021, -44.16689, -43.83355, -43.50022, -43.16689,\n",
              "       -42.83356, -42.50023, -42.1669 , -41.83356, -41.50024, -41.1669 ,\n",
              "       -40.83357, -40.50025, -40.16692, -39.83358, -39.50025, -39.16692,\n",
              "       -38.83359, -38.50026, -38.16693, -37.8336 , -37.50027, -37.16693,\n",
              "       -36.83361, -36.50027, -36.16694, -35.83361, -35.50028, -35.16695],\n",
              "      dtype=float32)</pre></li><li class='xr-var-item'><div class='xr-var-name'><span class='xr-has-index'>level</span></div><div class='xr-var-dims'>(level)</div><div class='xr-var-dtype'>float32</div><div class='xr-var-preview xr-preview'>5.0</div><input id='attrs-8d286902-1765-4e30-ac0b-3567df5a571f' class='xr-var-attrs-in' type='checkbox' ><label for='attrs-8d286902-1765-4e30-ac0b-3567df5a571f' title='Show/Hide attributes'><svg class='icon xr-icon-file-text2'><use xlink:href='#icon-file-text2'></use></svg></label><input id='data-504483b1-6ca7-420b-a148-6c05ddd59377' class='xr-var-data-in' type='checkbox'><label for='data-504483b1-6ca7-420b-a148-6c05ddd59377' title='Show/Hide data repr'><svg class='icon xr-icon-database'><use xlink:href='#icon-database'></use></svg></label><div class='xr-var-attrs'><dl class='xr-attrs'><dt><span>positive :</span></dt><dd>down</dd><dt><span>units :</span></dt><dd>m</dd><dt><span>long_name :</span></dt><dd>depth below sea level</dd><dt><span>actual_range :</span></dt><dd>[   5. 4478.]</dd><dt><span>axis :</span></dt><dd>Z</dd></dl></div><pre class='xr-var-data'>array([5.], dtype=float32)</pre></li><li class='xr-var-item'><div class='xr-var-name'><span class='xr-has-index'>lon</span></div><div class='xr-var-dims'>(lon)</div><div class='xr-var-dtype'>float32</div><div class='xr-var-preview xr-preview'>145.5 146.5 147.5 ... 153.5 154.5</div><input id='attrs-19112421-237d-4e46-a6aa-a235d6117122' class='xr-var-attrs-in' type='checkbox' ><label for='attrs-19112421-237d-4e46-a6aa-a235d6117122' title='Show/Hide attributes'><svg class='icon xr-icon-file-text2'><use xlink:href='#icon-file-text2'></use></svg></label><input id='data-fd1e1a2e-75da-4eeb-9f7d-b486224a081c' class='xr-var-data-in' type='checkbox'><label for='data-fd1e1a2e-75da-4eeb-9f7d-b486224a081c' title='Show/Hide data repr'><svg class='icon xr-icon-database'><use xlink:href='#icon-database'></use></svg></label><div class='xr-var-attrs'><dl class='xr-attrs'><dt><span>units :</span></dt><dd>degrees_east</dd><dt><span>GridType :</span></dt><dd>Cylindrical Equidistant Projection Grid</dd><dt><span>long_name :</span></dt><dd>longitude</dd><dt><span>actual_range :</span></dt><dd>[  0.5 359.5]</dd><dt><span>standard_name :</span></dt><dd>longitude</dd><dt><span>axis :</span></dt><dd>X</dd></dl></div><pre class='xr-var-data'>array([145.5, 146.5, 147.5, 148.5, 149.5, 150.5, 151.5, 152.5, 153.5, 154.5],\n",
              "      dtype=float32)</pre></li><li class='xr-var-item'><div class='xr-var-name'><span class='xr-has-index'>time</span></div><div class='xr-var-dims'>(time)</div><div class='xr-var-dtype'>float64</div><div class='xr-var-preview xr-preview'>6.574e+04 6.577e+04 ... 8.069e+04</div><input id='attrs-62d8a4ba-95f8-4f73-8e07-e06a93c3e744' class='xr-var-attrs-in' type='checkbox' ><label for='attrs-62d8a4ba-95f8-4f73-8e07-e06a93c3e744' title='Show/Hide attributes'><svg class='icon xr-icon-file-text2'><use xlink:href='#icon-file-text2'></use></svg></label><input id='data-9502afa7-7fc2-4725-a98f-9ab9a0b47fef' class='xr-var-data-in' type='checkbox'><label for='data-9502afa7-7fc2-4725-a98f-9ab9a0b47fef' title='Show/Hide data repr'><svg class='icon xr-icon-database'><use xlink:href='#icon-database'></use></svg></label><div class='xr-var-attrs'><dl class='xr-attrs'><dt><span>info :</span></dt><dd>This is the FIRST day of the averaging period.</dd><dt><span>long_name :</span></dt><dd>time</dd><dt><span>units :</span></dt><dd>days since 1800-01-01 00:00:0.0</dd><dt><span>delta_t :</span></dt><dd>0000-01-00 00:00:00</dd><dt><span>avg_period :</span></dt><dd>0000-01-00 00:00:00</dd><dt><span>standard_name :</span></dt><dd>time</dd><dt><span>axis :</span></dt><dd>T</dd></dl></div><pre class='xr-var-data'>array([65743., 65774., 65803., ..., 80627., 80658., 80688.])</pre></li></ul></div></li><li class='xr-section-item'><input id='section-2619443d-cd61-42ee-882c-9f54bac25449' class='xr-section-summary-in' type='checkbox'  ><label for='section-2619443d-cd61-42ee-882c-9f54bac25449' class='xr-section-summary' >Attributes: <span>(15)</span></label><div class='xr-section-inline-details'></div><div class='xr-section-details'><dl class='xr-attrs'><dt><span>dataset :</span></dt><dd>NCEP GODAS</dd><dt><span>var_desc :</span></dt><dd>potential temperature</dd><dt><span>level_desc :</span></dt><dd>Multiple Levels</dd><dt><span>statistic :</span></dt><dd>Monthly Mean</dd><dt><span>parent_stat :</span></dt><dd>Individual Obs</dd><dt><span>sub_center :</span></dt><dd>Environmental Modeling Center</dd><dt><span>center :</span></dt><dd>US National Weather Service - NCEP (WMC)</dd><dt><span>long_name :</span></dt><dd>Potential temperature</dd><dt><span>units :</span></dt><dd>K</dd><dt><span>level_indicator :</span></dt><dd>160</dd><dt><span>gds_grid_type :</span></dt><dd>0</dd><dt><span>parameter_table_version :</span></dt><dd>2</dd><dt><span>parameter_number :</span></dt><dd>13</dd><dt><span>actual_range :</span></dt><dd>[269.0907 305.1529]</dd><dt><span>valid_range :</span></dt><dd>[260. 310.]</dd></dl></div></li></ul></div></div>"
            ],
            "text/plain": [
              "<xarray.DataArray 'pottmp' (time: 492, level: 1, lat: 30, lon: 10)>\n",
              "dask.array<where, shape=(492, 1, 30, 10), dtype=float32, chunksize=(12, 1, 30, 10), chunktype=numpy.ndarray>\n",
              "Coordinates:\n",
              "  * lat      (lat) float32 -44.83355 -44.50021 -44.16689 ... -35.50028 -35.16695\n",
              "  * level    (level) float32 5.0\n",
              "  * lon      (lon) float32 145.5 146.5 147.5 148.5 ... 151.5 152.5 153.5 154.5\n",
              "  * time     (time) float64 6.574e+04 6.577e+04 6.58e+04 ... 8.066e+04 8.069e+04\n",
              "Attributes:\n",
              "    dataset:                  NCEP GODAS\n",
              "    var_desc:                 potential temperature\n",
              "    level_desc:               Multiple Levels\n",
              "    statistic:                Monthly Mean\n",
              "    parent_stat:              Individual Obs\n",
              "    sub_center:               Environmental Modeling Center\n",
              "    center:                   US National Weather Service - NCEP (WMC)\n",
              "    long_name:                Potential temperature\n",
              "    units:                    K\n",
              "    level_indicator:          160\n",
              "    gds_grid_type:            0\n",
              "    parameter_table_version:  2\n",
              "    parameter_number:         13\n",
              "    actual_range:             [269.0907 305.1529]\n",
              "    valid_range:              [260. 310.]"
            ]
          },
          "metadata": {
            "tags": []
          },
          "execution_count": 6
        }
      ]
    },
    {
      "cell_type": "code",
      "metadata": {
        "id": "p3aOrxpVLslD"
      },
      "source": [
        "import numpy as np\n",
        "\n",
        "data_set = np.zeros((492,1,30,10))\n",
        "data_set[:,:,:,:] = pottmp_seau.variables['pottmp'][0:492,:,:,:]"
      ],
      "execution_count": null,
      "outputs": []
    },
    {
      "cell_type": "markdown",
      "metadata": {
        "id": "5QGL30OhMzLl"
      },
      "source": [
        "For easily handling, drop one dimension and convert the numpy arrays into lists."
      ]
    },
    {
      "cell_type": "code",
      "metadata": {
        "id": "qqomg0tINI1S"
      },
      "source": [
        "data_set = np.squeeze(data_set, axis=1)\n",
        "\n",
        "data_set_list = data_set.tolist()"
      ],
      "execution_count": null,
      "outputs": []
    },
    {
      "cell_type": "markdown",
      "metadata": {
        "id": "P9aHEHZbLR78"
      },
      "source": [
        "In order to get the anomly map, we compute the average regional SST values by month, which returns a vector of 12 elements."
      ]
    },
    {
      "cell_type": "code",
      "metadata": {
        "id": "39hqPGzLNvBj"
      },
      "source": [
        "monthly_average = []\n",
        "monthly_average_map = []\n",
        "\n",
        "for i in range(12):\n",
        "  individual_month = data_set_list[i::12]\n",
        "  average = 0\n",
        "  average_map = 0\n",
        "  for j in range(len(individual_month)):\n",
        "    average += np.nanmean(individual_month[j])\n",
        "    average_map += np.array(individual_month[j])\n",
        "  monthly_average.append(average / len(individual_month))\n",
        "  monthly_average_map.append(average_map / len(individual_month))"
      ],
      "execution_count": null,
      "outputs": []
    },
    {
      "cell_type": "code",
      "metadata": {
        "colab": {
          "base_uri": "https://localhost:8080/",
          "height": 303
        },
        "id": "aA1wZJ-WQJ3J",
        "outputId": "7c1db2e5-56a0-4e8d-b235-5864cac2f8c9"
      },
      "source": [
        "print(monthly_average)\n",
        "\n",
        "from matplotlib import pyplot\n",
        "\n",
        "pyplot.plot(monthly_average)\n",
        "pyplot.show()"
      ],
      "execution_count": null,
      "outputs": [
        {
          "output_type": "stream",
          "text": [
            "[291.3364490925174, 292.0716765738998, 291.8030082555436, 290.78703582693305, 289.53174109563656, 288.2957274672216, 287.29252478052524, 286.67249330220443, 286.64164598166633, 287.2330859924545, 288.5045015223757, 289.96177316542276]\n"
          ],
          "name": "stdout"
        },
        {
          "output_type": "display_data",
          "data": {
            "image/png": "[encoded data removed]",
            "text/plain": [
              "<Figure size 432x288 with 1 Axes>"
            ]
          },
          "metadata": {
            "tags": [],
            "needs_background": "light"
          }
        }
      ]
    },
    {
      "cell_type": "markdown",
      "metadata": {
        "id": "0-VgCDaPXdQ-"
      },
      "source": [
        "Let all elements in maps by month subtract the respective monthly average SST map."
      ]
    },
    {
      "cell_type": "code",
      "metadata": {
        "id": "dB01TCU1Xuoz"
      },
      "source": [
        "anomaly_set = data_set\n",
        "\n",
        "for i in range(12):\n",
        "    anomaly_set[i::12] -= monthly_average_map[i]"
      ],
      "execution_count": null,
      "outputs": []
    },
    {
      "cell_type": "code",
      "metadata": {
        "colab": {
          "base_uri": "https://localhost:8080/"
        },
        "id": "JBpeHT55aU5J",
        "outputId": "4661e406-7a2e-439f-a447-bdbf609aa4cf"
      },
      "source": [
        "print(anomaly_set.shape)"
      ],
      "execution_count": null,
      "outputs": [
        {
          "output_type": "stream",
          "text": [
            "(492, 30, 10)\n"
          ],
          "name": "stdout"
        }
      ]
    },
    {
      "cell_type": "markdown",
      "metadata": {
        "id": "Eib6H730amcn"
      },
      "source": [
        "Convert \"nans\" to zeroes."
      ]
    },
    {
      "cell_type": "code",
      "metadata": {
        "id": "xMhnZsRpavpW"
      },
      "source": [
        "anomaly_set = np.where(np.isnan(anomaly_set), 0, anomaly_set)"
      ],
      "execution_count": null,
      "outputs": []
    },
    {
      "cell_type": "markdown",
      "metadata": {
        "id": "tE-Qp3uNd0YG"
      },
      "source": [
        "Split the anomaly data into training and test sets."
      ]
    },
    {
      "cell_type": "code",
      "metadata": {
        "id": "gSfeXB-3dvgp"
      },
      "source": [
        "train_set = anomaly_set[:394]\n",
        "test_set = anomaly_set[394:]"
      ],
      "execution_count": null,
      "outputs": []
    },
    {
      "cell_type": "code",
      "metadata": {
        "id": "YZsP4FBneq4_"
      },
      "source": [
        "train_set_3_list = []\n",
        "train_label_list = []\n",
        "test_set_3_list = []\n",
        "test_label_list = []\n",
        "\n",
        "for i in range(len(train_set) - 3):\n",
        "  train_set_3_list.append([train_set[i], train_set[i+1], train_set[i+2]])\n",
        "  train_label_list.append([train_set[i+3]])\n",
        "\n",
        "for i in range(len(test_set) - 3):\n",
        "  test_set_3_list.append([test_set[i], test_set[i+1], test_set[i+2]])\n",
        "  test_label_list.append([test_set[i+3]])"
      ],
      "execution_count": null,
      "outputs": []
    },
    {
      "cell_type": "code",
      "metadata": {
        "colab": {
          "base_uri": "https://localhost:8080/"
        },
        "id": "BUtcWAGUfIpj",
        "outputId": "5065d2e5-957d-474c-f4a0-c5a49e69a78b"
      },
      "source": [
        "train_set_3 = np.array(train_set_3_list)\n",
        "train_label = np.array(train_label_list)\n",
        "test_set_3 = np.array(test_set_3_list)\n",
        "test_label = np.array(test_label_list)\n",
        "\n",
        "print(train_set_3.shape)\n",
        "print(test_set_3.shape)\n",
        "print(train_label.shape)\n",
        "print(test_label.shape)"
      ],
      "execution_count": null,
      "outputs": [
        {
          "output_type": "stream",
          "text": [
            "(391, 3, 30, 10)\n",
            "(95, 3, 30, 10)\n",
            "(391, 1, 30, 10)\n",
            "(95, 1, 30, 10)\n"
          ],
          "name": "stdout"
        }
      ]
    },
    {
      "cell_type": "markdown",
      "metadata": {
        "id": "cwMHKULHfVPe"
      },
      "source": [
        "Save this list in Google Drive for further use."
      ]
    },
    {
      "cell_type": "code",
      "metadata": {
        "id": "QPZfbidIfWpy"
      },
      "source": [
        "anomaly_sets_3_maps = [train_set_3.tolist(), test_set_3.tolist(), train_label.tolist(), test_label.tolist()]"
      ],
      "execution_count": null,
      "outputs": []
    },
    {
      "cell_type": "code",
      "metadata": {
        "id": "VDJVIvhMfdI4"
      },
      "source": [
        "import json\n",
        "\n",
        "with open('/gdrive/My Drive/GODAS/anomaly_sets_3_maps.txt', 'w') as out_file:\n",
        "    json.dump(anomaly_sets_3_maps, out_file)"
      ],
      "execution_count": null,
      "outputs": []
    },
    {
      "cell_type": "markdown",
      "metadata": {
        "id": "-GmNvJqFoaCk"
      },
      "source": [
        "Prepare another set of data, the anomaly maps in the first month and the average SST values in the second month."
      ]
    },
    {
      "cell_type": "code",
      "metadata": {
        "id": "UmDB838cox-o"
      },
      "source": [
        "train_set_list = []\n",
        "train_label_list = []\n",
        "test_set_list = []\n",
        "test_label_list = []\n",
        "\n",
        "import numpy.ma as ma\n",
        "\n",
        "for i in range(len(train_set) - 1):\n",
        "  train_set_list.append([train_set[i]])\n",
        "  train_label_list.append(np.nanmean(np.where(train_set[i+1]!=0, train_set[i+1], np.nan)))\n",
        "\n",
        "for i in range(len(test_set) - 1):\n",
        "  test_set_list.append([test_set[i]])\n",
        "  test_label_list.append(np.nanmean(np.where(test_set[i+1]!=0, test_set[i+1], np.nan)))"
      ],
      "execution_count": null,
      "outputs": []
    },
    {
      "cell_type": "code",
      "metadata": {
        "id": "zxPbL3SNsA_w"
      },
      "source": [
        "anomaly_sets_1_values = [np.array(train_set_list).tolist(), np.array(test_set_list).tolist(), train_label_list, test_label_list]"
      ],
      "execution_count": null,
      "outputs": []
    },
    {
      "cell_type": "code",
      "metadata": {
        "id": "ixqP4BUTr79P"
      },
      "source": [
        "with open('/gdrive/My Drive/GODAS/anomaly_sets_1_values.txt', 'w') as out_file:\n",
        "    json.dump(anomaly_sets_1_values, out_file)"
      ],
      "execution_count": null,
      "outputs": []
    }
  ]
}