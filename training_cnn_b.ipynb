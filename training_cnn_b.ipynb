{
  "nbformat": 4,
  "nbformat_minor": 0,
  "metadata": {
    "colab": {
      "name": "4/25 Training GODAS C.ipynb",
      "provenance": [],
      "collapsed_sections": []
    },
    "kernelspec": {
      "name": "python3",
      "display_name": "Python 3"
    },
    "language_info": {
      "name": "python"
    },
    "accelerator": "GPU"
  },
  "cells": [
    {
      "cell_type": "markdown",
      "metadata": {
        "id": "anQ-OwaO3EuU"
      },
      "source": [
        "# **Training a Baseline CNN Model with Regional Multi-Year SST Anomaly Maps**\n",
        "\n",
        "by Ding"
      ]
    },
    {
      "cell_type": "markdown",
      "metadata": {
        "id": "3qzpdoaAN39a"
      },
      "source": [
        "Connect Google Drive."
      ]
    },
    {
      "cell_type": "code",
      "metadata": {
        "colab": {
          "base_uri": "https://localhost:8080/"
        },
        "id": "qxFfNH42Nejz",
        "outputId": "7c39615c-35c7-4e00-e5df-6808950eef2b"
      },
      "source": [
        "from google.colab import drive\n",
        "drive.mount('/gdrive', force_remount=True)"
      ],
      "execution_count": 134,
      "outputs": [
        {
          "output_type": "stream",
          "text": [
            "Mounted at /gdrive\n"
          ],
          "name": "stdout"
        }
      ]
    },
    {
      "cell_type": "markdown",
      "metadata": {
        "id": "ZgOmazoON-lQ"
      },
      "source": [
        "Load the saved preprocessed datasets."
      ]
    },
    {
      "cell_type": "code",
      "metadata": {
        "id": "GRb0FkrHOBCe"
      },
      "source": [
        "import json\n",
        "\n",
        "with open('/gdrive/My Drive/GODAS/anomaly_sets_3_maps.txt', 'r') as in_file:\n",
        "    data_sets = json.load(in_file)"
      ],
      "execution_count": 135,
      "outputs": []
    },
    {
      "cell_type": "code",
      "metadata": {
        "id": "LDWzZOBlOP5G"
      },
      "source": [
        "import numpy as np\n",
        "\n",
        "train_set_3 = np.array(data_sets[0])\n",
        "test_set_3 = np.array(data_sets[1])\n",
        "train_label = np.array(data_sets[2])\n",
        "test_label = np.array(data_sets[3])"
      ],
      "execution_count": 136,
      "outputs": []
    },
    {
      "cell_type": "markdown",
      "metadata": {
        "id": "q4yolHfc3pPT"
      },
      "source": [
        "Simiarly, some details that have been explained in the privous notebook are omitted."
      ]
    },
    {
      "cell_type": "code",
      "metadata": {
        "id": "nC56_Aw43xLt"
      },
      "source": [
        "import torch \n",
        "import torch.nn as nn\n",
        "import torchvision\n",
        "import torchvision.transforms as transforms\n",
        "import torch.utils.data as Data\n",
        "from torch.autograd import Variable"
      ],
      "execution_count": 137,
      "outputs": []
    },
    {
      "cell_type": "code",
      "metadata": {
        "id": "GVhcc_OWXoXd"
      },
      "source": [
        "train_data = []\n",
        "test_data = []\n",
        "\n",
        "for i in range(len(train_set_3)):\n",
        "  train_data.append((torch.from_numpy(train_set_3[i]), torch.from_numpy(train_label[i])))\n",
        "\n",
        "for i in range(len(test_set_3)):\n",
        "  test_data.append((torch.from_numpy(test_set_3[i]), torch.from_numpy(test_label[i])))"
      ],
      "execution_count": 138,
      "outputs": []
    },
    {
      "cell_type": "code",
      "metadata": {
        "colab": {
          "base_uri": "https://localhost:8080/"
        },
        "id": "TpRSo888X_J3",
        "outputId": "daff0507-1236-4da5-fe1e-01304257841c"
      },
      "source": [
        "print(len(train_data))\n",
        "print(len(test_data))"
      ],
      "execution_count": 139,
      "outputs": [
        {
          "output_type": "stream",
          "text": [
            "391\n",
            "95\n"
          ],
          "name": "stdout"
        }
      ]
    },
    {
      "cell_type": "code",
      "metadata": {
        "id": "QUITdtRrYCFq"
      },
      "source": [
        "device = torch.device('cuda:0' if torch.cuda.is_available() else 'cpu')"
      ],
      "execution_count": 140,
      "outputs": []
    },
    {
      "cell_type": "code",
      "metadata": {
        "id": "67T5MxEiYQvC"
      },
      "source": [
        "EPOCH = 100\n",
        "BATCH_SIZE = 16\n",
        "LR = 0.00001"
      ],
      "execution_count": 141,
      "outputs": []
    },
    {
      "cell_type": "code",
      "metadata": {
        "colab": {
          "base_uri": "https://localhost:8080/"
        },
        "id": "6KG1fVGXYTGE",
        "outputId": "8bbf7f32-751a-4376-db7d-925dda5ff007"
      },
      "source": [
        "train_loader = Data.DataLoader(dataset=train_data, batch_size=BATCH_SIZE, shuffle=True)\n",
        "\n",
        "train_all_loader = Data.DataLoader(dataset=train_data, batch_size=391, shuffle=False)\n",
        "test_loader = Data.DataLoader(dataset=test_data, batch_size=95, shuffle=False)\n",
        "\n",
        "print(type(train_loader))"
      ],
      "execution_count": 142,
      "outputs": [
        {
          "output_type": "stream",
          "text": [
            "<class 'torch.utils.data.dataloader.DataLoader'>\n"
          ],
          "name": "stdout"
        }
      ]
    },
    {
      "cell_type": "markdown",
      "metadata": {
        "id": "juxFgiCp--6c"
      },
      "source": [
        "Be sure to use the activiation functions that output negative values, such as the tangent hyperbolic function tanh()."
      ]
    },
    {
      "cell_type": "code",
      "metadata": {
        "id": "SIvWAY7oUqQJ"
      },
      "source": [
        "class CNN(nn.Module):\n",
        "    def __init__(self):\n",
        "        super(CNN, self).__init__()\n",
        "        self.conv1 = nn.Sequential(\n",
        "            nn.Conv2d(\n",
        "                in_channels=3,\n",
        "                out_channels=32,\n",
        "                kernel_size=3,\n",
        "                stride=1,\n",
        "                padding=1,\n",
        "            ),\n",
        "            nn.Tanh(),\n",
        "        )\n",
        "        self.conv2 = nn.Sequential(\n",
        "            nn.Conv2d(32, 16, 3, 1, 1),\n",
        "            nn.Tanh(),\n",
        "        )\n",
        "        self.conv3 = nn.Sequential(\n",
        "            nn.Conv2d(16, 1, 3, 1, 1),\n",
        "            nn.Tanh(),\n",
        "        )\n",
        "\n",
        "    def forward(self, x):\n",
        "        x = self.conv1(x)\n",
        "        x = self.conv2(x)\n",
        "        output = self.conv3(x)\n",
        "        #x = x.view(x.size(0), -1)\n",
        "        #output = self.out(x)\n",
        "        return output, x "
      ],
      "execution_count": 143,
      "outputs": []
    },
    {
      "cell_type": "code",
      "metadata": {
        "colab": {
          "base_uri": "https://localhost:8080/"
        },
        "id": "q-BDoSYtYbGO",
        "outputId": "f2a70a92-dd9d-4265-98ab-f00f982f1601"
      },
      "source": [
        "cnn = CNN().double()\n",
        "\n",
        "print(cnn)"
      ],
      "execution_count": 144,
      "outputs": [
        {
          "output_type": "stream",
          "text": [
            "CNN(\n",
            "  (conv1): Sequential(\n",
            "    (0): Conv2d(3, 32, kernel_size=(3, 3), stride=(1, 1), padding=(1, 1))\n",
            "    (1): Tanh()\n",
            "  )\n",
            "  (conv2): Sequential(\n",
            "    (0): Conv2d(32, 16, kernel_size=(3, 3), stride=(1, 1), padding=(1, 1))\n",
            "    (1): Tanh()\n",
            "  )\n",
            "  (conv3): Sequential(\n",
            "    (0): Conv2d(16, 1, kernel_size=(3, 3), stride=(1, 1), padding=(1, 1))\n",
            "    (1): Tanh()\n",
            "  )\n",
            ")\n"
          ],
          "name": "stdout"
        }
      ]
    },
    {
      "cell_type": "code",
      "metadata": {
        "id": "r9tSQ_d3Ybqy"
      },
      "source": [
        "optimizer = torch.optim.Adam(cnn.parameters(), lr=LR)\n",
        "loss_func = nn.MSELoss() "
      ],
      "execution_count": 145,
      "outputs": []
    },
    {
      "cell_type": "code",
      "metadata": {
        "colab": {
          "base_uri": "https://localhost:8080/"
        },
        "id": "MLhUifH6Yd1r",
        "outputId": "2a31d156-16e7-4081-8fa4-2cf38558b111"
      },
      "source": [
        "for epoch in range(EPOCH):\n",
        "    for step, (x, y) in enumerate(train_loader):\n",
        "        b_x = Variable(x)\n",
        "        b_y = Variable(y)\n",
        "\n",
        "        output = cnn(b_x)[0]\n",
        "        #output = output.reshape(-1)\n",
        "        loss = loss_func(output, b_y)\n",
        "        optimizer.zero_grad()\n",
        "        loss.backward()\n",
        "        optimizer.step()\n",
        "\n",
        "    for step, (x, y) in enumerate(train_all_loader):\n",
        "        c_x = Variable(x)\n",
        "        c_y = Variable(y)\n",
        "\n",
        "    for step, (x, y) in enumerate(test_loader):\n",
        "        d_x = Variable(x)\n",
        "        d_y = Variable(y)\n",
        "\n",
        "        if step % 100 == 0:\n",
        "            \n",
        "            pred_train_y, last_layer = cnn(c_x)\n",
        "            train_mse = loss_func(pred_train_y, c_y)\n",
        "\n",
        "            pred_test_y, last_layer = cnn(d_x)\n",
        "            test_mse = loss_func(pred_test_y, d_y)\n",
        "\n",
        "            print('Epoch: ', epoch, '| trainig loss: %.4f' % loss.data, '| training MSE: %.4f' % train_mse, '| test MSE: %.4f' % test_mse)"
      ],
      "execution_count": 146,
      "outputs": [
        {
          "output_type": "stream",
          "text": [
            "Epoch:  0 | trainig loss: 0.2436 | training MSE: 0.2378 | test MSE: 0.4949\n",
            "Epoch:  1 | trainig loss: 0.2410 | training MSE: 0.2264 | test MSE: 0.4623\n",
            "Epoch:  2 | trainig loss: 0.1770 | training MSE: 0.2159 | test MSE: 0.4320\n",
            "Epoch:  3 | trainig loss: 0.0631 | training MSE: 0.2071 | test MSE: 0.4057\n",
            "Epoch:  4 | trainig loss: 0.2575 | training MSE: 0.1996 | test MSE: 0.3830\n",
            "Epoch:  5 | trainig loss: 0.1590 | training MSE: 0.1931 | test MSE: 0.3630\n",
            "Epoch:  6 | trainig loss: 0.1727 | training MSE: 0.1871 | test MSE: 0.3442\n",
            "Epoch:  7 | trainig loss: 0.1645 | training MSE: 0.1824 | test MSE: 0.3298\n",
            "Epoch:  8 | trainig loss: 0.2291 | training MSE: 0.1779 | test MSE: 0.3156\n",
            "Epoch:  9 | trainig loss: 0.1882 | training MSE: 0.1739 | test MSE: 0.3032\n",
            "Epoch:  10 | trainig loss: 0.1286 | training MSE: 0.1704 | test MSE: 0.2928\n",
            "Epoch:  11 | trainig loss: 0.1080 | training MSE: 0.1675 | test MSE: 0.2838\n",
            "Epoch:  12 | trainig loss: 0.2123 | training MSE: 0.1647 | test MSE: 0.2757\n",
            "Epoch:  13 | trainig loss: 0.2349 | training MSE: 0.1622 | test MSE: 0.2682\n",
            "Epoch:  14 | trainig loss: 0.1647 | training MSE: 0.1600 | test MSE: 0.2611\n",
            "Epoch:  15 | trainig loss: 0.1680 | training MSE: 0.1580 | test MSE: 0.2558\n",
            "Epoch:  16 | trainig loss: 0.1711 | training MSE: 0.1560 | test MSE: 0.2504\n",
            "Epoch:  17 | trainig loss: 0.2705 | training MSE: 0.1543 | test MSE: 0.2460\n",
            "Epoch:  18 | trainig loss: 0.0703 | training MSE: 0.1528 | test MSE: 0.2416\n",
            "Epoch:  19 | trainig loss: 0.1386 | training MSE: 0.1513 | test MSE: 0.2378\n",
            "Epoch:  20 | trainig loss: 0.1168 | training MSE: 0.1500 | test MSE: 0.2344\n",
            "Epoch:  21 | trainig loss: 0.1516 | training MSE: 0.1487 | test MSE: 0.2314\n",
            "Epoch:  22 | trainig loss: 0.2334 | training MSE: 0.1475 | test MSE: 0.2284\n",
            "Epoch:  23 | trainig loss: 0.2036 | training MSE: 0.1465 | test MSE: 0.2259\n",
            "Epoch:  24 | trainig loss: 0.1135 | training MSE: 0.1455 | test MSE: 0.2236\n",
            "Epoch:  25 | trainig loss: 0.1095 | training MSE: 0.1446 | test MSE: 0.2215\n",
            "Epoch:  26 | trainig loss: 0.1028 | training MSE: 0.1437 | test MSE: 0.2195\n",
            "Epoch:  27 | trainig loss: 0.1012 | training MSE: 0.1429 | test MSE: 0.2179\n",
            "Epoch:  28 | trainig loss: 0.1362 | training MSE: 0.1422 | test MSE: 0.2161\n",
            "Epoch:  29 | trainig loss: 0.2180 | training MSE: 0.1415 | test MSE: 0.2149\n",
            "Epoch:  30 | trainig loss: 0.1986 | training MSE: 0.1408 | test MSE: 0.2134\n",
            "Epoch:  31 | trainig loss: 0.1217 | training MSE: 0.1402 | test MSE: 0.2119\n",
            "Epoch:  32 | trainig loss: 0.2095 | training MSE: 0.1396 | test MSE: 0.2106\n",
            "Epoch:  33 | trainig loss: 0.1333 | training MSE: 0.1391 | test MSE: 0.2096\n",
            "Epoch:  34 | trainig loss: 0.2963 | training MSE: 0.1386 | test MSE: 0.2085\n",
            "Epoch:  35 | trainig loss: 0.0769 | training MSE: 0.1382 | test MSE: 0.2074\n",
            "Epoch:  36 | trainig loss: 0.1731 | training MSE: 0.1378 | test MSE: 0.2068\n",
            "Epoch:  37 | trainig loss: 0.0998 | training MSE: 0.1374 | test MSE: 0.2064\n",
            "Epoch:  38 | trainig loss: 0.1562 | training MSE: 0.1370 | test MSE: 0.2052\n",
            "Epoch:  39 | trainig loss: 0.1622 | training MSE: 0.1367 | test MSE: 0.2047\n",
            "Epoch:  40 | trainig loss: 0.1430 | training MSE: 0.1363 | test MSE: 0.2033\n",
            "Epoch:  41 | trainig loss: 0.1247 | training MSE: 0.1360 | test MSE: 0.2028\n",
            "Epoch:  42 | trainig loss: 0.0595 | training MSE: 0.1358 | test MSE: 0.2027\n",
            "Epoch:  43 | trainig loss: 0.0656 | training MSE: 0.1355 | test MSE: 0.2019\n",
            "Epoch:  44 | trainig loss: 0.0921 | training MSE: 0.1353 | test MSE: 0.2014\n",
            "Epoch:  45 | trainig loss: 0.0740 | training MSE: 0.1351 | test MSE: 0.2004\n",
            "Epoch:  46 | trainig loss: 0.1673 | training MSE: 0.1348 | test MSE: 0.2002\n",
            "Epoch:  47 | trainig loss: 0.1359 | training MSE: 0.1346 | test MSE: 0.2004\n",
            "Epoch:  48 | trainig loss: 0.0705 | training MSE: 0.1344 | test MSE: 0.1999\n",
            "Epoch:  49 | trainig loss: 0.0694 | training MSE: 0.1343 | test MSE: 0.1997\n",
            "Epoch:  50 | trainig loss: 0.1325 | training MSE: 0.1341 | test MSE: 0.1989\n",
            "Epoch:  51 | trainig loss: 0.0725 | training MSE: 0.1339 | test MSE: 0.1988\n",
            "Epoch:  52 | trainig loss: 0.0769 | training MSE: 0.1338 | test MSE: 0.1982\n",
            "Epoch:  53 | trainig loss: 0.1303 | training MSE: 0.1337 | test MSE: 0.1977\n",
            "Epoch:  54 | trainig loss: 0.2252 | training MSE: 0.1335 | test MSE: 0.1979\n",
            "Epoch:  55 | trainig loss: 0.0724 | training MSE: 0.1334 | test MSE: 0.1972\n",
            "Epoch:  56 | trainig loss: 0.1612 | training MSE: 0.1333 | test MSE: 0.1970\n",
            "Epoch:  57 | trainig loss: 0.1498 | training MSE: 0.1331 | test MSE: 0.1970\n",
            "Epoch:  58 | trainig loss: 0.2290 | training MSE: 0.1330 | test MSE: 0.1964\n",
            "Epoch:  59 | trainig loss: 0.1329 | training MSE: 0.1329 | test MSE: 0.1963\n",
            "Epoch:  60 | trainig loss: 0.1025 | training MSE: 0.1328 | test MSE: 0.1961\n",
            "Epoch:  61 | trainig loss: 0.1799 | training MSE: 0.1327 | test MSE: 0.1960\n",
            "Epoch:  62 | trainig loss: 0.1468 | training MSE: 0.1326 | test MSE: 0.1956\n",
            "Epoch:  63 | trainig loss: 0.1576 | training MSE: 0.1325 | test MSE: 0.1957\n",
            "Epoch:  64 | trainig loss: 0.0992 | training MSE: 0.1324 | test MSE: 0.1953\n",
            "Epoch:  65 | trainig loss: 0.0801 | training MSE: 0.1323 | test MSE: 0.1950\n",
            "Epoch:  66 | trainig loss: 0.1705 | training MSE: 0.1322 | test MSE: 0.1943\n",
            "Epoch:  67 | trainig loss: 0.1081 | training MSE: 0.1321 | test MSE: 0.1946\n",
            "Epoch:  68 | trainig loss: 0.1247 | training MSE: 0.1320 | test MSE: 0.1944\n",
            "Epoch:  69 | trainig loss: 0.1294 | training MSE: 0.1320 | test MSE: 0.1946\n",
            "Epoch:  70 | trainig loss: 0.1057 | training MSE: 0.1319 | test MSE: 0.1945\n",
            "Epoch:  71 | trainig loss: 0.0775 | training MSE: 0.1318 | test MSE: 0.1944\n",
            "Epoch:  72 | trainig loss: 0.2075 | training MSE: 0.1317 | test MSE: 0.1938\n",
            "Epoch:  73 | trainig loss: 0.1095 | training MSE: 0.1317 | test MSE: 0.1938\n",
            "Epoch:  74 | trainig loss: 0.1212 | training MSE: 0.1316 | test MSE: 0.1936\n",
            "Epoch:  75 | trainig loss: 0.2492 | training MSE: 0.1315 | test MSE: 0.1939\n",
            "Epoch:  76 | trainig loss: 0.0697 | training MSE: 0.1315 | test MSE: 0.1935\n",
            "Epoch:  77 | trainig loss: 0.1241 | training MSE: 0.1314 | test MSE: 0.1935\n",
            "Epoch:  78 | trainig loss: 0.1346 | training MSE: 0.1313 | test MSE: 0.1928\n",
            "Epoch:  79 | trainig loss: 0.0656 | training MSE: 0.1313 | test MSE: 0.1928\n",
            "Epoch:  80 | trainig loss: 0.0862 | training MSE: 0.1312 | test MSE: 0.1928\n",
            "Epoch:  81 | trainig loss: 0.0691 | training MSE: 0.1312 | test MSE: 0.1931\n",
            "Epoch:  82 | trainig loss: 0.0922 | training MSE: 0.1311 | test MSE: 0.1928\n",
            "Epoch:  83 | trainig loss: 0.1728 | training MSE: 0.1310 | test MSE: 0.1928\n",
            "Epoch:  84 | trainig loss: 0.0810 | training MSE: 0.1310 | test MSE: 0.1924\n",
            "Epoch:  85 | trainig loss: 0.0713 | training MSE: 0.1309 | test MSE: 0.1925\n",
            "Epoch:  86 | trainig loss: 0.0796 | training MSE: 0.1309 | test MSE: 0.1925\n",
            "Epoch:  87 | trainig loss: 0.1736 | training MSE: 0.1308 | test MSE: 0.1920\n",
            "Epoch:  88 | trainig loss: 0.0481 | training MSE: 0.1308 | test MSE: 0.1921\n",
            "Epoch:  89 | trainig loss: 0.2163 | training MSE: 0.1307 | test MSE: 0.1916\n",
            "Epoch:  90 | trainig loss: 0.1027 | training MSE: 0.1306 | test MSE: 0.1914\n",
            "Epoch:  91 | trainig loss: 0.1220 | training MSE: 0.1306 | test MSE: 0.1916\n",
            "Epoch:  92 | trainig loss: 0.1446 | training MSE: 0.1305 | test MSE: 0.1916\n",
            "Epoch:  93 | trainig loss: 0.2151 | training MSE: 0.1305 | test MSE: 0.1916\n",
            "Epoch:  94 | trainig loss: 0.1245 | training MSE: 0.1304 | test MSE: 0.1911\n",
            "Epoch:  95 | trainig loss: 0.0560 | training MSE: 0.1304 | test MSE: 0.1911\n",
            "Epoch:  96 | trainig loss: 0.2442 | training MSE: 0.1303 | test MSE: 0.1910\n",
            "Epoch:  97 | trainig loss: 0.1448 | training MSE: 0.1303 | test MSE: 0.1909\n",
            "Epoch:  98 | trainig loss: 0.0757 | training MSE: 0.1303 | test MSE: 0.1914\n",
            "Epoch:  99 | trainig loss: 0.0955 | training MSE: 0.1302 | test MSE: 0.1917\n"
          ],
          "name": "stdout"
        }
      ]
    },
    {
      "cell_type": "code",
      "metadata": {
        "colab": {
          "base_uri": "https://localhost:8080/"
        },
        "id": "u_Efgt2KbWGg",
        "outputId": "1ae92171-2a6b-4d03-a8ee-f30115489264"
      },
      "source": [
        "print(type(pred_test_y))\n",
        "print(pred_test_y.shape)\n",
        "print(pred_test_y)"
      ],
      "execution_count": 147,
      "outputs": [
        {
          "output_type": "stream",
          "text": [
            "<class 'torch.Tensor'>\n",
            "torch.Size([95, 1, 30, 10])\n",
            "tensor([[[[-8.0830e-02, -1.7776e-01, -1.6100e-01,  ..., -4.9637e-02,\n",
            "           -3.3443e-02, -3.1255e-02],\n",
            "          [-1.3690e-01, -2.5660e-01, -2.4801e-01,  ..., -7.3221e-02,\n",
            "           -2.3722e-02, -5.0684e-03],\n",
            "          [-1.3052e-01, -2.1607e-01, -2.2000e-01,  ..., -2.8455e-02,\n",
            "            2.1545e-02,  2.9644e-02],\n",
            "          ...,\n",
            "          [-1.4223e-02, -3.3997e-02, -3.2520e-02,  ...,  5.2583e-01,\n",
            "            4.1192e-01,  2.2336e-01],\n",
            "          [-1.1344e-02, -3.0682e-02, -2.3693e-02,  ...,  5.0303e-01,\n",
            "            4.2883e-01,  2.4830e-01],\n",
            "          [-1.4350e-02, -1.7689e-02, -2.0690e-02,  ...,  2.8884e-01,\n",
            "            2.7076e-01,  1.6198e-01]]],\n",
            "\n",
            "\n",
            "        [[[ 1.6259e-01,  3.3281e-01,  4.1717e-01,  ...,  5.3648e-01,\n",
            "            4.9331e-01,  3.1948e-01],\n",
            "          [ 2.8169e-01,  4.1745e-01,  5.7256e-01,  ...,  7.3177e-01,\n",
            "            6.9404e-01,  5.2715e-01],\n",
            "          [ 2.6525e-01,  3.0221e-01,  5.2792e-01,  ...,  7.6573e-01,\n",
            "            7.3769e-01,  5.8399e-01],\n",
            "          ...,\n",
            "          [-1.4223e-02, -3.3997e-02, -3.3384e-02,  ..., -1.3881e-01,\n",
            "           -2.0656e-01, -1.7724e-01],\n",
            "          [-1.1344e-02, -3.0682e-02, -1.9888e-02,  ..., -1.7316e-01,\n",
            "           -2.0571e-01, -1.6685e-01],\n",
            "          [-1.4350e-02, -1.7689e-02, -5.2055e-03,  ..., -1.1959e-01,\n",
            "           -1.2745e-01, -1.1613e-01]]],\n",
            "\n",
            "\n",
            "        [[[ 3.1130e-01,  5.3731e-01,  6.3078e-01,  ...,  6.6648e-01,\n",
            "            6.0663e-01,  4.2507e-01],\n",
            "          [ 4.2834e-01,  6.3391e-01,  7.7745e-01,  ...,  8.3318e-01,\n",
            "            7.9417e-01,  6.6490e-01],\n",
            "          [ 4.1802e-01,  4.5985e-01,  7.5480e-01,  ...,  8.5865e-01,\n",
            "            8.2637e-01,  7.1486e-01],\n",
            "          ...,\n",
            "          [-1.4223e-02, -3.3997e-02, -1.8619e-02,  ...,  3.3489e-01,\n",
            "            2.6224e-01,  1.5843e-01],\n",
            "          [-1.1344e-02, -3.0682e-02, -1.2976e-02,  ...,  2.4697e-01,\n",
            "            1.9245e-01,  1.1996e-01],\n",
            "          [-1.4350e-02, -1.7689e-02, -6.8673e-03,  ...,  1.2134e-01,\n",
            "            1.0261e-01,  5.6500e-02]]],\n",
            "\n",
            "\n",
            "        ...,\n",
            "\n",
            "\n",
            "        [[[ 7.0958e-02,  1.9271e-01,  3.2913e-01,  ...,  5.2339e-01,\n",
            "            4.7986e-01,  3.1048e-01],\n",
            "          [ 5.6984e-02,  1.9225e-01,  4.2697e-01,  ...,  6.7520e-01,\n",
            "            6.5383e-01,  5.4851e-01],\n",
            "          [ 1.2098e-03,  5.4969e-02,  4.0664e-01,  ...,  7.0078e-01,\n",
            "            6.8908e-01,  5.9928e-01],\n",
            "          ...,\n",
            "          [-1.4223e-02, -3.3997e-02, -1.6294e-02,  ...,  4.5846e-01,\n",
            "            4.0819e-01,  3.2177e-01],\n",
            "          [-1.1344e-02, -3.0682e-02, -8.4556e-03,  ...,  4.0561e-01,\n",
            "            4.0890e-01,  3.5230e-01],\n",
            "          [-1.4350e-02, -1.7689e-02, -3.1395e-03,  ...,  2.1658e-01,\n",
            "            2.3660e-01,  2.2577e-01]]],\n",
            "\n",
            "\n",
            "        [[[ 1.2378e-01,  2.8746e-01,  4.1508e-01,  ...,  5.0484e-01,\n",
            "            4.4479e-01,  2.4914e-01],\n",
            "          [ 1.3797e-01,  3.0974e-01,  5.2600e-01,  ...,  6.5178e-01,\n",
            "            6.1010e-01,  4.7697e-01],\n",
            "          [ 7.8298e-02,  1.3847e-01,  4.7592e-01,  ...,  6.7138e-01,\n",
            "            6.4287e-01,  5.3313e-01],\n",
            "          ...,\n",
            "          [-1.4223e-02, -3.3997e-02, -1.4330e-02,  ...,  3.2826e-01,\n",
            "            3.8783e-01,  3.4732e-01],\n",
            "          [-1.1344e-02, -3.0682e-02, -6.2967e-03,  ...,  3.0980e-01,\n",
            "            4.0799e-01,  3.9267e-01],\n",
            "          [-1.4350e-02, -1.7689e-02, -3.0960e-04,  ...,  1.6154e-01,\n",
            "            2.4128e-01,  2.5979e-01]]],\n",
            "\n",
            "\n",
            "        [[[ 2.5816e-01,  4.7259e-01,  5.5091e-01,  ...,  5.3708e-01,\n",
            "            4.9156e-01,  2.9947e-01],\n",
            "          [ 3.3140e-01,  5.4284e-01,  6.8968e-01,  ...,  7.0482e-01,\n",
            "            6.7318e-01,  5.3767e-01],\n",
            "          [ 2.8488e-01,  3.4224e-01,  6.5636e-01,  ...,  7.4172e-01,\n",
            "            7.1809e-01,  6.0235e-01],\n",
            "          ...,\n",
            "          [-1.4223e-02, -3.3997e-02, -2.0923e-02,  ...,  4.8370e-01,\n",
            "            4.0203e-01,  2.8736e-01],\n",
            "          [-1.1344e-02, -3.0682e-02, -1.5633e-02,  ...,  4.0095e-01,\n",
            "            3.7416e-01,  2.9781e-01],\n",
            "          [-1.4350e-02, -1.7689e-02, -1.4173e-02,  ...,  2.0021e-01,\n",
            "            2.1209e-01,  1.8598e-01]]]], dtype=torch.float64,\n",
            "       grad_fn=<TanhBackward>)\n"
          ],
          "name": "stdout"
        }
      ]
    },
    {
      "cell_type": "code",
      "metadata": {
        "colab": {
          "base_uri": "https://localhost:8080/"
        },
        "id": "iYs41i8Mb74c",
        "outputId": "b29f23b2-0836-4950-f0c8-26b2dd3b62c4"
      },
      "source": [
        "print(type(d_y))\n",
        "print(d_y.shape)\n",
        "print(d_y)"
      ],
      "execution_count": 148,
      "outputs": [
        {
          "output_type": "stream",
          "text": [
            "<class 'torch.Tensor'>\n",
            "torch.Size([95, 1, 30, 10])\n",
            "tensor([[[[ 6.2536e-01,  5.8061e-01,  6.6285e-01,  ...,  7.5132e-01,\n",
            "            7.1064e-01,  6.1276e-01],\n",
            "          [ 6.3944e-01,  5.7550e-01,  6.6355e-01,  ...,  8.2139e-01,\n",
            "            7.8756e-01,  6.8570e-01],\n",
            "          [ 6.3832e-01,  0.0000e+00,  6.5160e-01,  ...,  8.6377e-01,\n",
            "            8.3471e-01,  7.3221e-01],\n",
            "          ...,\n",
            "          [ 0.0000e+00,  0.0000e+00,  0.0000e+00,  ..., -7.0090e-02,\n",
            "           -1.0556e-01, -1.0924e-01],\n",
            "          [ 0.0000e+00,  0.0000e+00,  0.0000e+00,  ..., -1.5822e-01,\n",
            "           -1.5573e-01, -1.3381e-01],\n",
            "          [ 0.0000e+00,  0.0000e+00,  0.0000e+00,  ..., -2.6326e-01,\n",
            "           -2.1767e-01, -1.6088e-01]]],\n",
            "\n",
            "\n",
            "        [[[ 1.3124e+00,  1.3704e+00,  1.4696e+00,  ...,  1.3076e+00,\n",
            "            1.2208e+00,  1.1248e+00],\n",
            "          [ 1.3903e+00,  1.4506e+00,  1.5430e+00,  ...,  1.3910e+00,\n",
            "            1.2979e+00,  1.1949e+00],\n",
            "          [ 1.4542e+00,  0.0000e+00,  1.5609e+00,  ...,  1.4251e+00,\n",
            "            1.3327e+00,  1.2340e+00],\n",
            "          ...,\n",
            "          [ 0.0000e+00,  0.0000e+00,  0.0000e+00,  ...,  2.3639e-01,\n",
            "            1.3212e-01,  6.7997e-02],\n",
            "          [ 0.0000e+00,  0.0000e+00,  0.0000e+00,  ...,  1.5671e-01,\n",
            "            7.2675e-02,  1.2951e-03],\n",
            "          [ 0.0000e+00,  0.0000e+00,  0.0000e+00,  ...,  7.7724e-02,\n",
            "            3.2055e-02, -4.1994e-02]]],\n",
            "\n",
            "\n",
            "        [[[ 7.8442e-01,  8.5218e-01,  8.9952e-01,  ...,  7.9941e-01,\n",
            "            7.6697e-01,  7.5852e-01],\n",
            "          [ 9.1556e-01,  9.8083e-01,  1.0049e+00,  ...,  8.6379e-01,\n",
            "            8.2278e-01,  8.0860e-01],\n",
            "          [ 9.7257e-01,  0.0000e+00,  1.0294e+00,  ...,  8.8026e-01,\n",
            "            8.4123e-01,  8.3241e-01],\n",
            "          ...,\n",
            "          [ 0.0000e+00,  0.0000e+00,  0.0000e+00,  ...,  5.1916e-01,\n",
            "            3.7544e-01,  2.5858e-01],\n",
            "          [ 0.0000e+00,  0.0000e+00,  0.0000e+00,  ...,  4.8689e-01,\n",
            "            3.6601e-01,  2.4860e-01],\n",
            "          [ 0.0000e+00,  0.0000e+00,  0.0000e+00,  ...,  4.0743e-01,\n",
            "            3.0418e-01,  2.1208e-01]]],\n",
            "\n",
            "\n",
            "        ...,\n",
            "\n",
            "\n",
            "        [[[ 3.7045e-01,  5.1006e-01,  6.7272e-01,  ...,  7.4688e-01,\n",
            "            6.1223e-01,  5.3317e-01],\n",
            "          [ 3.2805e-01,  4.8064e-01,  6.6453e-01,  ...,  8.0834e-01,\n",
            "            7.0662e-01,  6.1787e-01],\n",
            "          [ 2.1910e-01,  0.0000e+00,  5.9277e-01,  ...,  8.2063e-01,\n",
            "            7.4330e-01,  6.7887e-01],\n",
            "          ...,\n",
            "          [ 0.0000e+00,  0.0000e+00,  0.0000e+00,  ...,  3.8812e-01,\n",
            "            4.7517e-01,  4.8207e-01],\n",
            "          [ 0.0000e+00,  0.0000e+00,  0.0000e+00,  ...,  4.2969e-01,\n",
            "            5.6750e-01,  5.9525e-01],\n",
            "          [ 0.0000e+00,  0.0000e+00,  0.0000e+00,  ...,  4.4843e-01,\n",
            "            6.2026e-01,  6.7171e-01]]],\n",
            "\n",
            "\n",
            "        [[[ 8.6030e-01,  9.5641e-01,  9.6420e-01,  ...,  8.2343e-01,\n",
            "            7.2549e-01,  6.5067e-01],\n",
            "          [ 9.0374e-01,  1.0068e+00,  9.9248e-01,  ...,  8.8655e-01,\n",
            "            8.2127e-01,  7.3881e-01],\n",
            "          [ 8.4714e-01,  0.0000e+00,  9.4061e-01,  ...,  9.4066e-01,\n",
            "            8.9156e-01,  8.2610e-01],\n",
            "          ...,\n",
            "          [ 0.0000e+00,  0.0000e+00,  0.0000e+00,  ...,  4.3795e-01,\n",
            "            3.1988e-01,  2.5882e-01],\n",
            "          [ 0.0000e+00,  0.0000e+00,  0.0000e+00,  ...,  4.3746e-01,\n",
            "            3.2741e-01,  2.5396e-01],\n",
            "          [ 0.0000e+00,  0.0000e+00,  0.0000e+00,  ...,  3.3984e-01,\n",
            "            2.8292e-01,  2.5658e-01]]],\n",
            "\n",
            "\n",
            "        [[[-4.7243e-02,  1.0369e-01,  2.1033e-01,  ...,  1.7179e-01,\n",
            "            2.5718e-01,  3.1928e-01],\n",
            "          [-3.1575e-03,  1.6256e-01,  2.6544e-01,  ...,  2.5901e-01,\n",
            "            3.5909e-01,  3.9996e-01],\n",
            "          [ 2.3922e-02,  0.0000e+00,  2.6673e-01,  ...,  3.2095e-01,\n",
            "            4.1893e-01,  4.4022e-01],\n",
            "          ...,\n",
            "          [ 0.0000e+00,  0.0000e+00,  0.0000e+00,  ...,  4.6548e-01,\n",
            "            2.4622e-01,  1.2036e-01],\n",
            "          [ 0.0000e+00,  0.0000e+00,  0.0000e+00,  ...,  4.6251e-01,\n",
            "            2.9991e-01,  1.6739e-01],\n",
            "          [ 0.0000e+00,  0.0000e+00,  0.0000e+00,  ...,  3.1415e-01,\n",
            "            2.6394e-01,  2.0507e-01]]]], dtype=torch.float64)\n"
          ],
          "name": "stdout"
        }
      ]
    },
    {
      "cell_type": "code",
      "metadata": {
        "id": "R9mWfU0BcMO8"
      },
      "source": [
        "pred_test_y_array = np.squeeze(pred_test_y.detach().cpu().numpy())\n",
        "test_y_array = np.squeeze(test_label, axis=1)"
      ],
      "execution_count": 149,
      "outputs": []
    },
    {
      "cell_type": "code",
      "metadata": {
        "colab": {
          "base_uri": "https://localhost:8080/",
          "height": 736
        },
        "id": "tCAJgmzXdNCC",
        "outputId": "d7e7fc3c-c127-4ea8-9b2a-5f014f4ab44e"
      },
      "source": [
        "import matplotlib.pyplot as plt\n",
        "from matplotlib.colors import DivergingNorm\n",
        "import random\n",
        "\n",
        "def plot_map(index, y, pred, axx):\n",
        "  norm = DivergingNorm(vcenter=0, vmax=3, vmin=-3)\n",
        "  if pred == True:\n",
        "    axx.imshow(y[index], cmap = 'RdBu_r', norm=norm, interpolation='none')\n",
        "    axx.set_title('Predicted SST Anomaly Map', fontsize=15)\n",
        "  else:\n",
        "    axx.imshow(y[index], cmap = 'RdBu_r', norm=norm, interpolation='none')\n",
        "    axx.set_title('Observed SST Anomaly Map', fontsize=15)\n",
        "\n",
        "rand_index = random.sample(range(0, len(pred_test_y_array)), 4)\n",
        "fig, ax = plt.subplots(nrows=2,  ncols=4, figsize=(20, 10))\n",
        "j = 0\n",
        "\n",
        "for i in rand_index:\n",
        "  print('Index: ' + str(i))\n",
        "  plot_map(i, pred_test_y_array, True, ax[0][j])\n",
        "  plot_map(i, test_y_array, False, ax[1][j])\n",
        "  j += 1"
      ],
      "execution_count": 155,
      "outputs": [
        {
          "output_type": "stream",
          "text": [
            "Index: 30\n",
            "Index: 78\n",
            "Index: 62\n",
            "Index: 10\n"
          ],
          "name": "stdout"
        },
        {
          "output_type": "stream",
          "text": [
            "/usr/local/lib/python3.7/dist-packages/ipykernel_launcher.py:6: MatplotlibDeprecationWarning: \n",
            "The DivergingNorm class was deprecated in Matplotlib 3.2 and will be removed two minor releases later. Use TwoSlopeNorm instead.\n",
            "  \n"
          ],
          "name": "stderr"
        },
        {
          "output_type": "display_data",
          "data": {
            "image/png": "[encoded data removed]",
            "text/plain": [
              "<Figure size 1440x720 with 8 Axes>"
            ]
          },
          "metadata": {
            "tags": [],
            "needs_background": "light"
          }
        }
      ]
    },
    {
      "cell_type": "markdown",
      "metadata": {
        "id": "xK4dTHXcoJHH"
      },
      "source": [
        "Then, we train another model, using one month anomaly map to predict the average SST value in the next month."
      ]
    },
    {
      "cell_type": "code",
      "metadata": {
        "id": "EiaVMN_2x3eA"
      },
      "source": [
        "with open('/gdrive/My Drive/GODAS/anomaly_sets_1_values.txt', 'r') as in_file:\n",
        "    data_sets = json.load(in_file)"
      ],
      "execution_count": 62,
      "outputs": []
    },
    {
      "cell_type": "code",
      "metadata": {
        "id": "zabsSMw7x-ig"
      },
      "source": [
        "train_set = np.array(data_sets[0])\n",
        "test_set = np.array(data_sets[1])\n",
        "train_label = np.array(data_sets[2])\n",
        "test_label = np.array(data_sets[3])"
      ],
      "execution_count": 63,
      "outputs": []
    },
    {
      "cell_type": "code",
      "metadata": {
        "colab": {
          "base_uri": "https://localhost:8080/"
        },
        "id": "Y5NpPzQ-yJ4Q",
        "outputId": "db5b9e06-c5fe-4492-8230-4ea3e3253077"
      },
      "source": [
        "print(train_set.shape)\n",
        "print(test_set.shape)\n",
        "print(train_label.shape)\n",
        "print(test_label.shape)"
      ],
      "execution_count": 64,
      "outputs": [
        {
          "output_type": "stream",
          "text": [
            "(393, 1, 30, 10)\n",
            "(97, 1, 30, 10)\n",
            "(393,)\n",
            "(97,)\n"
          ],
          "name": "stdout"
        }
      ]
    },
    {
      "cell_type": "code",
      "metadata": {
        "id": "Z1IFJj_szLFB"
      },
      "source": [
        "train_data = []\n",
        "test_data = []\n",
        "\n",
        "for i in range(len(train_set)):\n",
        "  train_data.append((torch.from_numpy(train_set[i]), train_label[i]))\n",
        "\n",
        "for i in range(len(test_set)):\n",
        "  test_data.append((torch.from_numpy(test_set[i]), test_label[i]))"
      ],
      "execution_count": 65,
      "outputs": []
    },
    {
      "cell_type": "code",
      "metadata": {
        "id": "3GlrWVALzaAy"
      },
      "source": [
        "EPOCH = 50\n",
        "BATCH_SIZE = 8\n",
        "LR = 0.00001"
      ],
      "execution_count": 66,
      "outputs": []
    },
    {
      "cell_type": "code",
      "metadata": {
        "colab": {
          "base_uri": "https://localhost:8080/"
        },
        "id": "v64uhrljzch_",
        "outputId": "6edfa472-6302-4457-da0a-e45de5bbb477"
      },
      "source": [
        "train_loader = Data.DataLoader(dataset=train_data, batch_size=BATCH_SIZE, shuffle=True)\n",
        "\n",
        "train_all_loader = Data.DataLoader(dataset=train_data, batch_size=393, shuffle=False)\n",
        "test_loader = Data.DataLoader(dataset=test_data, batch_size=97, shuffle=False)\n",
        "\n",
        "print(type(train_loader))"
      ],
      "execution_count": 67,
      "outputs": [
        {
          "output_type": "stream",
          "text": [
            "<class 'torch.utils.data.dataloader.DataLoader'>\n"
          ],
          "name": "stdout"
        }
      ]
    },
    {
      "cell_type": "code",
      "metadata": {
        "id": "mAQrYP05zkJ_"
      },
      "source": [
        "class CNN(nn.Module):\n",
        "    def __init__(self):\n",
        "        super(CNN, self).__init__()\n",
        "        self.conv1 = nn.Sequential(\n",
        "            nn.Conv2d(\n",
        "                in_channels=1,\n",
        "                out_channels=32,\n",
        "                kernel_size=3,\n",
        "                stride=1,\n",
        "                padding=1,\n",
        "            ),\n",
        "            nn.Tanh(),\n",
        "            nn.MaxPool2d(kernel_size=2),\n",
        "        )\n",
        "        self.conv2 = nn.Sequential(\n",
        "            nn.Conv2d(32, 16, 3, 1, 1),\n",
        "            nn.Tanh(),\n",
        "        )\n",
        "        self.out = nn.Linear(16 * 15 * 5, 1)\n",
        "\n",
        "    def forward(self, x):\n",
        "        x = self.conv1(x)\n",
        "        x = self.conv2(x)\n",
        "        x = x.view(x.size(0), -1)\n",
        "        output = self.out(x)\n",
        "        return output, x "
      ],
      "execution_count": 68,
      "outputs": []
    },
    {
      "cell_type": "code",
      "metadata": {
        "colab": {
          "base_uri": "https://localhost:8080/"
        },
        "id": "rcWVSy8Uz08h",
        "outputId": "a30d68c8-24fe-4ba0-fce8-3e2a48193c0b"
      },
      "source": [
        "cnn = CNN().double()\n",
        "\n",
        "print(cnn)"
      ],
      "execution_count": 69,
      "outputs": [
        {
          "output_type": "stream",
          "text": [
            "CNN(\n",
            "  (conv1): Sequential(\n",
            "    (0): Conv2d(1, 32, kernel_size=(3, 3), stride=(1, 1), padding=(1, 1))\n",
            "    (1): Tanh()\n",
            "    (2): MaxPool2d(kernel_size=2, stride=2, padding=0, dilation=1, ceil_mode=False)\n",
            "  )\n",
            "  (conv2): Sequential(\n",
            "    (0): Conv2d(32, 16, kernel_size=(3, 3), stride=(1, 1), padding=(1, 1))\n",
            "    (1): Tanh()\n",
            "  )\n",
            "  (out): Linear(in_features=1200, out_features=1, bias=True)\n",
            ")\n"
          ],
          "name": "stdout"
        }
      ]
    },
    {
      "cell_type": "code",
      "metadata": {
        "id": "2uucn3Nqz3bM"
      },
      "source": [
        "optimizer = torch.optim.Adam(cnn.parameters(), lr=LR)\n",
        "loss_func = nn.MSELoss() "
      ],
      "execution_count": 70,
      "outputs": []
    },
    {
      "cell_type": "code",
      "metadata": {
        "colab": {
          "base_uri": "https://localhost:8080/"
        },
        "id": "NqyzqGBMz557",
        "outputId": "c2fa40c6-b7f5-4ca9-dbd7-46d0ad656a95"
      },
      "source": [
        "for epoch in range(EPOCH):\n",
        "    for step, (x, y) in enumerate(train_loader):\n",
        "        b_x = Variable(x)\n",
        "        b_y = Variable(y)\n",
        "\n",
        "        output = cnn(b_x)[0]\n",
        "        output = output.reshape(-1) # To avoid different sizes\n",
        "        loss = loss_func(output, b_y)\n",
        "        optimizer.zero_grad()\n",
        "        loss.backward()\n",
        "        optimizer.step()\n",
        "\n",
        "    for step, (x, y) in enumerate(train_all_loader):\n",
        "        c_x = Variable(x)\n",
        "        c_y = Variable(y)\n",
        "\n",
        "    for step, (x, y) in enumerate(test_loader):\n",
        "        d_x = Variable(x)\n",
        "        d_y = Variable(y)\n",
        "\n",
        "        if step % 100 == 0:\n",
        "            \n",
        "            pred_train_y, last_layer = cnn(c_x)\n",
        "            train_mse = loss_func(pred_train_y, c_y)\n",
        "\n",
        "            pred_test_y, last_layer = cnn(d_x)\n",
        "            test_mse = loss_func(pred_test_y, d_y)\n",
        "\n",
        "            print('Epoch: ', epoch, '| trainig loss: %.4f' % loss.data, '| training MSE: %.4f' % train_mse, '| test MSE: %.4f' % test_mse)"
      ],
      "execution_count": 71,
      "outputs": [
        {
          "output_type": "stream",
          "text": [
            "/usr/local/lib/python3.7/dist-packages/torch/nn/modules/loss.py:528: UserWarning: Using a target size (torch.Size([393])) that is different to the input size (torch.Size([393, 1])). This will likely lead to incorrect results due to broadcasting. Please ensure they have the same size.\n",
            "  return F.mse_loss(input, target, reduction=self.reduction)\n",
            "/usr/local/lib/python3.7/dist-packages/torch/nn/modules/loss.py:528: UserWarning: Using a target size (torch.Size([97])) that is different to the input size (torch.Size([97, 1])). This will likely lead to incorrect results due to broadcasting. Please ensure they have the same size.\n",
            "  return F.mse_loss(input, target, reduction=self.reduction)\n"
          ],
          "name": "stderr"
        },
        {
          "output_type": "stream",
          "text": [
            "Epoch:  0 | trainig loss: 0.1001 | training MSE: 0.3409 | test MSE: 0.6129\n",
            "Epoch:  1 | trainig loss: 0.0239 | training MSE: 0.3372 | test MSE: 0.5724\n",
            "Epoch:  2 | trainig loss: 0.4438 | training MSE: 0.3434 | test MSE: 0.5371\n",
            "Epoch:  3 | trainig loss: 0.1347 | training MSE: 0.3576 | test MSE: 0.5037\n",
            "Epoch:  4 | trainig loss: 0.0987 | training MSE: 0.3756 | test MSE: 0.4821\n",
            "Epoch:  5 | trainig loss: 0.1030 | training MSE: 0.3955 | test MSE: 0.4658\n",
            "Epoch:  6 | trainig loss: 0.0023 | training MSE: 0.4170 | test MSE: 0.4511\n",
            "Epoch:  7 | trainig loss: 0.0004 | training MSE: 0.4340 | test MSE: 0.4351\n",
            "Epoch:  8 | trainig loss: 0.0332 | training MSE: 0.4481 | test MSE: 0.4269\n",
            "Epoch:  9 | trainig loss: 0.2654 | training MSE: 0.4606 | test MSE: 0.4212\n",
            "Epoch:  10 | trainig loss: 0.1404 | training MSE: 0.4694 | test MSE: 0.4135\n",
            "Epoch:  11 | trainig loss: 0.0237 | training MSE: 0.4786 | test MSE: 0.4092\n",
            "Epoch:  12 | trainig loss: 0.1104 | training MSE: 0.4771 | test MSE: 0.4097\n",
            "Epoch:  13 | trainig loss: 0.0895 | training MSE: 0.4758 | test MSE: 0.4107\n",
            "Epoch:  14 | trainig loss: 0.0212 | training MSE: 0.4743 | test MSE: 0.4078\n",
            "Epoch:  15 | trainig loss: 0.0891 | training MSE: 0.4776 | test MSE: 0.4055\n",
            "Epoch:  16 | trainig loss: 0.0695 | training MSE: 0.4773 | test MSE: 0.4052\n",
            "Epoch:  17 | trainig loss: 0.0047 | training MSE: 0.4824 | test MSE: 0.4038\n",
            "Epoch:  18 | trainig loss: 0.0000 | training MSE: 0.4806 | test MSE: 0.4021\n",
            "Epoch:  19 | trainig loss: 0.6445 | training MSE: 0.4790 | test MSE: 0.4036\n",
            "Epoch:  20 | trainig loss: 0.0004 | training MSE: 0.4896 | test MSE: 0.4022\n",
            "Epoch:  21 | trainig loss: 0.1231 | training MSE: 0.4896 | test MSE: 0.4001\n",
            "Epoch:  22 | trainig loss: 0.9068 | training MSE: 0.4872 | test MSE: 0.3981\n",
            "Epoch:  23 | trainig loss: 0.0028 | training MSE: 0.4792 | test MSE: 0.4021\n",
            "Epoch:  24 | trainig loss: 0.0015 | training MSE: 0.4831 | test MSE: 0.4000\n",
            "Epoch:  25 | trainig loss: 0.0326 | training MSE: 0.4808 | test MSE: 0.3987\n",
            "Epoch:  26 | trainig loss: 0.0060 | training MSE: 0.4835 | test MSE: 0.3990\n",
            "Epoch:  27 | trainig loss: 0.1145 | training MSE: 0.4817 | test MSE: 0.3969\n",
            "Epoch:  28 | trainig loss: 0.3085 | training MSE: 0.4847 | test MSE: 0.3980\n",
            "Epoch:  29 | trainig loss: 0.0001 | training MSE: 0.4800 | test MSE: 0.3991\n",
            "Epoch:  30 | trainig loss: 0.0443 | training MSE: 0.4801 | test MSE: 0.3966\n",
            "Epoch:  31 | trainig loss: 0.0844 | training MSE: 0.4809 | test MSE: 0.3974\n",
            "Epoch:  32 | trainig loss: 0.1954 | training MSE: 0.4796 | test MSE: 0.3972\n",
            "Epoch:  33 | trainig loss: 0.0124 | training MSE: 0.4808 | test MSE: 0.3979\n",
            "Epoch:  34 | trainig loss: 0.0173 | training MSE: 0.4812 | test MSE: 0.3955\n",
            "Epoch:  35 | trainig loss: 0.0679 | training MSE: 0.4828 | test MSE: 0.3935\n",
            "Epoch:  36 | trainig loss: 0.0019 | training MSE: 0.4840 | test MSE: 0.3948\n",
            "Epoch:  37 | trainig loss: 0.0492 | training MSE: 0.4828 | test MSE: 0.3944\n",
            "Epoch:  38 | trainig loss: 0.0178 | training MSE: 0.4819 | test MSE: 0.3934\n",
            "Epoch:  39 | trainig loss: 0.0100 | training MSE: 0.4848 | test MSE: 0.3925\n",
            "Epoch:  40 | trainig loss: 0.0112 | training MSE: 0.4821 | test MSE: 0.3938\n",
            "Epoch:  41 | trainig loss: 0.1291 | training MSE: 0.4853 | test MSE: 0.3908\n",
            "Epoch:  42 | trainig loss: 0.0731 | training MSE: 0.4821 | test MSE: 0.3921\n",
            "Epoch:  43 | trainig loss: 0.0378 | training MSE: 0.4833 | test MSE: 0.3921\n",
            "Epoch:  44 | trainig loss: 0.1462 | training MSE: 0.4804 | test MSE: 0.3915\n",
            "Epoch:  45 | trainig loss: 0.0019 | training MSE: 0.4851 | test MSE: 0.3935\n",
            "Epoch:  46 | trainig loss: 0.0562 | training MSE: 0.4830 | test MSE: 0.3912\n",
            "Epoch:  47 | trainig loss: 0.0248 | training MSE: 0.4819 | test MSE: 0.3897\n",
            "Epoch:  48 | trainig loss: 0.0764 | training MSE: 0.4805 | test MSE: 0.3921\n",
            "Epoch:  49 | trainig loss: 0.0467 | training MSE: 0.4865 | test MSE: 0.3885\n"
          ],
          "name": "stdout"
        }
      ]
    },
    {
      "cell_type": "code",
      "metadata": {
        "id": "ASA0KMOQ0Wnc"
      },
      "source": [
        "import matplotlib.lines as mlines\n",
        "import matplotlib.transforms as mtransforms\n",
        "\n",
        "def plot_data(pred_y, real_y):\n",
        "  \n",
        "  pred_y = np.squeeze(pred_y.detach().cpu().numpy())\n",
        "\n",
        "  fig, ax = plt.subplots(figsize=(9, 9))\n",
        "\n",
        "  ax.set_xlim([-2.5, 2.5])\n",
        "  ax.set_ylim([-2.5, 2.5])\n",
        "  plt.xlabel('Observed Regional Average SST Anomaly', fontsize=20)\n",
        "  plt.ylabel('Predicted Regional Average SST Anomaly', fontsize=20)\n",
        "  ax.plot(real_y, pred_y, 'o', color='black')\n",
        "\n",
        "  line = mlines.Line2D([0, 1], [0, 1], color='red')\n",
        "  transform = ax.transAxes\n",
        "  line.set_transform(transform)\n",
        "  ax.add_line(line)"
      ],
      "execution_count": 72,
      "outputs": []
    },
    {
      "cell_type": "code",
      "metadata": {
        "colab": {
          "base_uri": "https://localhost:8080/",
          "height": 560
        },
        "id": "IEqEyKZU0c8T",
        "outputId": "2019ec85-a661-4fc8-9249-d92c6bf0cd04"
      },
      "source": [
        "plot_data(pred_test_y, test_label)"
      ],
      "execution_count": 73,
      "outputs": [
        {
          "output_type": "display_data",
          "data": {
            "image/png": "[encoded data removed]",
            "text/plain": [
              "<Figure size 648x648 with 1 Axes>"
            ]
          },
          "metadata": {
            "tags": [],
            "needs_background": "light"
          }
        }
      ]
    },
    {
      "cell_type": "code",
      "metadata": {
        "colab": {
          "base_uri": "https://localhost:8080/",
          "height": 560
        },
        "id": "E-9DN9G06p0y",
        "outputId": "0689bc00-76e2-4263-c2b4-b1b8fcaf1b10"
      },
      "source": [
        "plot_data(pred_train_y, train_label)"
      ],
      "execution_count": 74,
      "outputs": [
        {
          "output_type": "display_data",
          "data": {
            "image/png": "[encoded data removed]",
            "text/plain": [
              "<Figure size 648x648 with 1 Axes>"
            ]
          },
          "metadata": {
            "tags": [],
            "needs_background": "light"
          }
        }
      ]
    },
    {
      "cell_type": "code",
      "metadata": {
        "colab": {
          "base_uri": "https://localhost:8080/",
          "height": 574
        },
        "id": "tYuRVt9SDYfv",
        "outputId": "880bd7e3-63b5-4f2f-8db4-cde1d908eca8"
      },
      "source": [
        "all_label_list = train_label.tolist() + test_label.tolist()\n",
        "\n",
        "fig, ax = plt.subplots(figsize=(9, 9))\n",
        "\n",
        "ax.set_xlim([-2.5, 2.5])\n",
        "ax.set_ylim([-2.5, 2.5])\n",
        "plt.xlabel('Observed Regional Average SST Anomaly in the First Month', fontsize=15)\n",
        "plt.ylabel('Observed Regional Average SST Anomaly in the Second Month', fontsize=15)\n",
        "ax.plot(np.array(all_label_list[:-2]), np.array(all_label_list[1:-1]), 'o', color='black')\n",
        "\n",
        "line = mlines.Line2D([0, 1], [0, 1], color='red')\n",
        "transform = ax.transAxes\n",
        "line.set_transform(transform)\n",
        "ax.add_line(line)"
      ],
      "execution_count": 75,
      "outputs": [
        {
          "output_type": "execute_result",
          "data": {
            "text/plain": [
              "<matplotlib.lines.Line2D at 0x7f22255f6850>"
            ]
          },
          "metadata": {
            "tags": []
          },
          "execution_count": 75
        },
        {
          "output_type": "display_data",
          "data": {
            "image/png": "[encoded data removed]",
            "text/plain": [
              "<Figure size 648x648 with 1 Axes>"
            ]
          },
          "metadata": {
            "tags": [],
            "needs_background": "light"
          }
        }
      ]
    }
  ]
}