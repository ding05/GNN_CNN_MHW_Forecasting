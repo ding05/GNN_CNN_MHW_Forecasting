{
  "nbformat": 4,
  "nbformat_minor": 0,
  "metadata": {
    "colab": {
      "name": "4/19 Training GODAS A.ipynb",
      "provenance": [],
      "collapsed_sections": []
    },
    "kernelspec": {
      "name": "python3",
      "display_name": "Python 3"
    },
    "language_info": {
      "name": "python"
    },
    "accelerator": "GPU"
  },
  "cells": [
    {
      "cell_type": "markdown",
      "metadata": {
        "id": "JJh5FtQQNky6"
      },
      "source": [
        "# **Training a Baseline CNN Model with Regional Multi-Year SST Maps**\n",
        "\n",
        "by Ding"
      ]
    },
    {
      "cell_type": "markdown",
      "metadata": {
        "id": "3qzpdoaAN39a"
      },
      "source": [
        "Connect Google Drive."
      ]
    },
    {
      "cell_type": "code",
      "metadata": {
        "colab": {
          "base_uri": "https://localhost:8080/"
        },
        "id": "qxFfNH42Nejz",
        "outputId": "56260d73-bfe4-454e-df09-c96b8267a2d9"
      },
      "source": [
        "from google.colab import drive\n",
        "drive.mount('/gdrive', force_remount=True)"
      ],
      "execution_count": 1,
      "outputs": [
        {
          "output_type": "stream",
          "text": [
            "Mounted at /gdrive\n"
          ],
          "name": "stdout"
        }
      ]
    },
    {
      "cell_type": "markdown",
      "metadata": {
        "id": "ZgOmazoON-lQ"
      },
      "source": [
        "Load the saved preprocessed datasets."
      ]
    },
    {
      "cell_type": "code",
      "metadata": {
        "id": "GRb0FkrHOBCe"
      },
      "source": [
        "import json\n",
        "\n",
        "with open('/gdrive/My Drive/GODAS/data_sets.txt', 'r') as in_file:\n",
        "    data_sets = json.load(in_file)"
      ],
      "execution_count": 2,
      "outputs": []
    },
    {
      "cell_type": "code",
      "metadata": {
        "id": "LDWzZOBlOP5G"
      },
      "source": [
        "import numpy as np\n",
        "\n",
        "train_set_3 = np.array(data_sets[0])\n",
        "val_set_3 = np.array(data_sets[1])\n",
        "train_label = np.array(data_sets[2])\n",
        "val_label = np.array(data_sets[3])"
      ],
      "execution_count": 3,
      "outputs": []
    },
    {
      "cell_type": "markdown",
      "metadata": {
        "id": "ecW3R15EQPcc"
      },
      "source": [
        "We use PyTorch as the deep learning framework in the TAIAO project.\n",
        "\n",
        "Import the libraries."
      ]
    },
    {
      "cell_type": "code",
      "metadata": {
        "id": "jyiG99mgQYt6"
      },
      "source": [
        "import torch \n",
        "import torch.nn as nn\n",
        "import torchvision\n",
        "import torchvision.transforms as transforms\n",
        "import torch.utils.data as Data\n",
        "from torch.autograd import Variable"
      ],
      "execution_count": 4,
      "outputs": []
    },
    {
      "cell_type": "markdown",
      "metadata": {
        "id": "KiJ8tzh_Qa5H"
      },
      "source": [
        "Combine data and labels in tuples.\n",
        "\n",
        "Convert the numpy array type into the PyTorch tensor type."
      ]
    },
    {
      "cell_type": "code",
      "metadata": {
        "id": "AhCMSm3AQbBC"
      },
      "source": [
        "train_data = []\n",
        "val_data = []\n",
        "\n",
        "for i in range(len(train_set_3)):\n",
        "  train_data.append((torch.from_numpy(train_set_3[i]), train_label[i]))\n",
        "\n",
        "for i in range(len(val_set_3)):\n",
        "  val_data.append((torch.from_numpy(val_set_3[i]), val_label[i]))"
      ],
      "execution_count": 5,
      "outputs": []
    },
    {
      "cell_type": "markdown",
      "metadata": {
        "id": "5ysF9U27xIVq"
      },
      "source": [
        "Check their sizes."
      ]
    },
    {
      "cell_type": "code",
      "metadata": {
        "colab": {
          "base_uri": "https://localhost:8080/"
        },
        "id": "bMecAUgbxK7H",
        "outputId": "2348373c-acdf-4666-a5c8-4ff26f686571"
      },
      "source": [
        "print(len(train_data))\n",
        "print(len(val_data))"
      ],
      "execution_count": 6,
      "outputs": [
        {
          "output_type": "stream",
          "text": [
            "391\n",
            "95\n"
          ],
          "name": "stdout"
        }
      ]
    },
    {
      "cell_type": "markdown",
      "metadata": {
        "id": "aSu9nrTWSI3y"
      },
      "source": [
        "Activiate GPUs."
      ]
    },
    {
      "cell_type": "code",
      "metadata": {
        "id": "SRM7zeAKSIaU"
      },
      "source": [
        "device = torch.device('cuda:0' if torch.cuda.is_available() else 'cpu')"
      ],
      "execution_count": 7,
      "outputs": []
    },
    {
      "cell_type": "markdown",
      "metadata": {
        "id": "75SWffT9SSK0"
      },
      "source": [
        "For PyTorch, set important parameters for the model ahead, including the number of training epoches, the batch size and the learning rate."
      ]
    },
    {
      "cell_type": "code",
      "metadata": {
        "id": "LA6SqAHbSSmM"
      },
      "source": [
        "EPOCH = 20\n",
        "BATCH_SIZE = 8\n",
        "LR = 0.00001"
      ],
      "execution_count": 8,
      "outputs": []
    },
    {
      "cell_type": "markdown",
      "metadata": {
        "id": "pmtRQvalSpPL"
      },
      "source": [
        "Create data loader using the defined batch size.\n",
        "\n",
        "Look at their type."
      ]
    },
    {
      "cell_type": "code",
      "metadata": {
        "colab": {
          "base_uri": "https://localhost:8080/"
        },
        "id": "Bk0Bm5HpSvxb",
        "outputId": "b44475fd-d5e9-4e04-af1e-420675ccd36d"
      },
      "source": [
        "train_loader = Data.DataLoader(dataset=train_data, batch_size=BATCH_SIZE, shuffle=True)\n",
        "\n",
        "train_all_loader = Data.DataLoader(dataset=train_data, batch_size=391, shuffle=False)\n",
        "val_loader = Data.DataLoader(dataset=val_data, batch_size=95, shuffle=False)\n",
        "\n",
        "print(type(train_loader))"
      ],
      "execution_count": 9,
      "outputs": [
        {
          "output_type": "stream",
          "text": [
            "<class 'torch.utils.data.dataloader.DataLoader'>\n"
          ],
          "name": "stdout"
        }
      ]
    },
    {
      "cell_type": "markdown",
      "metadata": {
        "id": "HunnfHnzTafC"
      },
      "source": [
        "Create the architecture of a baseline CNN model."
      ]
    },
    {
      "cell_type": "code",
      "metadata": {
        "id": "rvHT8PcOS4Qz"
      },
      "source": [
        "class CNN(nn.Module):\n",
        "    def __init__(self):\n",
        "        super(CNN, self).__init__()\n",
        "        self.conv1 = nn.Sequential(\n",
        "            nn.Conv2d(\n",
        "                in_channels=3,\n",
        "                out_channels=16,\n",
        "                kernel_size=5,\n",
        "                stride=1,\n",
        "                padding=2,\n",
        "            ),\n",
        "            nn.ReLU(),\n",
        "            nn.MaxPool2d(kernel_size=2),\n",
        "        )\n",
        "        self.conv2 = nn.Sequential(\n",
        "            nn.Conv2d(16, 32, 5, 1, 2),\n",
        "            nn.ReLU(),\n",
        "        )\n",
        "        self.out = nn.Linear(32 * 15 * 5, 1)\n",
        "\n",
        "    def forward(self, x):\n",
        "        x = self.conv1(x)\n",
        "        x = self.conv2(x)\n",
        "        x = x.view(x.size(0), -1)\n",
        "        output = self.out(x)\n",
        "        return output, x "
      ],
      "execution_count": 10,
      "outputs": []
    },
    {
      "cell_type": "markdown",
      "metadata": {
        "id": "3M6F_PVFT9Jz"
      },
      "source": [
        "Make the data type double instead of float.\n",
        "\n",
        "Look at the architecture."
      ]
    },
    {
      "cell_type": "code",
      "metadata": {
        "colab": {
          "base_uri": "https://localhost:8080/"
        },
        "id": "OxeQ12tkUB41",
        "outputId": "a08da587-a7c4-42bb-a293-4c9fc9ec85ac"
      },
      "source": [
        "cnn = CNN().double()\n",
        "\n",
        "print(cnn)"
      ],
      "execution_count": 11,
      "outputs": [
        {
          "output_type": "stream",
          "text": [
            "CNN(\n",
            "  (conv1): Sequential(\n",
            "    (0): Conv2d(3, 16, kernel_size=(5, 5), stride=(1, 1), padding=(2, 2))\n",
            "    (1): ReLU()\n",
            "    (2): MaxPool2d(kernel_size=2, stride=2, padding=0, dilation=1, ceil_mode=False)\n",
            "  )\n",
            "  (conv2): Sequential(\n",
            "    (0): Conv2d(16, 32, kernel_size=(5, 5), stride=(1, 1), padding=(2, 2))\n",
            "    (1): ReLU()\n",
            "  )\n",
            "  (out): Linear(in_features=2400, out_features=1, bias=True)\n",
            ")\n"
          ],
          "name": "stdout"
        }
      ]
    },
    {
      "cell_type": "markdown",
      "metadata": {
        "id": "-nbRmekjatmv"
      },
      "source": [
        "Use [NN-SVG](http://alexlenail.me/NN-SVG/LeNet.html) to visualize the architecture.\n",
        "\n",
        "![baseline model 1.png](data:image/png;base64,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)"
      ]
    },
    {
      "cell_type": "markdown",
      "metadata": {
        "id": "LuQyZGSAUO_F"
      },
      "source": [
        "Use the Adam (adaptive moment estimation) optimizer and the MSE (mean squared error) loss function."
      ]
    },
    {
      "cell_type": "code",
      "metadata": {
        "id": "4R83TMaQUMvh"
      },
      "source": [
        "optimizer = torch.optim.Adam(cnn.parameters(), lr=LR)\n",
        "loss_func = nn.MSELoss() "
      ],
      "execution_count": 12,
      "outputs": []
    },
    {
      "cell_type": "markdown",
      "metadata": {
        "id": "OnHRVNF_WkWv"
      },
      "source": [
        "Train the model and print the training MSEs and validation MSEs."
      ]
    },
    {
      "cell_type": "code",
      "metadata": {
        "colab": {
          "base_uri": "https://localhost:8080/"
        },
        "id": "cCdWlin9VIpE",
        "outputId": "26f7ee24-4ea0-4fc3-ac46-437e951bba6b"
      },
      "source": [
        "for epoch in range(EPOCH):\n",
        "    for step, (x, y) in enumerate(train_loader):\n",
        "        b_x = Variable(x)\n",
        "        b_y = Variable(y)\n",
        "\n",
        "        output = cnn(b_x)[0]\n",
        "        output = output.reshape(-1) # To avoid different sizes\n",
        "        loss = loss_func(output, b_y)\n",
        "        optimizer.zero_grad()\n",
        "        loss.backward()\n",
        "        optimizer.step()\n",
        "\n",
        "    for step, (x, y) in enumerate(train_all_loader):\n",
        "        c_x = Variable(x)\n",
        "        c_y = Variable(y)\n",
        "\n",
        "    for step, (x, y) in enumerate(val_loader):\n",
        "        d_x = Variable(x)\n",
        "        d_y = Variable(y)\n",
        "\n",
        "        if step % 100 == 0:\n",
        "            \n",
        "            pred_train_y, last_layer = cnn(c_x)\n",
        "            train_y = torch.Tensor(train_label).double()\n",
        "            train_mse = ((pred_train_y - c_y) ** 2).sum().item() / float(train_y.size(0))\n",
        "\n",
        "            pred_val_y, last_layer = cnn(d_x)\n",
        "            val_y = torch.Tensor(val_label).double()\n",
        "            val_mse = ((pred_val_y - d_y) ** 2).sum().item() / float(val_y.size(0))\n",
        "\n",
        "            print('Epoch: ', epoch, '| trainig loss: %.4f' % loss.data, '| training MSE: %.4f' % train_mse, '| validation MSE: %.4f' % val_mse)"
      ],
      "execution_count": 13,
      "outputs": [
        {
          "output_type": "stream",
          "text": [
            "Epoch:  0 | trainig loss: 69769.2165 | training MSE: 26968893.0993 | validation MSE: 6590772.0442\n",
            "Epoch:  1 | trainig loss: 50457.1583 | training MSE: 19818958.9332 | validation MSE: 4843285.2715\n",
            "Epoch:  2 | trainig loss: 32561.3855 | training MSE: 12584392.2714 | validation MSE: 3075481.4998\n",
            "Epoch:  3 | trainig loss: 15676.6704 | training MSE: 5893865.9711 | validation MSE: 1440462.9496\n",
            "Epoch:  4 | trainig loss: 4319.2587 | training MSE: 1647764.6961 | validation MSE: 402750.7220\n",
            "Epoch:  5 | trainig loss: 470.7751 | training MSE: 190199.5144 | validation MSE: 46494.2836\n",
            "Epoch:  6 | trainig loss: 14.2631 | training MSE: 7781.5861 | validation MSE: 1896.4865\n",
            "Epoch:  7 | trainig loss: 3.7093 | training MSE: 2959.1919 | validation MSE: 717.1615\n",
            "Epoch:  8 | trainig loss: 5.2699 | training MSE: 2943.3729 | validation MSE: 713.3541\n",
            "Epoch:  9 | trainig loss: 2.1527 | training MSE: 2943.6452 | validation MSE: 713.4722\n",
            "Epoch:  10 | trainig loss: 4.8365 | training MSE: 2944.1597 | validation MSE: 713.5836\n",
            "Epoch:  11 | trainig loss: 3.3834 | training MSE: 2944.5832 | validation MSE: 713.7626\n",
            "Epoch:  12 | trainig loss: 5.6241 | training MSE: 2952.4168 | validation MSE: 715.6986\n",
            "Epoch:  13 | trainig loss: 3.9194 | training MSE: 2945.7345 | validation MSE: 714.1057\n",
            "Epoch:  14 | trainig loss: 5.4228 | training MSE: 2946.2639 | validation MSE: 714.2367\n",
            "Epoch:  15 | trainig loss: 3.8529 | training MSE: 2946.8602 | validation MSE: 714.3809\n",
            "Epoch:  16 | trainig loss: 1.3985 | training MSE: 2946.5773 | validation MSE: 714.3118\n",
            "Epoch:  17 | trainig loss: 4.1292 | training MSE: 2946.6138 | validation MSE: 714.3347\n",
            "Epoch:  18 | trainig loss: 3.5813 | training MSE: 2947.6717 | validation MSE: 714.6583\n",
            "Epoch:  19 | trainig loss: 5.1112 | training MSE: 2947.0854 | validation MSE: 714.5518\n"
          ],
          "name": "stdout"
        }
      ]
    },
    {
      "cell_type": "markdown",
      "metadata": {
        "id": "aPcuhOzg_L_v"
      },
      "source": [
        "Check the predicted means in the validation set."
      ]
    },
    {
      "cell_type": "code",
      "metadata": {
        "colab": {
          "base_uri": "https://localhost:8080/"
        },
        "id": "qgs8UUJgpCH7",
        "outputId": "fc97c880-97ef-4731-ceaa-876fba2891e8"
      },
      "source": [
        "print(type(pred_val_y))\n",
        "print(pred_val_y.shape)\n",
        "print(pred_val_y)"
      ],
      "execution_count": 14,
      "outputs": [
        {
          "output_type": "stream",
          "text": [
            "<class 'torch.Tensor'>\n",
            "torch.Size([95, 1])\n",
            "tensor([[290.0267],\n",
            "        [291.3762],\n",
            "        [292.3142],\n",
            "        [292.2808],\n",
            "        [291.4465],\n",
            "        [290.0546],\n",
            "        [288.7512],\n",
            "        [287.8063],\n",
            "        [287.3165],\n",
            "        [287.1931],\n",
            "        [287.7561],\n",
            "        [288.7372],\n",
            "        [289.9422],\n",
            "        [291.3126],\n",
            "        [292.0894],\n",
            "        [292.4634],\n",
            "        [291.6902],\n",
            "        [290.6679],\n",
            "        [289.2382],\n",
            "        [288.3423],\n",
            "        [287.7090],\n",
            "        [287.6417],\n",
            "        [288.1249],\n",
            "        [289.2622],\n",
            "        [290.4719],\n",
            "        [291.6375],\n",
            "        [291.9806],\n",
            "        [291.6802],\n",
            "        [290.7289],\n",
            "        [289.5606],\n",
            "        [288.4902],\n",
            "        [287.6337],\n",
            "        [287.2475],\n",
            "        [287.5720],\n",
            "        [288.4873],\n",
            "        [289.9199],\n",
            "        [291.3100],\n",
            "        [292.6422],\n",
            "        [293.3899],\n",
            "        [293.2887],\n",
            "        [292.3345],\n",
            "        [290.9632],\n",
            "        [289.6143],\n",
            "        [288.5366],\n",
            "        [288.0043],\n",
            "        [287.8348],\n",
            "        [288.2320],\n",
            "        [289.1114],\n",
            "        [290.4772],\n",
            "        [291.5686],\n",
            "        [292.3997],\n",
            "        [292.1297],\n",
            "        [291.6498],\n",
            "        [290.6604],\n",
            "        [289.5270],\n",
            "        [288.5660],\n",
            "        [287.7106],\n",
            "        [287.6496],\n",
            "        [288.3498],\n",
            "        [289.9613],\n",
            "        [291.5472],\n",
            "        [292.5590],\n",
            "        [292.8190],\n",
            "        [292.2242],\n",
            "        [291.2487],\n",
            "        [289.9383],\n",
            "        [288.6783],\n",
            "        [287.6342],\n",
            "        [286.9762],\n",
            "        [287.0955],\n",
            "        [287.8504],\n",
            "        [289.2771],\n",
            "        [291.0461],\n",
            "        [292.2154],\n",
            "        [292.9274],\n",
            "        [292.3007],\n",
            "        [291.3051],\n",
            "        [289.8341],\n",
            "        [288.6259],\n",
            "        [287.5142],\n",
            "        [287.0052],\n",
            "        [287.0182],\n",
            "        [287.5753],\n",
            "        [288.5746],\n",
            "        [290.1124],\n",
            "        [291.2485],\n",
            "        [292.0538],\n",
            "        [291.6154],\n",
            "        [290.5774],\n",
            "        [289.4738],\n",
            "        [288.5175],\n",
            "        [287.8474],\n",
            "        [287.3888],\n",
            "        [287.3398],\n",
            "        [288.0815]], dtype=torch.float64, grad_fn=<AddmmBackward>)\n"
          ],
          "name": "stdout"
        }
      ]
    },
    {
      "cell_type": "markdown",
      "metadata": {
        "id": "LHt1UJlP_ddH"
      },
      "source": [
        "Check the observed means in the validation set."
      ]
    },
    {
      "cell_type": "code",
      "metadata": {
        "colab": {
          "base_uri": "https://localhost:8080/"
        },
        "id": "VwfY8MTxo8yb",
        "outputId": "09f91a28-195b-4492-cc7e-2897060760e6"
      },
      "source": [
        "print(type(d_y))\n",
        "print(d_y.shape)\n",
        "print(d_y)"
      ],
      "execution_count": 15,
      "outputs": [
        {
          "output_type": "stream",
          "text": [
            "<class 'torch.Tensor'>\n",
            "torch.Size([95])\n",
            "tensor([292.6270, 292.9124, 291.4956, 289.8936, 288.7509, 287.8133, 287.1520,\n",
            "        287.2614, 287.4991, 288.5917, 290.0139, 290.9697, 292.4995, 292.7191,\n",
            "        292.0537, 290.1728, 289.4134, 288.2335, 287.5454, 287.5977, 287.9864,\n",
            "        288.7764, 290.7270, 291.7558, 292.0813, 291.7614, 290.8811, 289.4242,\n",
            "        288.2771, 287.7283, 287.0913, 287.1914, 288.5931, 289.8956, 291.2717,\n",
            "        292.7054, 293.7756, 293.5635, 292.3220, 290.9202, 289.6225, 288.4224,\n",
            "        287.6997, 288.0254, 288.0903, 288.7024, 290.4198, 292.0933, 291.9690,\n",
            "        292.4908, 291.7762, 290.6278, 289.6574, 288.6199, 287.7987, 287.1426,\n",
            "        288.2121, 290.0118, 291.9448, 292.9832, 292.7974, 292.4410, 291.2801,\n",
            "        289.8629, 288.6522, 287.6669, 286.9484, 286.8079, 287.8829, 289.1476,\n",
            "        290.9206, 293.0530, 293.0042, 292.6736, 291.3793, 289.9646, 288.4021,\n",
            "        287.7853, 286.9063, 286.7611, 287.7340, 288.6528, 289.6205, 291.9718,\n",
            "        292.4319, 291.7635, 290.5365, 289.3442, 288.6135, 287.9310, 287.4228,\n",
            "        287.3055, 287.8255, 289.4322, 290.3840], dtype=torch.float64)\n"
          ],
          "name": "stdout"
        }
      ]
    },
    {
      "cell_type": "markdown",
      "metadata": {
        "id": "nkHkAVRD2r0Y"
      },
      "source": [
        "Define a plotting function.\n",
        "\n",
        "Convert the PyTorch tensors into numpy arrays before plotting."
      ]
    },
    {
      "cell_type": "code",
      "metadata": {
        "id": "dWMM8awn2r6m"
      },
      "source": [
        "import matplotlib.pyplot as plt\n",
        "import matplotlib.lines as mlines\n",
        "import matplotlib.transforms as mtransforms\n",
        "\n",
        "def plot_data(pred_y, real_y):\n",
        "  pred_y = np.squeeze(pred_y.detach().cpu().numpy())\n",
        "\n",
        "  fig, ax = plt.subplots(figsize=(9, 9))\n",
        "\n",
        "  ax.set_xlim([284, 295])\n",
        "  ax.set_ylim([284, 295])\n",
        "  plt.xlabel('Observed Regional Average SST', fontsize=20)\n",
        "  plt.ylabel('Predicted Regional Average SST', fontsize=20)\n",
        "  ax.plot(real_y, pred_y, 'o', color='black')\n",
        "\n",
        "  line = mlines.Line2D([0, 1], [0, 1], color='red')\n",
        "  transform = ax.transAxes\n",
        "  line.set_transform(transform)\n",
        "  ax.add_line(line)"
      ],
      "execution_count": 16,
      "outputs": []
    },
    {
      "cell_type": "markdown",
      "metadata": {
        "id": "Vnc1R6BkBt3V"
      },
      "source": [
        "Plot the predicted values and obeserved values in the validation dataset."
      ]
    },
    {
      "cell_type": "code",
      "metadata": {
        "colab": {
          "base_uri": "https://localhost:8080/",
          "height": 560
        },
        "id": "7F1nZUxfCEcd",
        "outputId": "b9255c46-3900-4c98-89e0-9d6b8610672a"
      },
      "source": [
        "plot_data(pred_val_y, val_label)"
      ],
      "execution_count": 17,
      "outputs": [
        {
          "output_type": "display_data",
          "data": {
            "image/png": "[encoded data removed]",
            "text/plain": [
              "<Figure size 648x648 with 1 Axes>"
            ]
          },
          "metadata": {
            "tags": [],
            "needs_background": "light"
          }
        }
      ]
    },
    {
      "cell_type": "markdown",
      "metadata": {
        "id": "8nxDSnmE162s"
      },
      "source": [
        "Plot the predicted values and obeserved values in the training dataset."
      ]
    },
    {
      "cell_type": "code",
      "metadata": {
        "colab": {
          "base_uri": "https://localhost:8080/",
          "height": 560
        },
        "id": "aNaDZvug2DzR",
        "outputId": "aae2840e-d79f-4108-e8d4-c65ec9549d41"
      },
      "source": [
        "plot_data(pred_train_y, train_label)"
      ],
      "execution_count": 18,
      "outputs": [
        {
          "output_type": "display_data",
          "data": {
            "image/png": "[encoded data removed]",
            "text/plain": [
              "<Figure size 648x648 with 1 Axes>"
            ]
          },
          "metadata": {
            "tags": [],
            "needs_background": "light"
          }
        }
      ]
    },
    {
      "cell_type": "markdown",
      "metadata": {
        "id": "9NB3qN4LvFYL"
      },
      "source": [
        "Use [the NSE metric](https://en.wikipedia.org/wiki/Nash%E2%80%93Sutcliffe_model_efficiency_coefficient) to evalute the model."
      ]
    },
    {
      "cell_type": "code",
      "metadata": {
        "colab": {
          "base_uri": "https://localhost:8080/"
        },
        "id": "9TPLMYNdvFfL",
        "outputId": "f2b06e74-d420-4de6-da53-cc2416f36fdc"
      },
      "source": [
        "def nse(pred, obs):\n",
        "  pred_t = np.squeeze(pred.detach().cpu().numpy())[1:]\n",
        "  obs_t = np.array(obs)[1:]\n",
        "  obs_t_minus_1 = np.array(obs)[:-1]\n",
        "  nse = 1 - (np.sum((pred_t - obs_t)**2) / np.sum((obs_t - obs_t_minus_1)**2))\n",
        "  print(nse)"
      ],
      "execution_count": 20,
      "outputs": [
        {
          "output_type": "stream",
          "text": [
            "-2.175638757126774\n",
            "-2.2394697669961254\n",
            "-2.175638757126774\n",
            "-2.2394697669961254\n"
          ],
          "name": "stdout"
        }
      ]
    },
    {
      "cell_type": "code",
      "metadata": {
        "colab": {
          "base_uri": "https://localhost:8080/"
        },
        "id": "3d93EuO4v_UW",
        "outputId": "d073e77c-a256-400e-b8e5-293a31bf324b"
      },
      "source": [
        "nse(pred_val_y, val_label)\n",
        "nse(pred_train_y, train_label)"
      ],
      "execution_count": 21,
      "outputs": [
        {
          "output_type": "stream",
          "text": [
            "-2.175638757126774\n",
            "-2.2394697669961254\n"
          ],
          "name": "stdout"
        }
      ]
    }
  ]
}