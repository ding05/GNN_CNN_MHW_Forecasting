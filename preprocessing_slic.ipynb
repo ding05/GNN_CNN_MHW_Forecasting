{
  "nbformat": 4,
  "nbformat_minor": 0,
  "metadata": {
    "colab": {
      "name": "07/01 SODA SLIC.ipynb",
      "provenance": [],
      "collapsed_sections": [],
      "machine_shape": "hm"
    },
    "kernelspec": {
      "name": "python3",
      "display_name": "Python 3"
    },
    "language_info": {
      "name": "python"
    },
    "gpuClass": "standard",
    "accelerator": "GPU"
  },
  "cells": [
    {
      "cell_type": "markdown",
      "source": [
        "# Generate Graphs from SODA 3.3.1 with SLIC ([Achanta et al., 2012](https://ieeexplore.ieee.org/abstract/document/6205760/?casa_token=TKLq-JwhmSkAAAAA:C1CdOBhAtt5EmjVE2gA0q-33KD60Rt8z3WO5wzO8vgzTz-1FnBWRicLOnKMvoW49urDoX6FJiJg))\n",
        "\n",
        "by Ding"
      ],
      "metadata": {
        "id": "GwcGeA2p_8Qv"
      }
    },
    {
      "cell_type": "code",
      "execution_count": null,
      "metadata": {
        "id": "Ri0AIDMB_7lQ"
      },
      "outputs": [],
      "source": [
        "import numpy as np\n",
        "from netCDF4 import Dataset\n",
        "import xarray as xr\n",
        "import matplotlib.pyplot as plt\n",
        "import pandas as pd\n",
        "\n",
        "import torch"
      ]
    },
    {
      "cell_type": "markdown",
      "source": [
        "[Download](https://coastwatch.pfeg.noaa.gov/erddap/griddap/erdSoda331oceanmday.html) and upload SODA 3.3.1."
      ],
      "metadata": {
        "id": "lE3wTXjCPPN3"
      }
    },
    {
      "cell_type": "code",
      "source": [
        "from google.colab import drive\n",
        "drive.mount(\"/gdrive\", force_remount=True)"
      ],
      "metadata": {
        "colab": {
          "base_uri": "https://localhost:8080/"
        },
        "id": "thb8N-PXAI78",
        "outputId": "7df27dbf-187e-4c2b-f77d-21f1b493df6a"
      },
      "execution_count": null,
      "outputs": [
        {
          "output_type": "stream",
          "name": "stdout",
          "text": [
            "Mounted at /gdrive\n"
          ]
        }
      ]
    },
    {
      "cell_type": "code",
      "source": [
        "%%bash\n",
        "cp -a \"/gdrive/MyDrive/soda_331_pt_l5.nc\" \"/content/\""
      ],
      "metadata": {
        "id": "C4I6eNAbAcUV"
      },
      "execution_count": null,
      "outputs": []
    },
    {
      "cell_type": "code",
      "source": [
        "soda = xr.open_dataset(\"soda_331_pt_l5.nc\", decode_times=False)\n",
        "soda"
      ],
      "metadata": {
        "colab": {
          "base_uri": "https://localhost:8080/",
          "height": 266
        },
        "id": "gbTLloZyAg4E",
        "outputId": "441af77c-5678-4003-bda5-30c0bd91664c"
      },
      "execution_count": null,
      "outputs": [
        {
          "output_type": "execute_result",
          "data": {
            "text/plain": [
              "<xarray.Dataset>\n",
              "Dimensions:    (time: 432, depth: 1, latitude: 330, longitude: 720)\n",
              "Coordinates:\n",
              "  * time       (time) float64 3.168e+08 3.195e+08 ... 1.448e+09 1.45e+09\n",
              "  * depth      (depth) float32 5.034\n",
              "  * latitude   (latitude) float32 -74.75 -74.25 -73.75 ... 88.75 89.25 89.75\n",
              "  * longitude  (longitude) float32 0.25 0.75 1.25 1.75 ... 358.8 359.2 359.8\n",
              "Data variables:\n",
              "    temp       (time, depth, latitude, longitude) float32 ...\n",
              "Attributes: (12/47)\n",
              "    _CoordSysBuilder:              ucar.nc2.internal.dataset.conv.DefaultConv...\n",
              "    acknowledgement:               The SODA3 project is funded by the US Nati...\n",
              "    cdm_data_type:                 Grid\n",
              "    Conventions:                   COARDS, CF-1.6, ACDD-1.3\n",
              "    Created_by:                    Gennady Chepurin and Ligang Chen\n",
              "    creation_date:                 October, 2016\n",
              "    ...                            ...\n",
              "    summary:                       SODA3.3.1 ocean state, forced by MERRA2. T...\n",
              "    time_coverage_end:             2015-12-16T00:00:00Z\n",
              "    time_coverage_start:           1980-01-16T00:00:00Z\n",
              "    title:                         SODA 3.3.1 Ocean State, 1/2°, Global, 1980...\n",
              "    Website:                       https://www.atmos.umd.edu/~ocean/\n",
              "    Westernmost_Easting:           0.25"
            ],
            "text/html": [
              "<div><svg style=\"position: absolute; width: 0; height: 0; overflow: hidden\">\n",
              "<defs>\n",
              "<symbol id=\"icon-database\" viewBox=\"0 0 32 32\">\n",
              "<path d=\"M16 0c-8.837 0-16 2.239-16 5v4c0 2.761 7.163 5 16 5s16-2.239 16-5v-4c0-2.761-7.163-5-16-5z\"></path>\n",
              "<path d=\"M16 17c-8.837 0-16-2.239-16-5v6c0 2.761 7.163 5 16 5s16-2.239 16-5v-6c0 2.761-7.163 5-16 5z\"></path>\n",
              "<path d=\"M16 26c-8.837 0-16-2.239-16-5v6c0 2.761 7.163 5 16 5s16-2.239 16-5v-6c0 2.761-7.163 5-16 5z\"></path>\n",
              "</symbol>\n",
              "<symbol id=\"icon-file-text2\" viewBox=\"0 0 32 32\">\n",
              "<path d=\"M28.681 7.159c-0.694-0.947-1.662-2.053-2.724-3.116s-2.169-2.030-3.116-2.724c-1.612-1.182-2.393-1.319-2.841-1.319h-15.5c-1.378 0-2.5 1.121-2.5 2.5v27c0 1.378 1.122 2.5 2.5 2.5h23c1.378 0 2.5-1.122 2.5-2.5v-19.5c0-0.448-0.137-1.23-1.319-2.841zM24.543 5.457c0.959 0.959 1.712 1.825 2.268 2.543h-4.811v-4.811c0.718 0.556 1.584 1.309 2.543 2.268zM28 29.5c0 0.271-0.229 0.5-0.5 0.5h-23c-0.271 0-0.5-0.229-0.5-0.5v-27c0-0.271 0.229-0.5 0.5-0.5 0 0 15.499-0 15.5 0v7c0 0.552 0.448 1 1 1h7v19.5z\"></path>\n",
              "<path d=\"M23 26h-14c-0.552 0-1-0.448-1-1s0.448-1 1-1h14c0.552 0 1 0.448 1 1s-0.448 1-1 1z\"></path>\n",
              "<path d=\"M23 22h-14c-0.552 0-1-0.448-1-1s0.448-1 1-1h14c0.552 0 1 0.448 1 1s-0.448 1-1 1z\"></path>\n",
              "<path d=\"M23 18h-14c-0.552 0-1-0.448-1-1s0.448-1 1-1h14c0.552 0 1 0.448 1 1s-0.448 1-1 1z\"></path>\n",
              "</symbol>\n",
              "</defs>\n",
              "</svg>\n",
              "<style>/* CSS stylesheet for displaying xarray objects in jupyterlab.\n",
              " *\n",
              " */\n",
              "\n",
              ":root {\n",
              "  --xr-font-color0: var(--jp-content-font-color0, rgba(0, 0, 0, 1));\n",
              "  --xr-font-color2: var(--jp-content-font-color2, rgba(0, 0, 0, 0.54));\n",
              "  --xr-font-color3: var(--jp-content-font-color3, rgba(0, 0, 0, 0.38));\n",
              "  --xr-border-color: var(--jp-border-color2, #e0e0e0);\n",
              "  --xr-disabled-color: var(--jp-layout-color3, #bdbdbd);\n",
              "  --xr-background-color: var(--jp-layout-color0, white);\n",
              "  --xr-background-color-row-even: var(--jp-layout-color1, white);\n",
              "  --xr-background-color-row-odd: var(--jp-layout-color2, #eeeeee);\n",
              "}\n",
              "\n",
              "html[theme=dark],\n",
              "body.vscode-dark {\n",
              "  --xr-font-color0: rgba(255, 255, 255, 1);\n",
              "  --xr-font-color2: rgba(255, 255, 255, 0.54);\n",
              "  --xr-font-color3: rgba(255, 255, 255, 0.38);\n",
              "  --xr-border-color: #1F1F1F;\n",
              "  --xr-disabled-color: #515151;\n",
              "  --xr-background-color: #111111;\n",
              "  --xr-background-color-row-even: #111111;\n",
              "  --xr-background-color-row-odd: #313131;\n",
              "}\n",
              "\n",
              ".xr-wrap {\n",
              "  display: block !important;\n",
              "  min-width: 300px;\n",
              "  max-width: 700px;\n",
              "}\n",
              "\n",
              ".xr-text-repr-fallback {\n",
              "  /* fallback to plain text repr when CSS is not injected (untrusted notebook) */\n",
              "  display: none;\n",
              "}\n",
              "\n",
              ".xr-header {\n",
              "  padding-top: 6px;\n",
              "  padding-bottom: 6px;\n",
              "  margin-bottom: 4px;\n",
              "  border-bottom: solid 1px var(--xr-border-color);\n",
              "}\n",
              "\n",
              ".xr-header > div,\n",
              ".xr-header > ul {\n",
              "  display: inline;\n",
              "  margin-top: 0;\n",
              "  margin-bottom: 0;\n",
              "}\n",
              "\n",
              ".xr-obj-type,\n",
              ".xr-array-name {\n",
              "  margin-left: 2px;\n",
              "  margin-right: 10px;\n",
              "}\n",
              "\n",
              ".xr-obj-type {\n",
              "  color: var(--xr-font-color2);\n",
              "}\n",
              "\n",
              ".xr-sections {\n",
              "  padding-left: 0 !important;\n",
              "  display: grid;\n",
              "  grid-template-columns: 150px auto auto 1fr 20px 20px;\n",
              "}\n",
              "\n",
              ".xr-section-item {\n",
              "  display: contents;\n",
              "}\n",
              "\n",
              ".xr-section-item input {\n",
              "  display: none;\n",
              "}\n",
              "\n",
              ".xr-section-item input + label {\n",
              "  color: var(--xr-disabled-color);\n",
              "}\n",
              "\n",
              ".xr-section-item input:enabled + label {\n",
              "  cursor: pointer;\n",
              "  color: var(--xr-font-color2);\n",
              "}\n",
              "\n",
              ".xr-section-item input:enabled + label:hover {\n",
              "  color: var(--xr-font-color0);\n",
              "}\n",
              "\n",
              ".xr-section-summary {\n",
              "  grid-column: 1;\n",
              "  color: var(--xr-font-color2);\n",
              "  font-weight: 500;\n",
              "}\n",
              "\n",
              ".xr-section-summary > span {\n",
              "  display: inline-block;\n",
              "  padding-left: 0.5em;\n",
              "}\n",
              "\n",
              ".xr-section-summary-in:disabled + label {\n",
              "  color: var(--xr-font-color2);\n",
              "}\n",
              "\n",
              ".xr-section-summary-in + label:before {\n",
              "  display: inline-block;\n",
              "  content: '►';\n",
              "  font-size: 11px;\n",
              "  width: 15px;\n",
              "  text-align: center;\n",
              "}\n",
              "\n",
              ".xr-section-summary-in:disabled + label:before {\n",
              "  color: var(--xr-disabled-color);\n",
              "}\n",
              "\n",
              ".xr-section-summary-in:checked + label:before {\n",
              "  content: '▼';\n",
              "}\n",
              "\n",
              ".xr-section-summary-in:checked + label > span {\n",
              "  display: none;\n",
              "}\n",
              "\n",
              ".xr-section-summary,\n",
              ".xr-section-inline-details {\n",
              "  padding-top: 4px;\n",
              "  padding-bottom: 4px;\n",
              "}\n",
              "\n",
              ".xr-section-inline-details {\n",
              "  grid-column: 2 / -1;\n",
              "}\n",
              "\n",
              ".xr-section-details {\n",
              "  display: none;\n",
              "  grid-column: 1 / -1;\n",
              "  margin-bottom: 5px;\n",
              "}\n",
              "\n",
              ".xr-section-summary-in:checked ~ .xr-section-details {\n",
              "  display: contents;\n",
              "}\n",
              "\n",
              ".xr-array-wrap {\n",
              "  grid-column: 1 / -1;\n",
              "  display: grid;\n",
              "  grid-template-columns: 20px auto;\n",
              "}\n",
              "\n",
              ".xr-array-wrap > label {\n",
              "  grid-column: 1;\n",
              "  vertical-align: top;\n",
              "}\n",
              "\n",
              ".xr-preview {\n",
              "  color: var(--xr-font-color3);\n",
              "}\n",
              "\n",
              ".xr-array-preview,\n",
              ".xr-array-data {\n",
              "  padding: 0 5px !important;\n",
              "  grid-column: 2;\n",
              "}\n",
              "\n",
              ".xr-array-data,\n",
              ".xr-array-in:checked ~ .xr-array-preview {\n",
              "  display: none;\n",
              "}\n",
              "\n",
              ".xr-array-in:checked ~ .xr-array-data,\n",
              ".xr-array-preview {\n",
              "  display: inline-block;\n",
              "}\n",
              "\n",
              ".xr-dim-list {\n",
              "  display: inline-block !important;\n",
              "  list-style: none;\n",
              "  padding: 0 !important;\n",
              "  margin: 0;\n",
              "}\n",
              "\n",
              ".xr-dim-list li {\n",
              "  display: inline-block;\n",
              "  padding: 0;\n",
              "  margin: 0;\n",
              "}\n",
              "\n",
              ".xr-dim-list:before {\n",
              "  content: '(';\n",
              "}\n",
              "\n",
              ".xr-dim-list:after {\n",
              "  content: ')';\n",
              "}\n",
              "\n",
              ".xr-dim-list li:not(:last-child):after {\n",
              "  content: ',';\n",
              "  padding-right: 5px;\n",
              "}\n",
              "\n",
              ".xr-has-index {\n",
              "  font-weight: bold;\n",
              "}\n",
              "\n",
              ".xr-var-list,\n",
              ".xr-var-item {\n",
              "  display: contents;\n",
              "}\n",
              "\n",
              ".xr-var-item > div,\n",
              ".xr-var-item label,\n",
              ".xr-var-item > .xr-var-name span {\n",
              "  background-color: var(--xr-background-color-row-even);\n",
              "  margin-bottom: 0;\n",
              "}\n",
              "\n",
              ".xr-var-item > .xr-var-name:hover span {\n",
              "  padding-right: 5px;\n",
              "}\n",
              "\n",
              ".xr-var-list > li:nth-child(odd) > div,\n",
              ".xr-var-list > li:nth-child(odd) > label,\n",
              ".xr-var-list > li:nth-child(odd) > .xr-var-name span {\n",
              "  background-color: var(--xr-background-color-row-odd);\n",
              "}\n",
              "\n",
              ".xr-var-name {\n",
              "  grid-column: 1;\n",
              "}\n",
              "\n",
              ".xr-var-dims {\n",
              "  grid-column: 2;\n",
              "}\n",
              "\n",
              ".xr-var-dtype {\n",
              "  grid-column: 3;\n",
              "  text-align: right;\n",
              "  color: var(--xr-font-color2);\n",
              "}\n",
              "\n",
              ".xr-var-preview {\n",
              "  grid-column: 4;\n",
              "}\n",
              "\n",
              ".xr-var-name,\n",
              ".xr-var-dims,\n",
              ".xr-var-dtype,\n",
              ".xr-preview,\n",
              ".xr-attrs dt {\n",
              "  white-space: nowrap;\n",
              "  overflow: hidden;\n",
              "  text-overflow: ellipsis;\n",
              "  padding-right: 10px;\n",
              "}\n",
              "\n",
              ".xr-var-name:hover,\n",
              ".xr-var-dims:hover,\n",
              ".xr-var-dtype:hover,\n",
              ".xr-attrs dt:hover {\n",
              "  overflow: visible;\n",
              "  width: auto;\n",
              "  z-index: 1;\n",
              "}\n",
              "\n",
              ".xr-var-attrs,\n",
              ".xr-var-data {\n",
              "  display: none;\n",
              "  background-color: var(--xr-background-color) !important;\n",
              "  padding-bottom: 5px !important;\n",
              "}\n",
              "\n",
              ".xr-var-attrs-in:checked ~ .xr-var-attrs,\n",
              ".xr-var-data-in:checked ~ .xr-var-data {\n",
              "  display: block;\n",
              "}\n",
              "\n",
              ".xr-var-data > table {\n",
              "  float: right;\n",
              "}\n",
              "\n",
              ".xr-var-name span,\n",
              ".xr-var-data,\n",
              ".xr-attrs {\n",
              "  padding-left: 25px !important;\n",
              "}\n",
              "\n",
              ".xr-attrs,\n",
              ".xr-var-attrs,\n",
              ".xr-var-data {\n",
              "  grid-column: 1 / -1;\n",
              "}\n",
              "\n",
              "dl.xr-attrs {\n",
              "  padding: 0;\n",
              "  margin: 0;\n",
              "  display: grid;\n",
              "  grid-template-columns: 125px auto;\n",
              "}\n",
              "\n",
              ".xr-attrs dt,\n",
              ".xr-attrs dd {\n",
              "  padding: 0;\n",
              "  margin: 0;\n",
              "  float: left;\n",
              "  padding-right: 10px;\n",
              "  width: auto;\n",
              "}\n",
              "\n",
              ".xr-attrs dt {\n",
              "  font-weight: normal;\n",
              "  grid-column: 1;\n",
              "}\n",
              "\n",
              ".xr-attrs dt:hover span {\n",
              "  display: inline-block;\n",
              "  background: var(--xr-background-color);\n",
              "  padding-right: 10px;\n",
              "}\n",
              "\n",
              ".xr-attrs dd {\n",
              "  grid-column: 2;\n",
              "  white-space: pre-wrap;\n",
              "  word-break: break-all;\n",
              "}\n",
              "\n",
              ".xr-icon-database,\n",
              ".xr-icon-file-text2 {\n",
              "  display: inline-block;\n",
              "  vertical-align: middle;\n",
              "  width: 1em;\n",
              "  height: 1.5em !important;\n",
              "  stroke-width: 0;\n",
              "  stroke: currentColor;\n",
              "  fill: currentColor;\n",
              "}\n",
              "</style><pre class='xr-text-repr-fallback'>&lt;xarray.Dataset&gt;\n",
              "Dimensions:    (time: 432, depth: 1, latitude: 330, longitude: 720)\n",
              "Coordinates:\n",
              "  * time       (time) float64 3.168e+08 3.195e+08 ... 1.448e+09 1.45e+09\n",
              "  * depth      (depth) float32 5.034\n",
              "  * latitude   (latitude) float32 -74.75 -74.25 -73.75 ... 88.75 89.25 89.75\n",
              "  * longitude  (longitude) float32 0.25 0.75 1.25 1.75 ... 358.8 359.2 359.8\n",
              "Data variables:\n",
              "    temp       (time, depth, latitude, longitude) float32 ...\n",
              "Attributes: (12/47)\n",
              "    _CoordSysBuilder:              ucar.nc2.internal.dataset.conv.DefaultConv...\n",
              "    acknowledgement:               The SODA3 project is funded by the US Nati...\n",
              "    cdm_data_type:                 Grid\n",
              "    Conventions:                   COARDS, CF-1.6, ACDD-1.3\n",
              "    Created_by:                    Gennady Chepurin and Ligang Chen\n",
              "    creation_date:                 October, 2016\n",
              "    ...                            ...\n",
              "    summary:                       SODA3.3.1 ocean state, forced by MERRA2. T...\n",
              "    time_coverage_end:             2015-12-16T00:00:00Z\n",
              "    time_coverage_start:           1980-01-16T00:00:00Z\n",
              "    title:                         SODA 3.3.1 Ocean State, 1/2°, Global, 1980...\n",
              "    Website:                       https://www.atmos.umd.edu/~ocean/\n",
              "    Westernmost_Easting:           0.25</pre><div class='xr-wrap' style='display:none'><div class='xr-header'><div class='xr-obj-type'>xarray.Dataset</div></div><ul class='xr-sections'><li class='xr-section-item'><input id='section-b08f5dd6-b523-463f-b00b-a470d0cf858f' class='xr-section-summary-in' type='checkbox' disabled ><label for='section-b08f5dd6-b523-463f-b00b-a470d0cf858f' class='xr-section-summary'  title='Expand/collapse section'>Dimensions:</label><div class='xr-section-inline-details'><ul class='xr-dim-list'><li><span class='xr-has-index'>time</span>: 432</li><li><span class='xr-has-index'>depth</span>: 1</li><li><span class='xr-has-index'>latitude</span>: 330</li><li><span class='xr-has-index'>longitude</span>: 720</li></ul></div><div class='xr-section-details'></div></li><li class='xr-section-item'><input id='section-d9a502ef-8573-48d8-b321-b765bbcbbd74' class='xr-section-summary-in' type='checkbox'  checked><label for='section-d9a502ef-8573-48d8-b321-b765bbcbbd74' class='xr-section-summary' >Coordinates: <span>(4)</span></label><div class='xr-section-inline-details'></div><div class='xr-section-details'><ul class='xr-var-list'><li class='xr-var-item'><div class='xr-var-name'><span class='xr-has-index'>time</span></div><div class='xr-var-dims'>(time)</div><div class='xr-var-dtype'>float64</div><div class='xr-var-preview xr-preview'>3.168e+08 3.195e+08 ... 1.45e+09</div><input id='attrs-850d9212-abc0-4424-ab0c-4d4b4da6b126' class='xr-var-attrs-in' type='checkbox' ><label for='attrs-850d9212-abc0-4424-ab0c-4d4b4da6b126' title='Show/Hide attributes'><svg class='icon xr-icon-file-text2'><use xlink:href='#icon-file-text2'></use></svg></label><input id='data-727e2e0f-ec7f-4ca1-b88e-208fcf3b664d' class='xr-var-data-in' type='checkbox'><label for='data-727e2e0f-ec7f-4ca1-b88e-208fcf3b664d' title='Show/Hide data repr'><svg class='icon xr-icon-database'><use xlink:href='#icon-database'></use></svg></label><div class='xr-var-attrs'><dl class='xr-attrs'><dt><span>_CoordinateAxisType :</span></dt><dd>Time</dd><dt><span>actual_range :</span></dt><dd>[3.168288e+08 1.450224e+09]</dd><dt><span>axis :</span></dt><dd>T</dd><dt><span>ioos_category :</span></dt><dd>Time</dd><dt><span>long_name :</span></dt><dd>Time</dd><dt><span>standard_name :</span></dt><dd>time</dd><dt><span>time_origin :</span></dt><dd>01-JAN-1970 00:00:00</dd><dt><span>units :</span></dt><dd>seconds since 1970-01-01T00:00:00Z</dd></dl></div><div class='xr-var-data'><pre>array([3.168288e+08, 3.195072e+08, 3.220128e+08, ..., 1.444954e+09,\n",
              "       1.447632e+09, 1.450224e+09])</pre></div></li><li class='xr-var-item'><div class='xr-var-name'><span class='xr-has-index'>depth</span></div><div class='xr-var-dims'>(depth)</div><div class='xr-var-dtype'>float32</div><div class='xr-var-preview xr-preview'>5.034</div><input id='attrs-94a72e9e-87b1-422d-be40-ca35c077ddbf' class='xr-var-attrs-in' type='checkbox' ><label for='attrs-94a72e9e-87b1-422d-be40-ca35c077ddbf' title='Show/Hide attributes'><svg class='icon xr-icon-file-text2'><use xlink:href='#icon-file-text2'></use></svg></label><input id='data-8ecb2ba7-5de0-4746-b59b-6831ab5fb27a' class='xr-var-data-in' type='checkbox'><label for='data-8ecb2ba7-5de0-4746-b59b-6831ab5fb27a' title='Show/Hide data repr'><svg class='icon xr-icon-database'><use xlink:href='#icon-database'></use></svg></label><div class='xr-var-attrs'><dl class='xr-attrs'><dt><span>_CoordinateAxisType :</span></dt><dd>Height</dd><dt><span>_CoordinateZisPositive :</span></dt><dd>down</dd><dt><span>actual_range :</span></dt><dd>[5.03355 5.03355]</dd><dt><span>axis :</span></dt><dd>Z</dd><dt><span>ioos_category :</span></dt><dd>Location</dd><dt><span>long_name :</span></dt><dd>Depth</dd><dt><span>positive :</span></dt><dd>down</dd><dt><span>standard_name :</span></dt><dd>depth</dd><dt><span>units :</span></dt><dd>m</dd></dl></div><div class='xr-var-data'><pre>array([5.03355], dtype=float32)</pre></div></li><li class='xr-var-item'><div class='xr-var-name'><span class='xr-has-index'>latitude</span></div><div class='xr-var-dims'>(latitude)</div><div class='xr-var-dtype'>float32</div><div class='xr-var-preview xr-preview'>-74.75 -74.25 ... 89.25 89.75</div><input id='attrs-e3b822a0-d789-4ef7-853e-19d7e2e4793f' class='xr-var-attrs-in' type='checkbox' ><label for='attrs-e3b822a0-d789-4ef7-853e-19d7e2e4793f' title='Show/Hide attributes'><svg class='icon xr-icon-file-text2'><use xlink:href='#icon-file-text2'></use></svg></label><input id='data-870b20a7-867a-477f-ac9e-8bba8043a34b' class='xr-var-data-in' type='checkbox'><label for='data-870b20a7-867a-477f-ac9e-8bba8043a34b' title='Show/Hide data repr'><svg class='icon xr-icon-database'><use xlink:href='#icon-database'></use></svg></label><div class='xr-var-attrs'><dl class='xr-attrs'><dt><span>_CoordinateAxisType :</span></dt><dd>Lat</dd><dt><span>actual_range :</span></dt><dd>[-74.75  89.75]</dd><dt><span>axis :</span></dt><dd>Y</dd><dt><span>ioos_category :</span></dt><dd>Location</dd><dt><span>long_name :</span></dt><dd>Latitude</dd><dt><span>standard_name :</span></dt><dd>latitude</dd><dt><span>units :</span></dt><dd>degrees_north</dd></dl></div><div class='xr-var-data'><pre>array([-74.75, -74.25, -73.75, ...,  88.75,  89.25,  89.75], dtype=float32)</pre></div></li><li class='xr-var-item'><div class='xr-var-name'><span class='xr-has-index'>longitude</span></div><div class='xr-var-dims'>(longitude)</div><div class='xr-var-dtype'>float32</div><div class='xr-var-preview xr-preview'>0.25 0.75 1.25 ... 359.2 359.8</div><input id='attrs-c1a668f2-f894-4999-beea-8f31de6f5d84' class='xr-var-attrs-in' type='checkbox' ><label for='attrs-c1a668f2-f894-4999-beea-8f31de6f5d84' title='Show/Hide attributes'><svg class='icon xr-icon-file-text2'><use xlink:href='#icon-file-text2'></use></svg></label><input id='data-a67519de-fefd-42fb-aad3-7a6c0967a3e6' class='xr-var-data-in' type='checkbox'><label for='data-a67519de-fefd-42fb-aad3-7a6c0967a3e6' title='Show/Hide data repr'><svg class='icon xr-icon-database'><use xlink:href='#icon-database'></use></svg></label><div class='xr-var-attrs'><dl class='xr-attrs'><dt><span>_CoordinateAxisType :</span></dt><dd>Lon</dd><dt><span>actual_range :</span></dt><dd>[2.5000e-01 3.5975e+02]</dd><dt><span>axis :</span></dt><dd>X</dd><dt><span>ioos_category :</span></dt><dd>Location</dd><dt><span>long_name :</span></dt><dd>Longitude</dd><dt><span>modulo :</span></dt><dd>360.0</dd><dt><span>standard_name :</span></dt><dd>longitude</dd><dt><span>units :</span></dt><dd>degrees_east</dd></dl></div><div class='xr-var-data'><pre>array([2.5000e-01, 7.5000e-01, 1.2500e+00, ..., 3.5875e+02, 3.5925e+02,\n",
              "       3.5975e+02], dtype=float32)</pre></div></li></ul></div></li><li class='xr-section-item'><input id='section-bf5dc944-9c29-4b6f-8035-ea695afcc842' class='xr-section-summary-in' type='checkbox'  checked><label for='section-bf5dc944-9c29-4b6f-8035-ea695afcc842' class='xr-section-summary' >Data variables: <span>(1)</span></label><div class='xr-section-inline-details'></div><div class='xr-section-details'><ul class='xr-var-list'><li class='xr-var-item'><div class='xr-var-name'><span>temp</span></div><div class='xr-var-dims'>(time, depth, latitude, longitude)</div><div class='xr-var-dtype'>float32</div><div class='xr-var-preview xr-preview'>...</div><input id='attrs-bb55cb47-9725-4fe6-83b9-826514fce2b1' class='xr-var-attrs-in' type='checkbox' ><label for='attrs-bb55cb47-9725-4fe6-83b9-826514fce2b1' title='Show/Hide attributes'><svg class='icon xr-icon-file-text2'><use xlink:href='#icon-file-text2'></use></svg></label><input id='data-7d734dec-0725-450f-bf7a-b30900b05573' class='xr-var-data-in' type='checkbox'><label for='data-7d734dec-0725-450f-bf7a-b30900b05573' title='Show/Hide data repr'><svg class='icon xr-icon-database'><use xlink:href='#icon-database'></use></svg></label><div class='xr-var-attrs'><dl class='xr-attrs'><dt><span>cell_methods :</span></dt><dd>time: mean</dd><dt><span>colorBarMaximum :</span></dt><dd>32.0</dd><dt><span>colorBarMinimum :</span></dt><dd>0.0</dd><dt><span>ioos_category :</span></dt><dd>Temperature</dd><dt><span>long_name :</span></dt><dd>Potential temperature</dd><dt><span>standard_name :</span></dt><dd>sea_water_potential_temperature</dd><dt><span>units :</span></dt><dd>degrees C</dd><dt><span>valid_range :</span></dt><dd>[-10. 500.]</dd></dl></div><div class='xr-var-data'><pre>[102643200 values with dtype=float32]</pre></div></li></ul></div></li><li class='xr-section-item'><input id='section-73a3ffa1-9660-43ab-8629-201f59bdfb40' class='xr-section-summary-in' type='checkbox'  ><label for='section-73a3ffa1-9660-43ab-8629-201f59bdfb40' class='xr-section-summary' >Attributes: <span>(47)</span></label><div class='xr-section-inline-details'></div><div class='xr-section-details'><dl class='xr-attrs'><dt><span>_CoordSysBuilder :</span></dt><dd>ucar.nc2.internal.dataset.conv.DefaultConventions</dd><dt><span>acknowledgement :</span></dt><dd>The SODA3 project is funded by the US National Science Foundation. Please cite: Carton, Chepurin, and Chen (2017)</dd><dt><span>cdm_data_type :</span></dt><dd>Grid</dd><dt><span>Conventions :</span></dt><dd>COARDS, CF-1.6, ACDD-1.3</dd><dt><span>Created_by :</span></dt><dd>Gennady Chepurin and Ligang Chen</dd><dt><span>creation_date :</span></dt><dd>October, 2016</dd><dt><span>creator_email :</span></dt><dd>carton@atmos.umd.edu</dd><dt><span>creator_name :</span></dt><dd>James A. Carton</dd><dt><span>creator_type :</span></dt><dd>person</dd><dt><span>creator_url :</span></dt><dd>https://www.atmos.umd.edu/~ocean/</dd><dt><span>defaultGraphQuery :</span></dt><dd>temp[last][0][0:last][0:last]&amp;.draw=surface&amp;.vars=longitude|latitude|temp</dd><dt><span>Easternmost_Easting :</span></dt><dd>359.75</dd><dt><span>geospatial_lat_max :</span></dt><dd>89.75</dd><dt><span>geospatial_lat_min :</span></dt><dd>-74.75</dd><dt><span>geospatial_lat_resolution :</span></dt><dd>0.5</dd><dt><span>geospatial_lat_units :</span></dt><dd>degrees_north</dd><dt><span>geospatial_lon_max :</span></dt><dd>359.75</dd><dt><span>geospatial_lon_min :</span></dt><dd>0.25</dd><dt><span>geospatial_lon_resolution :</span></dt><dd>0.5</dd><dt><span>geospatial_lon_units :</span></dt><dd>degrees_east</dd><dt><span>geospatial_vertical_max :</span></dt><dd>5.03355</dd><dt><span>geospatial_vertical_min :</span></dt><dd>5.03355</dd><dt><span>geospatial_vertical_positive :</span></dt><dd>down</dd><dt><span>geospatial_vertical_units :</span></dt><dd>m</dd><dt><span>history :</span></dt><dd>2021-11-11T08:12:35Z (local files)\n",
              "2021-11-11T08:12:35Z http://coastwatch.pfeg.noaa.gov/erddap/griddap/erdSoda331oceanmday.nc?temp%5B(1980-01-16):1:(2015-12-16)%5D%5B(5.03355):1:(5.03355)%5D%5B(-74.75):1:(89.75)%5D%5B(0.25):1:(359.75)%5D</dd><dt><span>infoUrl :</span></dt><dd>https://www.atmos.umd.edu/~ocean/</dd><dt><span>institution :</span></dt><dd>University of Maryland</dd><dt><span>keywords :</span></dt><dd>3.3.1, assimilation, circulation, current, currents, data, dbar, density, depth, dia, dia-surface, Earth Science &gt; Oceans &gt; Ocean Circulation &gt; Ocean Currents, Earth Science &gt; Oceans &gt; Ocean Temperature &gt; Potential Temperature, Earth Science &gt; Oceans &gt; Salinity/Density &gt; Potential Density, Earth Science &gt; Oceans &gt; Salinity/Density &gt; Salinity, i-current, j-current, latitude, level, longitude, maryland, ocean, points, potential, practical, prho, reanalysis, referenced, salinity, salt, sea, sea_water_potential_density, sea_water_potential_temperature, sea_water_practical_salinity, sea_water_x_velocity, sea_water_y_velocity, seawater, simple, soda, soda3.3.1, state, surface, t-points, temperature, time, u, university, v, velocity, water</dd><dt><span>keywords_vocabulary :</span></dt><dd>GCMD Science Keywords</dd><dt><span>license :</span></dt><dd>The data may be used and redistributed for free but is not intended\n",
              "for legal use, since it may contain inaccuracies. Neither the data\n",
              "Contributor, ERD, NOAA, nor the United States Government, nor any\n",
              "of their employees or contractors, makes any warranty, express or\n",
              "implied, including warranties of merchantability and fitness for a\n",
              "particular purpose, or assumes any legal liability for the accuracy,\n",
              "completeness, or usefulness, of this information.</dd><dt><span>Northernmost_Northing :</span></dt><dd>89.75</dd><dt><span>Principle_investigator :</span></dt><dd>James A. Carton</dd><dt><span>Principle_investigator_email :</span></dt><dd>carton@atmos.umd.edu</dd><dt><span>publisher_email :</span></dt><dd>erd.data@noaa.gov</dd><dt><span>publisher_name :</span></dt><dd>NOAA NMFS SWFSC ERD</dd><dt><span>publisher_type :</span></dt><dd>institution</dd><dt><span>publisher_url :</span></dt><dd>https://www.pfeg.noaa.gov</dd><dt><span>references :</span></dt><dd>Carton, Chepurin, and Chen (2017)</dd><dt><span>sourceUrl :</span></dt><dd>(local files)</dd><dt><span>Southernmost_Northing :</span></dt><dd>-74.75</dd><dt><span>standard_name_vocabulary :</span></dt><dd>CF Standard Name Table v70</dd><dt><span>summary :</span></dt><dd>SODA3.3.1 ocean state, forced by MERRA2. The goal of SODA is to reconstruct the historical physical (and eventually biogeochemical) history of the ocean. As its name implies, the Simple Ocean Data Assimilation ocean/sea ice reanalysis (SODA) uses a simple architecture based on community standard codes with resolution chosen to match available data and the scales of motion that are resolvable. Agreement with direct measurements (to within observational error estimates) as well as unbiased statistics are expected. Please cite: Carton, Chepurin, and Chen (2017).</dd><dt><span>time_coverage_end :</span></dt><dd>2015-12-16T00:00:00Z</dd><dt><span>time_coverage_start :</span></dt><dd>1980-01-16T00:00:00Z</dd><dt><span>title :</span></dt><dd>SODA 3.3.1 Ocean State, 1/2°, Global, 1980-2015, Monthly Composite</dd><dt><span>Website :</span></dt><dd>https://www.atmos.umd.edu/~ocean/</dd><dt><span>Westernmost_Easting :</span></dt><dd>0.25</dd></dl></div></li></ul></div></div>"
            ]
          },
          "metadata": {},
          "execution_count": 4
        }
      ]
    },
    {
      "cell_type": "code",
      "source": [
        "soda_array = soda.to_array(dim=\"temp\")\n",
        "soda_array = soda_array.to_numpy()\n",
        "soda_array = np.squeeze(soda_array, axis=(0,2))"
      ],
      "metadata": {
        "id": "dx_xGewJUPfi"
      },
      "execution_count": null,
      "outputs": []
    },
    {
      "cell_type": "code",
      "source": [
        "soda_array.shape\n",
        "soda_array[0]"
      ],
      "metadata": {
        "colab": {
          "base_uri": "https://localhost:8080/"
        },
        "id": "e4nSKK30Uqdq",
        "outputId": "fbcecf7d-2695-4462-ae32-34bc218d5f7d"
      },
      "execution_count": null,
      "outputs": [
        {
          "output_type": "execute_result",
          "data": {
            "text/plain": [
              "array([[       nan,        nan,        nan, ...,        nan,        nan,\n",
              "               nan],\n",
              "       [       nan,        nan,        nan, ...,        nan,        nan,\n",
              "               nan],\n",
              "       [       nan,        nan,        nan, ...,        nan,        nan,\n",
              "               nan],\n",
              "       ...,\n",
              "       [-1.7895846, -1.78924  , -1.7888818, ..., -1.7922941, -1.7912207,\n",
              "        -1.7901095],\n",
              "       [-1.7790489, -1.7780232, -1.777153 , ..., -1.7808189, -1.7805831,\n",
              "        -1.7801052],\n",
              "       [-1.7726142, -1.772514 , -1.7724175, ..., -1.7726903, -1.7726848,\n",
              "        -1.7726794]], dtype=float32)"
            ]
          },
          "metadata": {},
          "execution_count": 28
        }
      ]
    },
    {
      "cell_type": "markdown",
      "source": [
        "Import the [repo](https://github.com/bknyaz/graph_attention_pool) for the paper: Attention over nodes in Graph Neural Networks using PyTorch ([Knyazev et al., 2019](https://arxiv.org/abs/1905.02850))\n",
        "\n",
        "Use their example of evaluating a pretrained model on MNIST."
      ],
      "metadata": {
        "id": "r5GannJ5JV6W"
      }
    },
    {
      "cell_type": "code",
      "source": [
        "!git clone https://github.com/bknyaz/graph_attention_pool.git\n",
        "%cd graph_attention_pool"
      ],
      "metadata": {
        "colab": {
          "base_uri": "https://localhost:8080/"
        },
        "id": "JYRKe_9nKWJT",
        "outputId": "7e2c9278-9502-4230-f74d-55e95c15a33e"
      },
      "execution_count": null,
      "outputs": [
        {
          "output_type": "stream",
          "name": "stdout",
          "text": [
            "Cloning into 'graph_attention_pool'...\n",
            "remote: Enumerating objects: 455, done.\u001b[K\n",
            "remote: Counting objects: 100% (3/3), done.\u001b[K\n",
            "remote: Compressing objects: 100% (3/3), done.\u001b[K\n",
            "remote: Total 455 (delta 0), reused 0 (delta 0), pack-reused 452\u001b[K\n",
            "Receiving objects: 100% (455/455), 119.93 MiB | 14.90 MiB/s, done.\n",
            "Resolving deltas: 100% (253/253), done.\n",
            "/content/graph_attention_pool\n"
          ]
        }
      ]
    },
    {
      "cell_type": "code",
      "source": [
        "import urllib.request\n",
        "model_name = 'checkpoint_mnist-75sp_139255_epoch30_seed0000111.pth.tar'\n",
        "model_url = 'https://github.com/bknyaz/graph_attention_pool/raw/master/checkpoints/%s' % model_name\n",
        "model_path = 'checkpoints/%s' % model_name\n",
        "urllib.request.urlretrieve(model_url, model_path)"
      ],
      "metadata": {
        "colab": {
          "base_uri": "https://localhost:8080/"
        },
        "id": "fY3P4CHXJU4b",
        "outputId": "865bc299-8430-4003-fadd-c24333808427"
      },
      "execution_count": null,
      "outputs": [
        {
          "output_type": "execute_result",
          "data": {
            "text/plain": [
              "('checkpoints/checkpoint_mnist-75sp_139255_epoch30_seed0000111.pth.tar',\n",
              " <http.client.HTTPMessage at 0x7fb02ee226d0>)"
            ]
          },
          "metadata": {},
          "execution_count": 7
        }
      ]
    },
    {
      "cell_type": "markdown",
      "source": [
        "Load the model."
      ],
      "metadata": {
        "id": "H7RDFypXYXCj"
      }
    },
    {
      "cell_type": "code",
      "source": [
        "from chebygin import ChebyGIN\n",
        "\n",
        "state = torch.load(model_path)\n",
        "args = state['args']\n",
        "model = ChebyGIN(in_features=5, out_features=10, filters=args.filters, K=args.filter_scale,\n",
        "                 n_hidden=args.n_hidden, aggregation=args.aggregation, dropout=args.dropout,\n",
        "                 readout=args.readout, pool=args.pool, pool_arch=args.pool_arch)\n",
        "model.load_state_dict(state['state_dict'])\n",
        "model = model.eval()"
      ],
      "metadata": {
        "id": "LYblZYA4Iak7",
        "colab": {
          "base_uri": "https://localhost:8080/"
        },
        "outputId": "90a6af05-73e6-4296-aa59-a34e7a629eab"
      },
      "execution_count": null,
      "outputs": [
        {
          "output_type": "stream",
          "name": "stdout",
          "text": [
            "ChebyGINLayer torch.Size([4, 20]) tensor([0.5665, 0.5960, 0.5305, 0.6250], grad_fn=<SliceBackward0>)\n",
            "ChebyGINLayer torch.Size([64, 16]) tensor([0.5908, 0.5682, 0.6144, 0.5568, 0.4077, 0.5977, 0.4913, 0.5310, 0.5612,\n",
            "        0.5420], grad_fn=<SliceBackward0>)\n",
            "Default PyTorch init is used for layer torch.Size([1, 4]), std=0.242\n",
            "p values [ 0.44642788 -0.04229611  0.35800374  0.48456722]\n",
            "cos_sim -0.07371149957180023\n",
            "ChebyGINLayer torch.Size([512, 256]) tensor([0.5995, 0.5726, 0.5823, 0.5854, 0.6019, 0.5394, 0.5892, 0.5748, 0.5760,\n",
            "        0.5932], grad_fn=<SliceBackward0>)\n"
          ]
        }
      ]
    },
    {
      "cell_type": "markdown",
      "source": [
        "Extract superpixels and create node features"
      ],
      "metadata": {
        "id": "ZpKoGmQhYcB3"
      }
    },
    {
      "cell_type": "code",
      "source": [
        "import scipy.ndimage\n",
        "from skimage.segmentation import slic\n",
        "from scipy.spatial.distance import cdist\n",
        "\n",
        "# The number (n_segments) of superpixels returned by SLIC is usually smaller than requested, so we request more\n",
        "superpixels = slic(soda_array[0], n_segments=95, compactness=0.25, multichannel=False)\n",
        "sp_indices = np.unique(superpixels)\n",
        "n_sp = len(sp_indices)  # should be 74 with these parameters of slic\n",
        "\n",
        "sp_intensity = np.zeros((n_sp, 1), np.float32)\n",
        "sp_coord = np.zeros((n_sp, 2), np.float32)  # row, col\n",
        "for seg in sp_indices:\n",
        "    mask = superpixels == seg\n",
        "    sp_intensity[seg] = np.mean(soda_array[0][mask])\n",
        "    sp_coord[seg] = np.array(scipy.ndimage.measurements.center_of_mass(mask))\n",
        "\n",
        "# The model is invariant to the order of nodes in a graph\n",
        "# We can shuffle nodes and obtain exactly the same results\n",
        "ind = np.random.permutation(n_sp)\n",
        "sp_coord = sp_coord[ind]\n",
        "sp_intensity = sp_intensity[ind]"
      ],
      "metadata": {
        "colab": {
          "base_uri": "https://localhost:8080/"
        },
        "id": "u1_VYhmlVtOe",
        "outputId": "a818c0e5-39d2-4d05-faf8-13a81292a144"
      },
      "execution_count": null,
      "outputs": [
        {
          "output_type": "stream",
          "name": "stderr",
          "text": [
            "/usr/local/lib/python3.7/dist-packages/ipykernel_launcher.py:6: FutureWarning: skimage.measure.label's indexing starts from 0. In future version it will start from 1. To disable this warning, explicitely set the `start_label` parameter to 1.\n",
            "  \n"
          ]
        }
      ]
    },
    {
      "cell_type": "markdown",
      "source": [
        "Create edges between nodes in the form of adjacency matrix."
      ],
      "metadata": {
        "id": "JhWdyb_YYf2h"
      }
    },
    {
      "cell_type": "code",
      "source": [
        "sp_coord = sp_coord / soda_array.shape[1]\n",
        "dist = cdist(sp_coord, sp_coord)  # distance between all pairs of nodes\n",
        "sigma = 0.1 * np.pi  # width of a Guassian\n",
        "A = np.exp(- dist / sigma ** 2)  # transform distance to spatial closeness\n",
        "A[np.diag_indices_from(A)] = 0  # remove self-loops\n",
        "A = torch.from_numpy(A).float().unsqueeze(0)"
      ],
      "metadata": {
        "id": "lNIlIqlYVtsJ"
      },
      "execution_count": null,
      "outputs": []
    },
    {
      "cell_type": "markdown",
      "source": [
        "Prepare an input to the model and process it."
      ],
      "metadata": {
        "id": "H8zxwZtNYkb9"
      }
    },
    {
      "cell_type": "code",
      "source": [
        "N_nodes = sp_intensity.shape[0]\n",
        "mask = torch.ones(1, N_nodes, dtype=torch.uint8)\n",
        "\n",
        "# mean and std computed for superpixel features in the training set\n",
        "mn = torch.tensor([0.11225057, 0.11225057, 0.11225057, 0.44206527, 0.43950436]).view(1, 1, -1)\n",
        "sd = torch.tensor([0.2721889,  0.2721889,  0.2721889,  0.2987583,  0.30080357]).view(1, 1, -1)\n",
        "\n",
        "node_features = (torch.from_numpy(np.pad(np.concatenate((sp_intensity, sp_coord), axis=1),\n",
        "                                         ((0, 0), (2, 0)), 'edge')).unsqueeze(0) - mn) / sd    \n",
        "\n",
        "y, other_outputs = model([node_features, A, mask, None, {'N_nodes': torch.zeros(1, 1) + N_nodes}])\n",
        "alpha = other_outputs['alpha'][0].data"
      ],
      "metadata": {
        "id": "GxddbUNKYkje"
      },
      "execution_count": null,
      "outputs": []
    }
  ]
}