{
  "nbformat": 4,
  "nbformat_minor": 0,
  "metadata": {
    "colab": {
      "name": "4/25 Training GODAS C.ipynb",
      "provenance": [],
      "collapsed_sections": []
    },
    "kernelspec": {
      "name": "python3",
      "display_name": "Python 3"
    },
    "language_info": {
      "name": "python"
    },
    "accelerator": "GPU"
  },
  "cells": [
    {
      "cell_type": "markdown",
      "metadata": {
        "id": "anQ-OwaO3EuU"
      },
      "source": [
        "# **Training a Baseline CNN Model with Regional Multi-Year SST Anomaly Maps**\n",
        "\n",
        "by Ding"
      ]
    },
    {
      "cell_type": "markdown",
      "metadata": {
        "id": "3qzpdoaAN39a"
      },
      "source": [
        "Connect Google Drive."
      ]
    },
    {
      "cell_type": "code",
      "metadata": {
        "colab": {
          "base_uri": "https://localhost:8080/"
        },
        "id": "qxFfNH42Nejz",
        "outputId": "0a2ff60a-97f2-4366-d1a1-2162b7d76328"
      },
      "source": [
        "from google.colab import drive\n",
        "drive.mount('/gdrive', force_remount=True)"
      ],
      "execution_count": null,
      "outputs": [
        {
          "output_type": "stream",
          "text": [
            "Mounted at /gdrive\n"
          ],
          "name": "stdout"
        }
      ]
    },
    {
      "cell_type": "markdown",
      "metadata": {
        "id": "ZgOmazoON-lQ"
      },
      "source": [
        "Load the saved preprocessed datasets."
      ]
    },
    {
      "cell_type": "code",
      "metadata": {
        "id": "GRb0FkrHOBCe"
      },
      "source": [
        "import json\n",
        "\n",
        "with open('/gdrive/My Drive/GODAS/anomaly_sets_3_maps.txt', 'r') as in_file:\n",
        "    data_sets = json.load(in_file)"
      ],
      "execution_count": null,
      "outputs": []
    },
    {
      "cell_type": "code",
      "metadata": {
        "id": "LDWzZOBlOP5G"
      },
      "source": [
        "import numpy as np\n",
        "\n",
        "train_set_3 = np.array(data_sets[0])\n",
        "test_set_3 = np.array(data_sets[1])\n",
        "train_label = np.array(data_sets[2])\n",
        "test_label = np.array(data_sets[3])"
      ],
      "execution_count": null,
      "outputs": []
    },
    {
      "cell_type": "markdown",
      "metadata": {
        "id": "q4yolHfc3pPT"
      },
      "source": [
        "Simiarly, some details that have been explained in the privous notebook are omitted."
      ]
    },
    {
      "cell_type": "code",
      "metadata": {
        "id": "nC56_Aw43xLt"
      },
      "source": [
        "import torch \n",
        "import torch.nn as nn\n",
        "import torchvision\n",
        "import torchvision.transforms as transforms\n",
        "import torch.utils.data as Data\n",
        "from torch.autograd import Variable"
      ],
      "execution_count": null,
      "outputs": []
    },
    {
      "cell_type": "code",
      "metadata": {
        "id": "GVhcc_OWXoXd"
      },
      "source": [
        "train_data = []\n",
        "test_data = []\n",
        "\n",
        "for i in range(len(train_set_3)):\n",
        "  train_data.append((torch.from_numpy(train_set_3[i]), torch.from_numpy(train_label[i])))\n",
        "\n",
        "for i in range(len(test_set_3)):\n",
        "  test_data.append((torch.from_numpy(test_set_3[i]), torch.from_numpy(test_label[i])))"
      ],
      "execution_count": null,
      "outputs": []
    },
    {
      "cell_type": "code",
      "metadata": {
        "colab": {
          "base_uri": "https://localhost:8080/"
        },
        "id": "TpRSo888X_J3",
        "outputId": "0a8d0fa4-ce21-4f98-ecdd-a35eebece9f1"
      },
      "source": [
        "print(len(train_data))\n",
        "print(len(test_data))"
      ],
      "execution_count": null,
      "outputs": [
        {
          "output_type": "stream",
          "text": [
            "391\n",
            "95\n"
          ],
          "name": "stdout"
        }
      ]
    },
    {
      "cell_type": "code",
      "metadata": {
        "id": "QUITdtRrYCFq"
      },
      "source": [
        "device = torch.device('cuda:0' if torch.cuda.is_available() else 'cpu')"
      ],
      "execution_count": null,
      "outputs": []
    },
    {
      "cell_type": "code",
      "metadata": {
        "id": "67T5MxEiYQvC"
      },
      "source": [
        "EPOCH = 150\n",
        "BATCH_SIZE = 16\n",
        "LR = 0.00001"
      ],
      "execution_count": null,
      "outputs": []
    },
    {
      "cell_type": "code",
      "metadata": {
        "colab": {
          "base_uri": "https://localhost:8080/"
        },
        "id": "6KG1fVGXYTGE",
        "outputId": "5d5c294f-12d1-49aa-faad-546f7262c012"
      },
      "source": [
        "train_loader = Data.DataLoader(dataset=train_data, batch_size=BATCH_SIZE, shuffle=True)\n",
        "\n",
        "train_all_loader = Data.DataLoader(dataset=train_data, batch_size=391, shuffle=False)\n",
        "test_loader = Data.DataLoader(dataset=test_data, batch_size=95, shuffle=False)\n",
        "\n",
        "print(type(train_loader))"
      ],
      "execution_count": null,
      "outputs": [
        {
          "output_type": "stream",
          "text": [
            "<class 'torch.utils.data.dataloader.DataLoader'>\n"
          ],
          "name": "stdout"
        }
      ]
    },
    {
      "cell_type": "markdown",
      "metadata": {
        "id": "juxFgiCp--6c"
      },
      "source": [
        "Be sure to use the activiation functions that output negative values, such as the tangent hyperbolic function tanh()."
      ]
    },
    {
      "cell_type": "code",
      "metadata": {
        "id": "SIvWAY7oUqQJ"
      },
      "source": [
        "class CNN(nn.Module):\n",
        "    def __init__(self):\n",
        "        super(CNN, self).__init__()\n",
        "        self.conv1 = nn.Sequential(\n",
        "            nn.Conv2d(\n",
        "                in_channels=3,\n",
        "                out_channels=32,\n",
        "                kernel_size=3,\n",
        "                stride=1,\n",
        "                padding=1,\n",
        "            ),\n",
        "            nn.Tanh(),\n",
        "        )\n",
        "        self.conv2 = nn.Sequential(\n",
        "            nn.Conv2d(32, 16, 3, 1, 1),\n",
        "            nn.Tanh(),\n",
        "        )\n",
        "        self.conv3 = nn.Sequential(\n",
        "            nn.Conv2d(16, 1, 3, 1, 1),\n",
        "            nn.Tanh(),\n",
        "        )\n",
        "\n",
        "    def forward(self, x):\n",
        "        x = self.conv1(x)\n",
        "        x = self.conv2(x)\n",
        "        output = self.conv3(x)\n",
        "        #x = x.view(x.size(0), -1)\n",
        "        #output = self.out(x)\n",
        "        return output, x "
      ],
      "execution_count": null,
      "outputs": []
    },
    {
      "cell_type": "code",
      "metadata": {
        "colab": {
          "base_uri": "https://localhost:8080/"
        },
        "id": "q-BDoSYtYbGO",
        "outputId": "94a7e8f4-fe97-4f7b-e631-8739a9666ca4"
      },
      "source": [
        "cnn = CNN().double()\n",
        "\n",
        "print(cnn)"
      ],
      "execution_count": null,
      "outputs": [
        {
          "output_type": "stream",
          "text": [
            "CNN(\n",
            "  (conv1): Sequential(\n",
            "    (0): Conv2d(3, 32, kernel_size=(3, 3), stride=(1, 1), padding=(1, 1))\n",
            "    (1): Tanh()\n",
            "  )\n",
            "  (conv2): Sequential(\n",
            "    (0): Conv2d(32, 16, kernel_size=(3, 3), stride=(1, 1), padding=(1, 1))\n",
            "    (1): Tanh()\n",
            "  )\n",
            "  (conv3): Sequential(\n",
            "    (0): Conv2d(16, 1, kernel_size=(3, 3), stride=(1, 1), padding=(1, 1))\n",
            "    (1): Tanh()\n",
            "  )\n",
            ")\n"
          ],
          "name": "stdout"
        }
      ]
    },
    {
      "cell_type": "code",
      "metadata": {
        "id": "r9tSQ_d3Ybqy"
      },
      "source": [
        "optimizer = torch.optim.Adam(cnn.parameters(), lr=LR)\n",
        "loss_func = nn.MSELoss() "
      ],
      "execution_count": null,
      "outputs": []
    },
    {
      "cell_type": "code",
      "metadata": {
        "colab": {
          "base_uri": "https://localhost:8080/"
        },
        "id": "MLhUifH6Yd1r",
        "outputId": "daab09c8-7bb6-453f-b19c-3d9f4057252c"
      },
      "source": [
        "for epoch in range(EPOCH):\n",
        "    for step, (x, y) in enumerate(train_loader):\n",
        "        b_x = Variable(x)\n",
        "        b_y = Variable(y)\n",
        "\n",
        "        output = cnn(b_x)[0]\n",
        "        #output = output.reshape(-1)\n",
        "        loss = loss_func(output, b_y)\n",
        "        optimizer.zero_grad()\n",
        "        loss.backward()\n",
        "        optimizer.step()\n",
        "\n",
        "    for step, (x, y) in enumerate(train_all_loader):\n",
        "        c_x = Variable(x)\n",
        "        c_y = Variable(y)\n",
        "\n",
        "    for step, (x, y) in enumerate(test_loader):\n",
        "        d_x = Variable(x)\n",
        "        d_y = Variable(y)\n",
        "\n",
        "        if step % 100 == 0:\n",
        "            \n",
        "            pred_train_y, last_layer = cnn(c_x)\n",
        "            train_y = torch.Tensor(train_label).double()\n",
        "            train_mse = ((pred_train_y - c_y) ** 2).sum().item() / float(train_y.size(0))\n",
        "\n",
        "            pred_test_y, last_layer = cnn(d_x)\n",
        "            test_y = torch.Tensor(test_label).double()\n",
        "            test_mse = ((pred_test_y - d_y) ** 2).sum().item() / float(test_y.size(0))\n",
        "\n",
        "            print('Epoch: ', epoch, '| trainig loss: %.4f' % loss.data, '| training MSE: %.4f' % train_mse, '| test MSE: %.4f' % test_mse)"
      ],
      "execution_count": null,
      "outputs": [
        {
          "output_type": "stream",
          "text": [
            "Epoch:  0 | trainig loss: 0.3621 | training MSE: 81.1708 | test MSE: 143.9481\n",
            "Epoch:  1 | trainig loss: 0.2307 | training MSE: 78.3097 | test MSE: 138.1532\n",
            "Epoch:  2 | trainig loss: 0.3013 | training MSE: 75.7919 | test MSE: 132.9850\n",
            "Epoch:  3 | trainig loss: 0.1659 | training MSE: 73.3048 | test MSE: 127.7265\n",
            "Epoch:  4 | trainig loss: 0.3070 | training MSE: 71.1775 | test MSE: 123.4308\n",
            "Epoch:  5 | trainig loss: 0.2562 | training MSE: 69.1605 | test MSE: 119.4111\n",
            "Epoch:  6 | trainig loss: 0.3645 | training MSE: 67.3026 | test MSE: 115.4638\n",
            "Epoch:  7 | trainig loss: 0.2113 | training MSE: 65.5426 | test MSE: 111.7528\n",
            "Epoch:  8 | trainig loss: 0.1622 | training MSE: 63.9121 | test MSE: 108.3721\n",
            "Epoch:  9 | trainig loss: 0.1880 | training MSE: 62.4696 | test MSE: 105.3599\n",
            "Epoch:  10 | trainig loss: 0.1652 | training MSE: 61.0369 | test MSE: 102.3683\n",
            "Epoch:  11 | trainig loss: 0.1164 | training MSE: 59.7530 | test MSE: 99.7106\n",
            "Epoch:  12 | trainig loss: 0.1011 | training MSE: 58.6093 | test MSE: 97.2928\n",
            "Epoch:  13 | trainig loss: 0.3676 | training MSE: 57.4435 | test MSE: 94.7180\n",
            "Epoch:  14 | trainig loss: 0.1778 | training MSE: 56.4441 | test MSE: 92.7291\n",
            "Epoch:  15 | trainig loss: 0.1964 | training MSE: 55.4547 | test MSE: 90.5548\n",
            "Epoch:  16 | trainig loss: 0.1939 | training MSE: 54.5353 | test MSE: 88.6692\n",
            "Epoch:  17 | trainig loss: 0.1205 | training MSE: 53.7246 | test MSE: 87.0603\n",
            "Epoch:  18 | trainig loss: 0.1308 | training MSE: 52.9141 | test MSE: 85.3567\n",
            "Epoch:  19 | trainig loss: 0.2857 | training MSE: 52.1558 | test MSE: 83.7659\n",
            "Epoch:  20 | trainig loss: 0.1787 | training MSE: 51.4472 | test MSE: 82.3169\n",
            "Epoch:  21 | trainig loss: 0.0806 | training MSE: 50.8297 | test MSE: 81.1510\n",
            "Epoch:  22 | trainig loss: 0.1931 | training MSE: 50.1900 | test MSE: 79.9030\n",
            "Epoch:  23 | trainig loss: 0.2687 | training MSE: 49.6023 | test MSE: 78.7350\n",
            "Epoch:  24 | trainig loss: 0.1210 | training MSE: 49.0242 | test MSE: 77.5665\n",
            "Epoch:  25 | trainig loss: 0.2465 | training MSE: 48.5164 | test MSE: 76.6081\n",
            "Epoch:  26 | trainig loss: 0.1487 | training MSE: 47.9853 | test MSE: 75.5279\n",
            "Epoch:  27 | trainig loss: 0.2096 | training MSE: 47.5355 | test MSE: 74.6285\n",
            "Epoch:  28 | trainig loss: 0.1130 | training MSE: 47.0766 | test MSE: 73.8091\n",
            "Epoch:  29 | trainig loss: 0.1277 | training MSE: 46.6298 | test MSE: 72.9657\n",
            "Epoch:  30 | trainig loss: 0.2595 | training MSE: 46.2490 | test MSE: 72.2945\n",
            "Epoch:  31 | trainig loss: 0.0982 | training MSE: 45.8550 | test MSE: 71.8147\n",
            "Epoch:  32 | trainig loss: 0.1325 | training MSE: 45.4935 | test MSE: 71.1012\n",
            "Epoch:  33 | trainig loss: 0.1016 | training MSE: 45.1247 | test MSE: 70.4040\n",
            "Epoch:  34 | trainig loss: 0.1444 | training MSE: 44.8016 | test MSE: 69.9640\n",
            "Epoch:  35 | trainig loss: 0.0653 | training MSE: 44.5117 | test MSE: 69.3723\n",
            "Epoch:  36 | trainig loss: 0.2211 | training MSE: 44.2239 | test MSE: 68.8151\n",
            "Epoch:  37 | trainig loss: 0.2034 | training MSE: 43.9594 | test MSE: 68.4338\n",
            "Epoch:  38 | trainig loss: 0.1258 | training MSE: 43.6806 | test MSE: 68.2125\n",
            "Epoch:  39 | trainig loss: 0.2073 | training MSE: 43.4191 | test MSE: 67.5177\n",
            "Epoch:  40 | trainig loss: 0.0655 | training MSE: 43.1955 | test MSE: 67.2545\n",
            "Epoch:  41 | trainig loss: 0.0890 | training MSE: 42.9895 | test MSE: 66.6328\n",
            "Epoch:  42 | trainig loss: 0.1513 | training MSE: 42.7739 | test MSE: 66.3755\n",
            "Epoch:  43 | trainig loss: 0.0923 | training MSE: 42.5898 | test MSE: 66.1277\n",
            "Epoch:  44 | trainig loss: 0.1288 | training MSE: 42.4126 | test MSE: 65.7030\n",
            "Epoch:  45 | trainig loss: 0.1135 | training MSE: 42.2495 | test MSE: 65.4764\n",
            "Epoch:  46 | trainig loss: 0.1229 | training MSE: 42.0969 | test MSE: 65.0771\n",
            "Epoch:  47 | trainig loss: 0.1316 | training MSE: 41.9577 | test MSE: 64.9621\n",
            "Epoch:  48 | trainig loss: 0.2389 | training MSE: 41.8133 | test MSE: 64.5391\n",
            "Epoch:  49 | trainig loss: 0.1582 | training MSE: 41.6870 | test MSE: 64.4218\n",
            "Epoch:  50 | trainig loss: 0.0700 | training MSE: 41.5724 | test MSE: 64.1101\n",
            "Epoch:  51 | trainig loss: 0.0462 | training MSE: 41.4642 | test MSE: 63.8406\n",
            "Epoch:  52 | trainig loss: 0.2371 | training MSE: 41.3649 | test MSE: 63.7755\n",
            "Epoch:  53 | trainig loss: 0.1878 | training MSE: 41.2700 | test MSE: 63.4761\n",
            "Epoch:  54 | trainig loss: 0.0751 | training MSE: 41.1842 | test MSE: 63.2586\n",
            "Epoch:  55 | trainig loss: 0.0655 | training MSE: 41.1118 | test MSE: 63.2384\n",
            "Epoch:  56 | trainig loss: 0.0839 | training MSE: 41.0345 | test MSE: 62.9455\n",
            "Epoch:  57 | trainig loss: 0.1003 | training MSE: 40.9629 | test MSE: 62.7310\n",
            "Epoch:  58 | trainig loss: 0.0776 | training MSE: 40.8941 | test MSE: 62.5425\n",
            "Epoch:  59 | trainig loss: 0.0781 | training MSE: 40.8337 | test MSE: 62.5716\n",
            "Epoch:  60 | trainig loss: 0.0989 | training MSE: 40.7688 | test MSE: 62.3499\n",
            "Epoch:  61 | trainig loss: 0.3967 | training MSE: 40.7210 | test MSE: 62.2198\n",
            "Epoch:  62 | trainig loss: 0.1672 | training MSE: 40.6743 | test MSE: 62.1814\n",
            "Epoch:  63 | trainig loss: 0.3357 | training MSE: 40.6269 | test MSE: 62.0293\n",
            "Epoch:  64 | trainig loss: 0.0996 | training MSE: 40.5765 | test MSE: 61.8406\n",
            "Epoch:  65 | trainig loss: 0.1069 | training MSE: 40.5306 | test MSE: 61.6601\n",
            "Epoch:  66 | trainig loss: 0.0693 | training MSE: 40.4966 | test MSE: 61.6136\n",
            "Epoch:  67 | trainig loss: 0.1000 | training MSE: 40.4569 | test MSE: 61.5689\n",
            "Epoch:  68 | trainig loss: 0.1124 | training MSE: 40.4133 | test MSE: 61.5149\n",
            "Epoch:  69 | trainig loss: 0.0919 | training MSE: 40.3765 | test MSE: 61.4392\n",
            "Epoch:  70 | trainig loss: 0.1572 | training MSE: 40.3483 | test MSE: 61.4551\n",
            "Epoch:  71 | trainig loss: 0.1196 | training MSE: 40.3175 | test MSE: 61.3806\n",
            "Epoch:  72 | trainig loss: 0.1061 | training MSE: 40.2823 | test MSE: 61.1568\n",
            "Epoch:  73 | trainig loss: 0.1598 | training MSE: 40.2562 | test MSE: 61.0499\n",
            "Epoch:  74 | trainig loss: 0.2410 | training MSE: 40.2290 | test MSE: 60.9842\n",
            "Epoch:  75 | trainig loss: 0.0677 | training MSE: 40.2023 | test MSE: 60.8400\n",
            "Epoch:  76 | trainig loss: 0.0963 | training MSE: 40.1757 | test MSE: 60.7942\n",
            "Epoch:  77 | trainig loss: 0.1076 | training MSE: 40.1511 | test MSE: 60.8744\n",
            "Epoch:  78 | trainig loss: 0.1493 | training MSE: 40.1285 | test MSE: 60.6738\n",
            "Epoch:  79 | trainig loss: 0.2594 | training MSE: 40.1082 | test MSE: 60.7557\n",
            "Epoch:  80 | trainig loss: 0.1577 | training MSE: 40.0839 | test MSE: 60.5244\n",
            "Epoch:  81 | trainig loss: 0.1733 | training MSE: 40.0633 | test MSE: 60.7363\n",
            "Epoch:  82 | trainig loss: 0.0641 | training MSE: 40.0433 | test MSE: 60.4685\n",
            "Epoch:  83 | trainig loss: 0.0865 | training MSE: 40.0220 | test MSE: 60.4610\n",
            "Epoch:  84 | trainig loss: 0.0835 | training MSE: 40.0047 | test MSE: 60.2988\n",
            "Epoch:  85 | trainig loss: 0.1099 | training MSE: 39.9850 | test MSE: 60.4590\n",
            "Epoch:  86 | trainig loss: 0.0924 | training MSE: 39.9631 | test MSE: 60.2466\n",
            "Epoch:  87 | trainig loss: 0.1372 | training MSE: 39.9473 | test MSE: 60.3137\n",
            "Epoch:  88 | trainig loss: 0.0709 | training MSE: 39.9308 | test MSE: 60.2845\n",
            "Epoch:  89 | trainig loss: 0.1050 | training MSE: 39.9136 | test MSE: 60.1975\n",
            "Epoch:  90 | trainig loss: 0.1079 | training MSE: 39.8965 | test MSE: 60.3362\n",
            "Epoch:  91 | trainig loss: 0.1341 | training MSE: 39.8798 | test MSE: 60.1347\n",
            "Epoch:  92 | trainig loss: 0.0881 | training MSE: 39.8642 | test MSE: 60.1149\n",
            "Epoch:  93 | trainig loss: 0.1343 | training MSE: 39.8473 | test MSE: 60.2130\n",
            "Epoch:  94 | trainig loss: 0.1605 | training MSE: 39.8305 | test MSE: 59.9775\n",
            "Epoch:  95 | trainig loss: 0.1093 | training MSE: 39.8156 | test MSE: 59.9173\n",
            "Epoch:  96 | trainig loss: 0.1106 | training MSE: 39.8009 | test MSE: 59.9818\n",
            "Epoch:  97 | trainig loss: 0.2509 | training MSE: 39.7858 | test MSE: 59.9323\n",
            "Epoch:  98 | trainig loss: 0.1247 | training MSE: 39.7731 | test MSE: 59.7749\n",
            "Epoch:  99 | trainig loss: 0.1609 | training MSE: 39.7572 | test MSE: 59.7644\n",
            "Epoch:  100 | trainig loss: 0.2033 | training MSE: 39.7441 | test MSE: 59.8696\n",
            "Epoch:  101 | trainig loss: 0.1502 | training MSE: 39.7305 | test MSE: 59.9412\n",
            "Epoch:  102 | trainig loss: 0.2133 | training MSE: 39.7183 | test MSE: 59.8031\n",
            "Epoch:  103 | trainig loss: 0.0936 | training MSE: 39.7045 | test MSE: 59.6823\n",
            "Epoch:  104 | trainig loss: 0.0832 | training MSE: 39.6904 | test MSE: 59.7368\n",
            "Epoch:  105 | trainig loss: 0.1687 | training MSE: 39.6791 | test MSE: 59.5199\n",
            "Epoch:  106 | trainig loss: 0.1026 | training MSE: 39.6641 | test MSE: 59.6540\n",
            "Epoch:  107 | trainig loss: 0.1124 | training MSE: 39.6534 | test MSE: 59.6242\n",
            "Epoch:  108 | trainig loss: 0.1084 | training MSE: 39.6418 | test MSE: 59.7291\n",
            "Epoch:  109 | trainig loss: 0.0643 | training MSE: 39.6286 | test MSE: 59.7306\n",
            "Epoch:  110 | trainig loss: 0.0910 | training MSE: 39.6174 | test MSE: 59.5729\n",
            "Epoch:  111 | trainig loss: 0.1623 | training MSE: 39.6049 | test MSE: 59.6466\n",
            "Epoch:  112 | trainig loss: 0.0886 | training MSE: 39.5941 | test MSE: 59.4906\n",
            "Epoch:  113 | trainig loss: 0.1134 | training MSE: 39.5815 | test MSE: 59.5317\n",
            "Epoch:  114 | trainig loss: 0.0719 | training MSE: 39.5711 | test MSE: 59.4859\n",
            "Epoch:  115 | trainig loss: 0.1417 | training MSE: 39.5615 | test MSE: 59.7058\n",
            "Epoch:  116 | trainig loss: 0.1111 | training MSE: 39.5485 | test MSE: 59.5732\n",
            "Epoch:  117 | trainig loss: 0.0781 | training MSE: 39.5382 | test MSE: 59.5641\n",
            "Epoch:  118 | trainig loss: 0.0948 | training MSE: 39.5270 | test MSE: 59.3667\n",
            "Epoch:  119 | trainig loss: 0.2267 | training MSE: 39.5172 | test MSE: 59.5549\n",
            "Epoch:  120 | trainig loss: 0.0930 | training MSE: 39.5068 | test MSE: 59.2725\n",
            "Epoch:  121 | trainig loss: 0.1282 | training MSE: 39.4956 | test MSE: 59.3350\n",
            "Epoch:  122 | trainig loss: 0.1762 | training MSE: 39.4867 | test MSE: 59.3160\n",
            "Epoch:  123 | trainig loss: 0.1063 | training MSE: 39.4752 | test MSE: 59.3484\n",
            "Epoch:  124 | trainig loss: 0.1141 | training MSE: 39.4655 | test MSE: 59.3718\n",
            "Epoch:  125 | trainig loss: 0.1663 | training MSE: 39.4552 | test MSE: 59.3085\n",
            "Epoch:  126 | trainig loss: 0.1144 | training MSE: 39.4453 | test MSE: 59.2997\n",
            "Epoch:  127 | trainig loss: 0.0634 | training MSE: 39.4365 | test MSE: 59.3033\n",
            "Epoch:  128 | trainig loss: 0.1602 | training MSE: 39.4274 | test MSE: 59.3333\n",
            "Epoch:  129 | trainig loss: 0.1878 | training MSE: 39.4186 | test MSE: 59.4296\n",
            "Epoch:  130 | trainig loss: 0.0664 | training MSE: 39.4108 | test MSE: 59.4581\n",
            "Epoch:  131 | trainig loss: 0.1250 | training MSE: 39.3998 | test MSE: 59.3058\n",
            "Epoch:  132 | trainig loss: 0.1129 | training MSE: 39.3913 | test MSE: 59.1713\n",
            "Epoch:  133 | trainig loss: 0.1512 | training MSE: 39.3820 | test MSE: 59.1747\n",
            "Epoch:  134 | trainig loss: 0.0428 | training MSE: 39.3726 | test MSE: 59.1507\n",
            "Epoch:  135 | trainig loss: 0.1026 | training MSE: 39.3652 | test MSE: 59.3137\n",
            "Epoch:  136 | trainig loss: 0.1808 | training MSE: 39.3563 | test MSE: 59.2795\n",
            "Epoch:  137 | trainig loss: 0.0701 | training MSE: 39.3469 | test MSE: 59.1014\n",
            "Epoch:  138 | trainig loss: 0.0499 | training MSE: 39.3381 | test MSE: 59.0471\n",
            "Epoch:  139 | trainig loss: 0.0752 | training MSE: 39.3294 | test MSE: 59.0071\n",
            "Epoch:  140 | trainig loss: 0.0792 | training MSE: 39.3217 | test MSE: 58.9871\n",
            "Epoch:  141 | trainig loss: 0.1647 | training MSE: 39.3125 | test MSE: 59.0357\n",
            "Epoch:  142 | trainig loss: 0.1424 | training MSE: 39.3046 | test MSE: 58.9819\n",
            "Epoch:  143 | trainig loss: 0.0943 | training MSE: 39.2969 | test MSE: 58.8972\n",
            "Epoch:  144 | trainig loss: 0.0508 | training MSE: 39.2892 | test MSE: 58.8461\n",
            "Epoch:  145 | trainig loss: 0.2034 | training MSE: 39.2814 | test MSE: 58.7845\n",
            "Epoch:  146 | trainig loss: 0.0769 | training MSE: 39.2725 | test MSE: 58.8526\n",
            "Epoch:  147 | trainig loss: 0.0952 | training MSE: 39.2653 | test MSE: 58.7634\n",
            "Epoch:  148 | trainig loss: 0.0715 | training MSE: 39.2568 | test MSE: 58.7750\n",
            "Epoch:  149 | trainig loss: 0.1815 | training MSE: 39.2496 | test MSE: 58.8506\n"
          ],
          "name": "stdout"
        }
      ]
    },
    {
      "cell_type": "code",
      "metadata": {
        "colab": {
          "base_uri": "https://localhost:8080/"
        },
        "id": "u_Efgt2KbWGg",
        "outputId": "ca94739b-69ce-473f-c369-bb330910b6c4"
      },
      "source": [
        "print(type(pred_test_y))\n",
        "print(pred_test_y.shape)\n",
        "print(pred_test_y)"
      ],
      "execution_count": null,
      "outputs": [
        {
          "output_type": "stream",
          "text": [
            "<class 'torch.Tensor'>\n",
            "torch.Size([95, 1, 30, 10])\n",
            "tensor([[[[-1.1735e-01, -1.7992e-01, -2.6637e-01,  ..., -1.1169e-01,\n",
            "           -6.8349e-02, -5.4793e-02],\n",
            "          [-1.2559e-01, -2.3783e-01, -3.0670e-01,  ..., -7.0252e-02,\n",
            "           -3.6718e-02, -6.1386e-02],\n",
            "          [-1.2957e-01, -2.1711e-01, -3.0433e-01,  ..., -8.9092e-03,\n",
            "            1.4232e-02, -2.9411e-02],\n",
            "          ...,\n",
            "          [-1.5331e-02, -7.1157e-03,  5.2352e-05,  ...,  4.9689e-01,\n",
            "            4.2111e-01,  2.0851e-01],\n",
            "          [-2.4506e-02, -1.6078e-02, -5.8936e-03,  ...,  4.2346e-01,\n",
            "            3.6221e-01,  1.6987e-01],\n",
            "          [-4.1751e-02, -1.8895e-02, -2.0123e-02,  ...,  1.9349e-01,\n",
            "            1.4197e-01,  5.2484e-02]]],\n",
            "\n",
            "\n",
            "        [[[ 1.7715e-01,  2.9508e-01,  4.3769e-01,  ...,  5.5218e-01,\n",
            "            5.3205e-01,  3.8423e-01],\n",
            "          [ 2.7702e-01,  4.2098e-01,  5.5450e-01,  ...,  7.1387e-01,\n",
            "            6.8466e-01,  4.8788e-01],\n",
            "          [ 2.8625e-01,  3.5411e-01,  5.3580e-01,  ...,  7.4918e-01,\n",
            "            7.2821e-01,  5.2868e-01],\n",
            "          ...,\n",
            "          [-1.5331e-02, -7.1157e-03, -1.6580e-02,  ..., -1.4870e-01,\n",
            "           -2.2620e-01, -2.1402e-01],\n",
            "          [-2.4506e-02, -1.6078e-02, -2.4102e-02,  ..., -1.6265e-01,\n",
            "           -2.3419e-01, -2.0584e-01],\n",
            "          [-4.1751e-02, -1.8895e-02, -3.1319e-02,  ..., -1.1363e-01,\n",
            "           -1.4017e-01, -1.2392e-01]]],\n",
            "\n",
            "\n",
            "        [[[ 2.9245e-01,  4.3474e-01,  6.3812e-01,  ...,  6.5895e-01,\n",
            "            6.3748e-01,  4.9061e-01],\n",
            "          [ 4.7769e-01,  5.4973e-01,  7.9050e-01,  ...,  8.1161e-01,\n",
            "            7.8527e-01,  6.1644e-01],\n",
            "          [ 5.2083e-01,  4.1695e-01,  7.9238e-01,  ...,  8.4320e-01,\n",
            "            8.1982e-01,  6.5768e-01],\n",
            "          ...,\n",
            "          [-1.5331e-02, -7.1157e-03, -1.2719e-02,  ...,  3.6613e-01,\n",
            "            2.4190e-01,  7.2871e-02],\n",
            "          [-2.4506e-02, -1.6078e-02, -1.7564e-02,  ...,  2.5752e-01,\n",
            "            1.5806e-01,  2.8209e-02],\n",
            "          [-4.1751e-02, -1.8895e-02, -2.9640e-02,  ...,  7.9538e-02,\n",
            "            3.2198e-02, -4.1364e-02]]],\n",
            "\n",
            "\n",
            "        ...,\n",
            "\n",
            "\n",
            "        [[[ 2.0137e-02,  1.2455e-01,  2.6014e-01,  ...,  4.7831e-01,\n",
            "            4.7076e-01,  3.7397e-01],\n",
            "          [ 4.5936e-02,  1.5707e-01,  4.0620e-01,  ...,  6.5880e-01,\n",
            "            6.2212e-01,  4.8639e-01],\n",
            "          [-5.5090e-03,  4.7441e-02,  3.8255e-01,  ...,  6.8254e-01,\n",
            "            6.5634e-01,  5.2621e-01],\n",
            "          ...,\n",
            "          [-1.5331e-02, -7.1157e-03, -1.9357e-02,  ...,  4.8326e-01,\n",
            "            3.9090e-01,  2.5592e-01],\n",
            "          [-2.4506e-02, -1.6078e-02, -2.2617e-02,  ...,  3.9752e-01,\n",
            "            3.3049e-01,  2.0337e-01],\n",
            "          [-4.1751e-02, -1.8895e-02, -3.0963e-02,  ...,  1.4005e-01,\n",
            "            1.3697e-01,  6.6814e-02]]],\n",
            "\n",
            "\n",
            "        [[[ 6.9415e-02,  2.0105e-01,  3.6071e-01,  ...,  4.6567e-01,\n",
            "            4.2785e-01,  3.2894e-01],\n",
            "          [ 1.2189e-01,  2.6598e-01,  5.0907e-01,  ...,  6.3826e-01,\n",
            "            5.6443e-01,  4.1875e-01],\n",
            "          [ 7.4952e-02,  1.2926e-01,  4.6019e-01,  ...,  6.5626e-01,\n",
            "            5.9875e-01,  4.6196e-01],\n",
            "          ...,\n",
            "          [-1.5331e-02, -7.1157e-03, -2.1967e-02,  ...,  3.5282e-01,\n",
            "            3.9422e-01,  2.9517e-01],\n",
            "          [-2.4506e-02, -1.6078e-02, -2.7967e-02,  ...,  3.0570e-01,\n",
            "            3.5415e-01,  2.5435e-01],\n",
            "          [-4.1751e-02, -1.8895e-02, -3.4998e-02,  ...,  9.9866e-02,\n",
            "            1.5138e-01,  1.0225e-01]]],\n",
            "\n",
            "\n",
            "        [[[ 2.0819e-01,  3.8005e-01,  5.4912e-01,  ...,  5.1778e-01,\n",
            "            4.8940e-01,  3.8023e-01],\n",
            "          [ 3.4922e-01,  4.9326e-01,  7.0446e-01,  ...,  6.9162e-01,\n",
            "            6.4247e-01,  4.9188e-01],\n",
            "          [ 3.4089e-01,  3.3385e-01,  6.7794e-01,  ...,  7.2483e-01,\n",
            "            6.8819e-01,  5.4476e-01],\n",
            "          ...,\n",
            "          [-1.5331e-02, -7.1157e-03, -8.2183e-03,  ...,  4.9838e-01,\n",
            "            3.6690e-01,  1.9939e-01],\n",
            "          [-2.4506e-02, -1.6078e-02, -1.1162e-02,  ...,  3.9660e-01,\n",
            "            2.8122e-01,  1.3090e-01],\n",
            "          [-4.1751e-02, -1.8895e-02, -2.4367e-02,  ...,  1.2449e-01,\n",
            "            7.7284e-02,  1.0543e-02]]]], dtype=torch.float64,\n",
            "       grad_fn=<TanhBackward>)\n"
          ],
          "name": "stdout"
        }
      ]
    },
    {
      "cell_type": "code",
      "metadata": {
        "colab": {
          "base_uri": "https://localhost:8080/"
        },
        "id": "iYs41i8Mb74c",
        "outputId": "a3957e25-dda1-4177-f190-84b51bd1b261"
      },
      "source": [
        "print(type(d_y))\n",
        "print(d_y.shape)\n",
        "print(d_y)"
      ],
      "execution_count": null,
      "outputs": [
        {
          "output_type": "stream",
          "text": [
            "<class 'torch.Tensor'>\n",
            "torch.Size([95, 1, 30, 10])\n",
            "tensor([[[[ 6.2536e-01,  5.8061e-01,  6.6285e-01,  ...,  7.5132e-01,\n",
            "            7.1064e-01,  6.1276e-01],\n",
            "          [ 6.3944e-01,  5.7550e-01,  6.6355e-01,  ...,  8.2139e-01,\n",
            "            7.8756e-01,  6.8570e-01],\n",
            "          [ 6.3832e-01,  0.0000e+00,  6.5160e-01,  ...,  8.6377e-01,\n",
            "            8.3471e-01,  7.3221e-01],\n",
            "          ...,\n",
            "          [ 0.0000e+00,  0.0000e+00,  0.0000e+00,  ..., -7.0090e-02,\n",
            "           -1.0556e-01, -1.0924e-01],\n",
            "          [ 0.0000e+00,  0.0000e+00,  0.0000e+00,  ..., -1.5822e-01,\n",
            "           -1.5573e-01, -1.3381e-01],\n",
            "          [ 0.0000e+00,  0.0000e+00,  0.0000e+00,  ..., -2.6326e-01,\n",
            "           -2.1767e-01, -1.6088e-01]]],\n",
            "\n",
            "\n",
            "        [[[ 1.3124e+00,  1.3704e+00,  1.4696e+00,  ...,  1.3076e+00,\n",
            "            1.2208e+00,  1.1248e+00],\n",
            "          [ 1.3903e+00,  1.4506e+00,  1.5430e+00,  ...,  1.3910e+00,\n",
            "            1.2979e+00,  1.1949e+00],\n",
            "          [ 1.4542e+00,  0.0000e+00,  1.5609e+00,  ...,  1.4251e+00,\n",
            "            1.3327e+00,  1.2340e+00],\n",
            "          ...,\n",
            "          [ 0.0000e+00,  0.0000e+00,  0.0000e+00,  ...,  2.3639e-01,\n",
            "            1.3212e-01,  6.7997e-02],\n",
            "          [ 0.0000e+00,  0.0000e+00,  0.0000e+00,  ...,  1.5671e-01,\n",
            "            7.2675e-02,  1.2951e-03],\n",
            "          [ 0.0000e+00,  0.0000e+00,  0.0000e+00,  ...,  7.7724e-02,\n",
            "            3.2055e-02, -4.1994e-02]]],\n",
            "\n",
            "\n",
            "        [[[ 7.8442e-01,  8.5218e-01,  8.9952e-01,  ...,  7.9941e-01,\n",
            "            7.6697e-01,  7.5852e-01],\n",
            "          [ 9.1556e-01,  9.8083e-01,  1.0049e+00,  ...,  8.6379e-01,\n",
            "            8.2278e-01,  8.0860e-01],\n",
            "          [ 9.7257e-01,  0.0000e+00,  1.0294e+00,  ...,  8.8026e-01,\n",
            "            8.4123e-01,  8.3241e-01],\n",
            "          ...,\n",
            "          [ 0.0000e+00,  0.0000e+00,  0.0000e+00,  ...,  5.1916e-01,\n",
            "            3.7544e-01,  2.5858e-01],\n",
            "          [ 0.0000e+00,  0.0000e+00,  0.0000e+00,  ...,  4.8689e-01,\n",
            "            3.6601e-01,  2.4860e-01],\n",
            "          [ 0.0000e+00,  0.0000e+00,  0.0000e+00,  ...,  4.0743e-01,\n",
            "            3.0418e-01,  2.1208e-01]]],\n",
            "\n",
            "\n",
            "        ...,\n",
            "\n",
            "\n",
            "        [[[ 3.7045e-01,  5.1006e-01,  6.7272e-01,  ...,  7.4688e-01,\n",
            "            6.1223e-01,  5.3317e-01],\n",
            "          [ 3.2805e-01,  4.8064e-01,  6.6453e-01,  ...,  8.0834e-01,\n",
            "            7.0662e-01,  6.1787e-01],\n",
            "          [ 2.1910e-01,  0.0000e+00,  5.9277e-01,  ...,  8.2063e-01,\n",
            "            7.4330e-01,  6.7887e-01],\n",
            "          ...,\n",
            "          [ 0.0000e+00,  0.0000e+00,  0.0000e+00,  ...,  3.8812e-01,\n",
            "            4.7517e-01,  4.8207e-01],\n",
            "          [ 0.0000e+00,  0.0000e+00,  0.0000e+00,  ...,  4.2969e-01,\n",
            "            5.6750e-01,  5.9525e-01],\n",
            "          [ 0.0000e+00,  0.0000e+00,  0.0000e+00,  ...,  4.4843e-01,\n",
            "            6.2026e-01,  6.7171e-01]]],\n",
            "\n",
            "\n",
            "        [[[ 8.6030e-01,  9.5641e-01,  9.6420e-01,  ...,  8.2343e-01,\n",
            "            7.2549e-01,  6.5067e-01],\n",
            "          [ 9.0374e-01,  1.0068e+00,  9.9248e-01,  ...,  8.8655e-01,\n",
            "            8.2127e-01,  7.3881e-01],\n",
            "          [ 8.4714e-01,  0.0000e+00,  9.4061e-01,  ...,  9.4066e-01,\n",
            "            8.9156e-01,  8.2610e-01],\n",
            "          ...,\n",
            "          [ 0.0000e+00,  0.0000e+00,  0.0000e+00,  ...,  4.3795e-01,\n",
            "            3.1988e-01,  2.5882e-01],\n",
            "          [ 0.0000e+00,  0.0000e+00,  0.0000e+00,  ...,  4.3746e-01,\n",
            "            3.2741e-01,  2.5396e-01],\n",
            "          [ 0.0000e+00,  0.0000e+00,  0.0000e+00,  ...,  3.3984e-01,\n",
            "            2.8292e-01,  2.5658e-01]]],\n",
            "\n",
            "\n",
            "        [[[-4.7243e-02,  1.0369e-01,  2.1033e-01,  ...,  1.7179e-01,\n",
            "            2.5718e-01,  3.1928e-01],\n",
            "          [-3.1575e-03,  1.6256e-01,  2.6544e-01,  ...,  2.5901e-01,\n",
            "            3.5909e-01,  3.9996e-01],\n",
            "          [ 2.3922e-02,  0.0000e+00,  2.6673e-01,  ...,  3.2095e-01,\n",
            "            4.1893e-01,  4.4022e-01],\n",
            "          ...,\n",
            "          [ 0.0000e+00,  0.0000e+00,  0.0000e+00,  ...,  4.6548e-01,\n",
            "            2.4622e-01,  1.2036e-01],\n",
            "          [ 0.0000e+00,  0.0000e+00,  0.0000e+00,  ...,  4.6251e-01,\n",
            "            2.9991e-01,  1.6739e-01],\n",
            "          [ 0.0000e+00,  0.0000e+00,  0.0000e+00,  ...,  3.1415e-01,\n",
            "            2.6394e-01,  2.0507e-01]]]], dtype=torch.float64)\n"
          ],
          "name": "stdout"
        }
      ]
    },
    {
      "cell_type": "code",
      "metadata": {
        "id": "R9mWfU0BcMO8"
      },
      "source": [
        "pred_test_y_array = np.squeeze(pred_test_y.detach().cpu().numpy())\n",
        "test_y_array = np.squeeze(test_label, axis=1)"
      ],
      "execution_count": null,
      "outputs": []
    },
    {
      "cell_type": "code",
      "metadata": {
        "colab": {
          "base_uri": "https://localhost:8080/",
          "height": 736
        },
        "id": "tCAJgmzXdNCC",
        "outputId": "e7bdf5ef-f263-4e0b-d3f4-40af5d54c711"
      },
      "source": [
        "import matplotlib.pyplot as plt\n",
        "from matplotlib.colors import DivergingNorm\n",
        "import random\n",
        "\n",
        "def plot_map(index, y, pred, axx):\n",
        "  norm = DivergingNorm(vcenter=0, vmax=3, vmin=-3)\n",
        "  if pred == True:\n",
        "    axx.imshow(y[index], cmap = 'RdBu_r', norm=norm, interpolation='none')\n",
        "    axx.set_title('Predicted SST Anomaly Map', fontsize=15)\n",
        "  else:\n",
        "    axx.imshow(y[index], cmap = 'RdBu_r', norm=norm, interpolation='none')\n",
        "    axx.set_title('Observed SST Anomaly Map', fontsize=15)\n",
        "\n",
        "rand_index = random.sample(range(0, len(pred_test_y_array)), 4)\n",
        "fig, ax = plt.subplots(nrows=2,  ncols=4, figsize=(20, 10))\n",
        "j = 0\n",
        "\n",
        "for i in rand_index:\n",
        "  print('Index: ' + str(i))\n",
        "  plot_map(i, pred_test_y_array, True, ax[0][j])\n",
        "  plot_map(i, test_y_array, False, ax[1][j])\n",
        "  j += 1"
      ],
      "execution_count": null,
      "outputs": [
        {
          "output_type": "stream",
          "text": [
            "Index: 47\n",
            "Index: 10\n",
            "Index: 20\n",
            "Index: 28\n"
          ],
          "name": "stdout"
        },
        {
          "output_type": "stream",
          "text": [
            "/usr/local/lib/python3.7/dist-packages/ipykernel_launcher.py:6: MatplotlibDeprecationWarning: \n",
            "The DivergingNorm class was deprecated in Matplotlib 3.2 and will be removed two minor releases later. Use TwoSlopeNorm instead.\n",
            "  \n"
          ],
          "name": "stderr"
        },
        {
          "output_type": "display_data",
          "data": {
            "image/png": "[encoded data removed]",
            "text/plain": [
              "<Figure size 1440x720 with 8 Axes>"
            ]
          },
          "metadata": {
            "tags": [],
            "needs_background": "light"
          }
        }
      ]
    },
    {
      "cell_type": "markdown",
      "metadata": {
        "id": "xK4dTHXcoJHH"
      },
      "source": [
        "Then, we train another model, using one month anomaly map to predict the average SST value in the next month."
      ]
    },
    {
      "cell_type": "code",
      "metadata": {
        "id": "EiaVMN_2x3eA"
      },
      "source": [
        "with open('/gdrive/My Drive/GODAS/anomaly_sets_1_values.txt', 'r') as in_file:\n",
        "    data_sets = json.load(in_file)"
      ],
      "execution_count": null,
      "outputs": []
    },
    {
      "cell_type": "code",
      "metadata": {
        "id": "zabsSMw7x-ig"
      },
      "source": [
        "train_set = np.array(data_sets[0])\n",
        "test_set = np.array(data_sets[1])\n",
        "train_label = np.array(data_sets[2])\n",
        "test_label = np.array(data_sets[3])"
      ],
      "execution_count": null,
      "outputs": []
    },
    {
      "cell_type": "code",
      "metadata": {
        "colab": {
          "base_uri": "https://localhost:8080/"
        },
        "id": "Y5NpPzQ-yJ4Q",
        "outputId": "89614925-bd98-49e8-ab6d-960871b3c035"
      },
      "source": [
        "print(train_set.shape)\n",
        "print(test_set.shape)\n",
        "print(train_label.shape)\n",
        "print(test_label.shape)"
      ],
      "execution_count": null,
      "outputs": [
        {
          "output_type": "stream",
          "text": [
            "(393, 1, 30, 10)\n",
            "(97, 1, 30, 10)\n",
            "(393,)\n",
            "(97,)\n"
          ],
          "name": "stdout"
        }
      ]
    },
    {
      "cell_type": "code",
      "metadata": {
        "id": "Z1IFJj_szLFB"
      },
      "source": [
        "train_data = []\n",
        "test_data = []\n",
        "\n",
        "for i in range(len(train_set)):\n",
        "  train_data.append((torch.from_numpy(train_set[i]), train_label[i]))\n",
        "\n",
        "for i in range(len(test_set)):\n",
        "  test_data.append((torch.from_numpy(test_set[i]), test_label[i]))"
      ],
      "execution_count": null,
      "outputs": []
    },
    {
      "cell_type": "code",
      "metadata": {
        "id": "3GlrWVALzaAy"
      },
      "source": [
        "EPOCH = 50\n",
        "BATCH_SIZE = 8\n",
        "LR = 0.00001"
      ],
      "execution_count": null,
      "outputs": []
    },
    {
      "cell_type": "code",
      "metadata": {
        "colab": {
          "base_uri": "https://localhost:8080/"
        },
        "id": "v64uhrljzch_",
        "outputId": "9e0f0e26-32e8-4d21-f1f6-ca57dd08279f"
      },
      "source": [
        "train_loader = Data.DataLoader(dataset=train_data, batch_size=BATCH_SIZE, shuffle=True)\n",
        "\n",
        "train_all_loader = Data.DataLoader(dataset=train_data, batch_size=393, shuffle=False)\n",
        "test_loader = Data.DataLoader(dataset=test_data, batch_size=97, shuffle=False)\n",
        "\n",
        "print(type(train_loader))"
      ],
      "execution_count": null,
      "outputs": [
        {
          "output_type": "stream",
          "text": [
            "<class 'torch.utils.data.dataloader.DataLoader'>\n"
          ],
          "name": "stdout"
        }
      ]
    },
    {
      "cell_type": "code",
      "metadata": {
        "id": "mAQrYP05zkJ_"
      },
      "source": [
        "class CNN(nn.Module):\n",
        "    def __init__(self):\n",
        "        super(CNN, self).__init__()\n",
        "        self.conv1 = nn.Sequential(\n",
        "            nn.Conv2d(\n",
        "                in_channels=1,\n",
        "                out_channels=32,\n",
        "                kernel_size=3,\n",
        "                stride=1,\n",
        "                padding=1,\n",
        "            ),\n",
        "            nn.Tanh(),\n",
        "            nn.MaxPool2d(kernel_size=2),\n",
        "        )\n",
        "        self.conv2 = nn.Sequential(\n",
        "            nn.Conv2d(32, 16, 3, 1, 1),\n",
        "            nn.Tanh(),\n",
        "        )\n",
        "        self.out = nn.Linear(16 * 15 * 5, 1)\n",
        "\n",
        "    def forward(self, x):\n",
        "        x = self.conv1(x)\n",
        "        x = self.conv2(x)\n",
        "        x = x.view(x.size(0), -1)\n",
        "        output = self.out(x)\n",
        "        return output, x "
      ],
      "execution_count": null,
      "outputs": []
    },
    {
      "cell_type": "code",
      "metadata": {
        "colab": {
          "base_uri": "https://localhost:8080/"
        },
        "id": "rcWVSy8Uz08h",
        "outputId": "f4d6d97a-1c15-4938-c00b-2deeb86f06cf"
      },
      "source": [
        "cnn = CNN().double()\n",
        "\n",
        "print(cnn)"
      ],
      "execution_count": null,
      "outputs": [
        {
          "output_type": "stream",
          "text": [
            "CNN(\n",
            "  (conv1): Sequential(\n",
            "    (0): Conv2d(1, 32, kernel_size=(3, 3), stride=(1, 1), padding=(1, 1))\n",
            "    (1): Tanh()\n",
            "    (2): MaxPool2d(kernel_size=2, stride=2, padding=0, dilation=1, ceil_mode=False)\n",
            "  )\n",
            "  (conv2): Sequential(\n",
            "    (0): Conv2d(32, 16, kernel_size=(3, 3), stride=(1, 1), padding=(1, 1))\n",
            "    (1): Tanh()\n",
            "  )\n",
            "  (out): Linear(in_features=1200, out_features=1, bias=True)\n",
            ")\n"
          ],
          "name": "stdout"
        }
      ]
    },
    {
      "cell_type": "code",
      "metadata": {
        "id": "2uucn3Nqz3bM"
      },
      "source": [
        "optimizer = torch.optim.Adam(cnn.parameters(), lr=LR)\n",
        "loss_func = nn.MSELoss() "
      ],
      "execution_count": null,
      "outputs": []
    },
    {
      "cell_type": "code",
      "metadata": {
        "colab": {
          "base_uri": "https://localhost:8080/"
        },
        "id": "NqyzqGBMz557",
        "outputId": "27b6b6ed-cebb-42b6-f076-0451ed3ca89e"
      },
      "source": [
        "for epoch in range(EPOCH):\n",
        "    for step, (x, y) in enumerate(train_loader):\n",
        "        b_x = Variable(x)\n",
        "        b_y = Variable(y)\n",
        "\n",
        "        output = cnn(b_x)[0]\n",
        "        output = output.reshape(-1) # To avoid different sizes\n",
        "        loss = loss_func(output, b_y)\n",
        "        optimizer.zero_grad()\n",
        "        loss.backward()\n",
        "        optimizer.step()\n",
        "\n",
        "    for step, (x, y) in enumerate(train_all_loader):\n",
        "        c_x = Variable(x)\n",
        "        c_y = Variable(y)\n",
        "\n",
        "    for step, (x, y) in enumerate(test_loader):\n",
        "        d_x = Variable(x)\n",
        "        d_y = Variable(y)\n",
        "\n",
        "        if step % 100 == 0:\n",
        "            \n",
        "            pred_train_y, last_layer = cnn(c_x)\n",
        "            train_y = torch.Tensor(train_label).double()\n",
        "            train_mse = ((pred_train_y - c_y) ** 2).sum().item() / float(train_y.size(0))\n",
        "\n",
        "            pred_test_y, last_layer = cnn(d_x)\n",
        "            test_y = torch.Tensor(test_label).double()\n",
        "            test_mse = ((pred_test_y - d_y) ** 2).sum().item() / float(test_y.size(0))\n",
        "\n",
        "            print('Epoch: ', epoch, '| trainig loss: %.4f' % loss.data, '| training MSE: %.4f' % train_mse, '| test MSE: %.4f' % test_mse)"
      ],
      "execution_count": null,
      "outputs": [
        {
          "output_type": "stream",
          "text": [
            "Epoch:  0 | trainig loss: 0.0267 | training MSE: 189.4177 | test MSE: 37.8142\n",
            "Epoch:  1 | trainig loss: 0.0769 | training MSE: 190.7581 | test MSE: 37.7957\n",
            "Epoch:  2 | trainig loss: 0.9064 | training MSE: 186.9422 | test MSE: 37.7400\n",
            "Epoch:  3 | trainig loss: 0.0071 | training MSE: 187.4521 | test MSE: 37.4711\n",
            "Epoch:  4 | trainig loss: 0.0393 | training MSE: 190.3704 | test MSE: 37.6425\n",
            "Epoch:  5 | trainig loss: 0.0782 | training MSE: 189.6786 | test MSE: 37.5336\n",
            "Epoch:  6 | trainig loss: 0.0465 | training MSE: 189.0304 | test MSE: 37.6968\n",
            "Epoch:  7 | trainig loss: 1.1143 | training MSE: 189.4347 | test MSE: 37.7328\n",
            "Epoch:  8 | trainig loss: 0.2592 | training MSE: 189.1837 | test MSE: 37.2665\n",
            "Epoch:  9 | trainig loss: 0.2771 | training MSE: 191.3363 | test MSE: 37.4944\n",
            "Epoch:  10 | trainig loss: 0.0566 | training MSE: 190.4181 | test MSE: 37.5713\n",
            "Epoch:  11 | trainig loss: 0.0314 | training MSE: 190.1280 | test MSE: 37.5687\n",
            "Epoch:  12 | trainig loss: 0.0219 | training MSE: 190.0595 | test MSE: 37.5913\n",
            "Epoch:  13 | trainig loss: 0.0074 | training MSE: 189.9734 | test MSE: 37.4762\n",
            "Epoch:  14 | trainig loss: 1.1476 | training MSE: 190.4605 | test MSE: 37.4261\n",
            "Epoch:  15 | trainig loss: 0.1461 | training MSE: 192.2613 | test MSE: 37.6705\n",
            "Epoch:  16 | trainig loss: 0.0107 | training MSE: 191.5918 | test MSE: 37.5103\n",
            "Epoch:  17 | trainig loss: 0.0207 | training MSE: 191.2719 | test MSE: 37.5318\n",
            "Epoch:  18 | trainig loss: 0.0047 | training MSE: 191.4194 | test MSE: 37.3954\n",
            "Epoch:  19 | trainig loss: 0.1208 | training MSE: 189.6932 | test MSE: 37.3492\n",
            "Epoch:  20 | trainig loss: 0.2734 | training MSE: 190.1303 | test MSE: 37.3815\n",
            "Epoch:  21 | trainig loss: 0.0026 | training MSE: 189.4299 | test MSE: 37.2208\n",
            "Epoch:  22 | trainig loss: 0.0029 | training MSE: 189.5775 | test MSE: 37.2928\n",
            "Epoch:  23 | trainig loss: 0.0001 | training MSE: 190.4346 | test MSE: 37.1727\n",
            "Epoch:  24 | trainig loss: 0.0464 | training MSE: 190.1629 | test MSE: 37.1984\n",
            "Epoch:  25 | trainig loss: 0.1408 | training MSE: 189.8689 | test MSE: 37.2168\n",
            "Epoch:  26 | trainig loss: 0.2387 | training MSE: 191.1044 | test MSE: 37.0836\n",
            "Epoch:  27 | trainig loss: 0.0237 | training MSE: 191.1675 | test MSE: 37.1487\n",
            "Epoch:  28 | trainig loss: 0.0610 | training MSE: 190.5589 | test MSE: 37.0929\n",
            "Epoch:  29 | trainig loss: 0.5305 | training MSE: 190.0504 | test MSE: 37.0791\n",
            "Epoch:  30 | trainig loss: 0.2550 | training MSE: 188.0043 | test MSE: 37.2251\n",
            "Epoch:  31 | trainig loss: 0.0029 | training MSE: 189.8404 | test MSE: 37.0796\n",
            "Epoch:  32 | trainig loss: 0.0029 | training MSE: 189.5719 | test MSE: 36.9652\n",
            "Epoch:  33 | trainig loss: 0.3177 | training MSE: 192.0767 | test MSE: 37.0046\n",
            "Epoch:  34 | trainig loss: 0.3881 | training MSE: 191.9812 | test MSE: 36.7493\n",
            "Epoch:  35 | trainig loss: 0.0625 | training MSE: 192.4317 | test MSE: 37.0890\n",
            "Epoch:  36 | trainig loss: 0.0359 | training MSE: 191.6046 | test MSE: 36.9693\n",
            "Epoch:  37 | trainig loss: 0.0614 | training MSE: 191.4278 | test MSE: 36.9635\n",
            "Epoch:  38 | trainig loss: 0.0283 | training MSE: 191.9424 | test MSE: 36.8660\n",
            "Epoch:  39 | trainig loss: 0.0170 | training MSE: 189.3517 | test MSE: 37.0403\n",
            "Epoch:  40 | trainig loss: 0.0001 | training MSE: 190.3408 | test MSE: 36.9215\n",
            "Epoch:  41 | trainig loss: 1.1416 | training MSE: 190.8001 | test MSE: 36.8791\n",
            "Epoch:  42 | trainig loss: 0.1373 | training MSE: 192.4033 | test MSE: 37.1078\n",
            "Epoch:  43 | trainig loss: 0.1430 | training MSE: 191.2997 | test MSE: 36.9720\n",
            "Epoch:  44 | trainig loss: 0.0712 | training MSE: 192.4064 | test MSE: 36.9414\n",
            "Epoch:  45 | trainig loss: 0.0807 | training MSE: 191.1157 | test MSE: 37.0313\n",
            "Epoch:  46 | trainig loss: 0.0023 | training MSE: 190.5655 | test MSE: 36.9479\n",
            "Epoch:  47 | trainig loss: 0.4050 | training MSE: 191.1672 | test MSE: 36.8105\n",
            "Epoch:  48 | trainig loss: 0.0737 | training MSE: 192.7824 | test MSE: 36.8711\n",
            "Epoch:  49 | trainig loss: 0.0657 | training MSE: 191.7770 | test MSE: 36.9230\n"
          ],
          "name": "stdout"
        }
      ]
    },
    {
      "cell_type": "code",
      "metadata": {
        "id": "ASA0KMOQ0Wnc"
      },
      "source": [
        "import matplotlib.pyplot as plt\n",
        "import matplotlib.lines as mlines\n",
        "import matplotlib.transforms as mtransforms\n",
        "\n",
        "def plot_data(pred_y, real_y):\n",
        "  \n",
        "  pred_y = np.squeeze(pred_y.detach().cpu().numpy())\n",
        "\n",
        "  fig, ax = plt.subplots(figsize=(9, 9))\n",
        "\n",
        "  ax.set_xlim([-2.5, 2.5])\n",
        "  ax.set_ylim([-2.5, 2.5])\n",
        "  plt.xlabel('Observed Regional Average SST Anomaly', fontsize=20)\n",
        "  plt.ylabel('Predicted Regional Average SST Anomaly', fontsize=20)\n",
        "  ax.plot(real_y, pred_y, 'o', color='black')\n",
        "\n",
        "  line = mlines.Line2D([0, 1], [0, 1], color='red')\n",
        "  transform = ax.transAxes\n",
        "  line.set_transform(transform)\n",
        "  ax.add_line(line)"
      ],
      "execution_count": null,
      "outputs": []
    },
    {
      "cell_type": "code",
      "metadata": {
        "colab": {
          "base_uri": "https://localhost:8080/",
          "height": 560
        },
        "id": "IEqEyKZU0c8T",
        "outputId": "3c6f4ed7-0757-4db1-c27a-5d30a3e03be2"
      },
      "source": [
        "plot_data(pred_test_y, test_label)"
      ],
      "execution_count": null,
      "outputs": [
        {
          "output_type": "display_data",
          "data": {
            "image/png": "[encoded data removed]",
            "text/plain": [
              "<Figure size 648x648 with 1 Axes>"
            ]
          },
          "metadata": {
            "tags": [],
            "needs_background": "light"
          }
        }
      ]
    },
    {
      "cell_type": "code",
      "metadata": {
        "colab": {
          "base_uri": "https://localhost:8080/",
          "height": 560
        },
        "id": "E-9DN9G06p0y",
        "outputId": "bba7f9f8-6327-4f96-bda5-208386981967"
      },
      "source": [
        "plot_data(pred_train_y, train_label)"
      ],
      "execution_count": null,
      "outputs": [
        {
          "output_type": "display_data",
          "data": {
            "image/png": "[encoded data removed]",
            "text/plain": [
              "<Figure size 648x648 with 1 Axes>"
            ]
          },
          "metadata": {
            "tags": [],
            "needs_background": "light"
          }
        }
      ]
    },
    {
      "cell_type": "code",
      "metadata": {
        "colab": {
          "base_uri": "https://localhost:8080/",
          "height": 574
        },
        "id": "tYuRVt9SDYfv",
        "outputId": "73533742-e4cc-4b90-84a8-27d41e4001de"
      },
      "source": [
        "all_label_list = train_label.tolist() + test_label.tolist()\n",
        "\n",
        "fig, ax = plt.subplots(figsize=(9, 9))\n",
        "\n",
        "ax.set_xlim([-2.5, 2.5])\n",
        "ax.set_ylim([-2.5, 2.5])\n",
        "plt.xlabel('Observed Regional Average SST Anomaly in the First Month', fontsize=15)\n",
        "plt.ylabel('Observed Regional Average SST Anomaly in the Second Month', fontsize=15)\n",
        "ax.plot(np.array(all_label_list[:-2]), np.array(all_label_list[1:-1]), 'o', color='black')\n",
        "\n",
        "line = mlines.Line2D([0, 1], [0, 1], color='red')\n",
        "transform = ax.transAxes\n",
        "line.set_transform(transform)\n",
        "ax.add_line(line)"
      ],
      "execution_count": null,
      "outputs": [
        {
          "output_type": "execute_result",
          "data": {
            "text/plain": [
              "<matplotlib.lines.Line2D at 0x7fa833d9f1d0>"
            ]
          },
          "metadata": {
            "tags": []
          },
          "execution_count": 64
        },
        {
          "output_type": "display_data",
          "data": {
            "image/png": "[encoded data removed]",
            "text/plain": [
              "<Figure size 648x648 with 1 Axes>"
            ]
          },
          "metadata": {
            "tags": [],
            "needs_background": "light"
          }
        }
      ]
    }
  ]
}