{
  "nbformat": 4,
  "nbformat_minor": 0,
  "metadata": {
    "colab": {
      "name": "02/11 GNN SODA A.ipynb",
      "provenance": [],
      "collapsed_sections": []
    },
    "kernelspec": {
      "name": "python3",
      "display_name": "Python 3"
    },
    "language_info": {
      "name": "python"
    },
    "accelerator": "GPU"
  },
  "cells": [
    {
      "cell_type": "markdown",
      "source": [
        "# Preprocessing SODA and Training GNNs\n",
        "\n",
        "by Ding"
      ],
      "metadata": {
        "id": "mzcaDeWwDnML"
      }
    },
    {
      "cell_type": "markdown",
      "source": [
        "## 1. Preprocessing"
      ],
      "metadata": {
        "id": "lF14MaayDoVC"
      }
    },
    {
      "cell_type": "code",
      "source": [
        "!pip install geopandas\n",
        "\n",
        "import numpy as np\n",
        "from netCDF4 import Dataset\n",
        "import xarray as xr\n",
        "import matplotlib.pyplot as plt\n",
        "import pandas as pd\n",
        "import geopandas as gpd\n",
        "from geopandas import GeoDataFrame\n",
        "from shapely.geometry import Point\n",
        "\n",
        "from google.colab import drive\n",
        "drive.mount(\"/gdrive\", force_remount=True)\n",
        "\n",
        "!cp -a \"/gdrive/MyDrive/soda_331_pt_l5.nc\" \"/content/\""
      ],
      "metadata": {
        "colab": {
          "base_uri": "https://localhost:8080/"
        },
        "id": "HdzGdalaDtWI",
        "outputId": "f532b5b2-d6fc-49ba-89f8-d2249a5587d8"
      },
      "execution_count": 1,
      "outputs": [
        {
          "output_type": "stream",
          "name": "stdout",
          "text": [
            "Collecting geopandas\n",
            "  Downloading geopandas-0.10.2-py2.py3-none-any.whl (1.0 MB)\n",
            "\u001b[K     |████████████████████████████████| 1.0 MB 14.2 MB/s \n",
            "\u001b[?25hCollecting pyproj>=2.2.0\n",
            "  Downloading pyproj-3.2.1-cp37-cp37m-manylinux2010_x86_64.whl (6.3 MB)\n",
            "\u001b[K     |████████████████████████████████| 6.3 MB 60.6 MB/s \n",
            "\u001b[?25hCollecting fiona>=1.8\n",
            "  Downloading Fiona-1.8.21-cp37-cp37m-manylinux2014_x86_64.whl (16.7 MB)\n",
            "\u001b[K     |████████████████████████████████| 16.7 MB 48.5 MB/s \n",
            "\u001b[?25hRequirement already satisfied: pandas>=0.25.0 in /usr/local/lib/python3.7/dist-packages (from geopandas) (1.3.5)\n",
            "Requirement already satisfied: shapely>=1.6 in /usr/local/lib/python3.7/dist-packages (from geopandas) (1.8.1.post1)\n",
            "Requirement already satisfied: certifi in /usr/local/lib/python3.7/dist-packages (from fiona>=1.8->geopandas) (2021.10.8)\n",
            "Requirement already satisfied: setuptools in /usr/local/lib/python3.7/dist-packages (from fiona>=1.8->geopandas) (57.4.0)\n",
            "Requirement already satisfied: click>=4.0 in /usr/local/lib/python3.7/dist-packages (from fiona>=1.8->geopandas) (7.1.2)\n",
            "Requirement already satisfied: six>=1.7 in /usr/local/lib/python3.7/dist-packages (from fiona>=1.8->geopandas) (1.15.0)\n",
            "Collecting click-plugins>=1.0\n",
            "  Downloading click_plugins-1.1.1-py2.py3-none-any.whl (7.5 kB)\n",
            "Collecting munch\n",
            "  Downloading munch-2.5.0-py2.py3-none-any.whl (10 kB)\n",
            "Requirement already satisfied: attrs>=17 in /usr/local/lib/python3.7/dist-packages (from fiona>=1.8->geopandas) (21.4.0)\n",
            "Collecting cligj>=0.5\n",
            "  Downloading cligj-0.7.2-py3-none-any.whl (7.1 kB)\n",
            "Requirement already satisfied: numpy>=1.17.3 in /usr/local/lib/python3.7/dist-packages (from pandas>=0.25.0->geopandas) (1.21.5)\n",
            "Requirement already satisfied: pytz>=2017.3 in /usr/local/lib/python3.7/dist-packages (from pandas>=0.25.0->geopandas) (2018.9)\n",
            "Requirement already satisfied: python-dateutil>=2.7.3 in /usr/local/lib/python3.7/dist-packages (from pandas>=0.25.0->geopandas) (2.8.2)\n",
            "Installing collected packages: munch, cligj, click-plugins, pyproj, fiona, geopandas\n",
            "Successfully installed click-plugins-1.1.1 cligj-0.7.2 fiona-1.8.21 geopandas-0.10.2 munch-2.5.0 pyproj-3.2.1\n",
            "Mounted at /gdrive\n"
          ]
        }
      ]
    },
    {
      "cell_type": "code",
      "source": [
        "soda = xr.open_dataset(\"soda_331_pt_l5.nc\", decode_times=False)\n",
        "\n",
        "soda_array = soda.to_array(dim=\"temp\")\n",
        "soda_smaller = soda_array[:,:,:,::5,::5].to_dataset(dim=\"temp\")\n",
        "\n",
        "start_year = 1980\n",
        "end_year = 2009\n",
        "target_year = end_year + +1\n",
        "start_month = (start_year - 1980) * 12\n",
        "end_month = (end_year + 1 - 1980) * 12\n",
        "\n",
        "soda_sst_1980_2009 = np.zeros((end_month-start_month+12,1,66,144)) # Include one more year.\n",
        "soda_sst_1980_2009[:,:,:,:] = soda_smaller.variables[\"temp\"][0:end_month-start_month+12,:,:,:]\n",
        "soda_sst_1980_2009 = np.squeeze(soda_sst_1980_2009, axis=1)\n",
        "print(soda_sst_1980_2009.shape)\n",
        "\n",
        "soda_sst_2010 = np.zeros((12,1,66,144))\n",
        "soda_sst_2010[:,:,:,:] = soda_smaller.variables[\"temp\"][end_month-start_month:end_month-start_month+12,:,:,:]\n",
        "soda_sst_2010 = np.squeeze(soda_sst_2010, axis=1)\n",
        "print(soda_sst_2010.shape)"
      ],
      "metadata": {
        "colab": {
          "base_uri": "https://localhost:8080/"
        },
        "id": "aGUbMZ42LNQe",
        "outputId": "0e952602-75e3-4fd8-8ffa-bde23fd826f6"
      },
      "execution_count": 2,
      "outputs": [
        {
          "output_type": "stream",
          "name": "stdout",
          "text": [
            "(372, 66, 144)\n",
            "(12, 66, 144)\n"
          ]
        }
      ]
    },
    {
      "cell_type": "code",
      "source": [
        "soda_sst_1980_2009_transposed = soda_sst_1980_2009.transpose(1,2,0)\n",
        "soda_sst_1980_2009_flattened = soda_sst_1980_2009_transposed.reshape(soda_sst_1980_2009.shape[1] * soda_sst_1980_2009.shape[2],len(soda_sst_1980_2009))\n",
        "print(soda_sst_1980_2009_flattened.shape)\n",
        "\n",
        "soda_sst_2010_transposed = soda_sst_2010.transpose(1,2,0)\n",
        "soda_sst_2010_flattened = soda_sst_2010_transposed.reshape(soda_sst_2010.shape[1] * soda_sst_2010.shape[2],len(soda_sst_2010))\n",
        "print(soda_sst_2010_flattened.shape)"
      ],
      "metadata": {
        "colab": {
          "base_uri": "https://localhost:8080/"
        },
        "id": "Wo4HSa6jNKww",
        "outputId": "f7c791c2-6d52-4df4-e98f-6a5aa038fde6"
      },
      "execution_count": 3,
      "outputs": [
        {
          "output_type": "stream",
          "name": "stdout",
          "text": [
            "(9504, 372)\n",
            "(9504, 12)\n"
          ]
        }
      ]
    },
    {
      "cell_type": "code",
      "source": [
        "def dropna(arr, *args, **kwarg):\n",
        "    assert isinstance(arr, np.ndarray)\n",
        "    dropped=pd.DataFrame(arr).dropna(*args, **kwarg).values\n",
        "    if arr.ndim==1:\n",
        "        dropped=dropped.flatten()\n",
        "    return dropped\n",
        "\n",
        "soda_sst_ocean_1980_2009_flattened = dropna(soda_sst_1980_2009_flattened)\n",
        "print(soda_sst_ocean_1980_2009_flattened.shape)\n",
        "\n",
        "soda_sst_ocean_2010_flattened = dropna(soda_sst_2010_flattened)\n",
        "print(soda_sst_ocean_2010_flattened.shape)"
      ],
      "metadata": {
        "colab": {
          "base_uri": "https://localhost:8080/"
        },
        "id": "s7mbHccmR6ad",
        "outputId": "4da56fe1-b5c1-4590-95da-1aeaaac88173"
      },
      "execution_count": 4,
      "outputs": [
        {
          "output_type": "stream",
          "name": "stdout",
          "text": [
            "(6924, 372)\n",
            "(6924, 12)\n"
          ]
        }
      ]
    },
    {
      "cell_type": "code",
      "source": [
        "target_month = [\"Jan\", \"Feb\", \"Mar\", \"Apr\", \"May\", \"Jun\", \"Jul\", \"Aug\", \"Sep\", \"Oct\", \"Nov\", \"Dec\"]\n",
        "#target_month = [\"Jan\"]\n",
        "\n",
        "soda_sst_ocean_1980_2009_flattened_all = []\n",
        "soda_sst_ocean_2010_mhw_all = []\n",
        "\n",
        "for month in target_month:\n",
        "\n",
        "  index = target_month.index(month)\n",
        "  soda_sst_ocean_1980_2009_flattened_all.append(soda_sst_ocean_1980_2009_flattened[:,index:(index+soda_sst_ocean_1980_2009_flattened.shape[1]-12)])\n",
        "\n",
        "  soda_sst_ocean_2010_mhw = []\n",
        "  for row in range(len(soda_sst_ocean_1980_2009_flattened)):\n",
        "    sst_node = soda_sst_ocean_1980_2009_flattened[row][index::12]\n",
        "    #print(np.mean(sst_node))\n",
        "    if soda_sst_ocean_2010_flattened[row][index] > sorted(sst_node)[-4]:\n",
        "      soda_sst_ocean_2010_mhw.append(1)\n",
        "    else:\n",
        "      soda_sst_ocean_2010_mhw.append(0)\n",
        "  \n",
        "  print(month, target_year, \":\", soda_sst_ocean_2010_mhw.count(1), \"MHW\")\n",
        "  print(month, target_year, \":\", soda_sst_ocean_2010_mhw.count(0), \"no MHW\")\n",
        "  print()\n",
        "\n",
        "  soda_sst_ocean_2010_mhw = np.array(soda_sst_ocean_2010_mhw)\n",
        "  soda_sst_ocean_2010_mhw_all.append(soda_sst_ocean_2010_mhw)"
      ],
      "metadata": {
        "colab": {
          "base_uri": "https://localhost:8080/"
        },
        "id": "zr1xOR6poSbL",
        "outputId": "c75865e0-6519-4ea5-d78e-f498fb7a882b"
      },
      "execution_count": 5,
      "outputs": [
        {
          "output_type": "stream",
          "name": "stdout",
          "text": [
            "Jan 2010 : 1318 MHW\n",
            "Jan 2010 : 5606 no MHW\n",
            "\n",
            "Feb 2010 : 1427 MHW\n",
            "Feb 2010 : 5497 no MHW\n",
            "\n",
            "Mar 2010 : 1542 MHW\n",
            "Mar 2010 : 5382 no MHW\n",
            "\n",
            "Apr 2010 : 1440 MHW\n",
            "Apr 2010 : 5484 no MHW\n",
            "\n",
            "May 2010 : 1370 MHW\n",
            "May 2010 : 5554 no MHW\n",
            "\n",
            "Jun 2010 : 1363 MHW\n",
            "Jun 2010 : 5561 no MHW\n",
            "\n",
            "Jul 2010 : 1283 MHW\n",
            "Jul 2010 : 5641 no MHW\n",
            "\n",
            "Aug 2010 : 1444 MHW\n",
            "Aug 2010 : 5480 no MHW\n",
            "\n",
            "Sep 2010 : 1413 MHW\n",
            "Sep 2010 : 5511 no MHW\n",
            "\n",
            "Oct 2010 : 1368 MHW\n",
            "Oct 2010 : 5556 no MHW\n",
            "\n",
            "Nov 2010 : 1251 MHW\n",
            "Nov 2010 : 5673 no MHW\n",
            "\n",
            "Dec 2010 : 1367 MHW\n",
            "Dec 2010 : 5557 no MHW\n",
            "\n"
          ]
        }
      ]
    },
    {
      "cell_type": "code",
      "source": [
        "lons, lats = np.meshgrid(soda_smaller.longitude.values, soda_smaller.latitude.values)\n",
        "\n",
        "soda_time_1 = soda_smaller.temp.isel(depth=0,time=240)\n",
        "soda_time_1_lons, soda_time_1_lats = np.meshgrid(soda_time_1.longitude.values, soda_time_1.latitude.values)\n",
        "soda_masked = soda_time_1.where(abs(soda_time_1_lons) + abs(soda_time_1_lats) > 0)\n",
        "\n",
        "soda_masked.values.flatten()[soda_masked.notnull().values.flatten()]\n",
        "\n",
        "from sklearn.metrics.pairwise import haversine_distances\n",
        "\n",
        "lons_ocean = soda_time_1_lons.flatten()[soda_masked.notnull().values.flatten()]\n",
        "lons_ocean = lons_ocean[::]\n",
        "lats_ocean = soda_time_1_lats.flatten()[soda_masked.notnull().values.flatten()]\n",
        "lats_ocean = lats_ocean[::]\n",
        "\n",
        "lons_ocean *= np.pi/180\n",
        "lats_ocean *= np.pi/180\n",
        "\n",
        "points_ocean = np.concatenate([np.expand_dims(lats_ocean.flatten(),-1), np.expand_dims(lons_ocean.flatten(),-1)],-1)\n",
        "\n",
        "distance_ocean = 6371*haversine_distances(points_ocean)\n",
        "\n",
        "distance_ocean_diag = distance_ocean\n",
        "distance_ocean_diag[distance_ocean_diag==0] = 1\n",
        "\n",
        "distance_ocean_recip = np.reciprocal(distance_ocean_diag)\n",
        "\n",
        "distance_ocean_recip.shape"
      ],
      "metadata": {
        "colab": {
          "base_uri": "https://localhost:8080/"
        },
        "id": "o8K8AXQwly2F",
        "outputId": "2e2d9414-0e4b-456a-fccc-28d98b35aacc"
      },
      "execution_count": 6,
      "outputs": [
        {
          "output_type": "execute_result",
          "data": {
            "text/plain": [
              "(6924, 6924)"
            ]
          },
          "metadata": {},
          "execution_count": 6
        }
      ]
    },
    {
      "cell_type": "code",
      "source": [
        "adjacency_matrix = distance_ocean_recip\n",
        "\n",
        "w = []\n",
        "\n",
        "for i in range(distance_ocean_recip.shape[0]):\n",
        "  for j in range(distance_ocean_recip.shape[1]):\n",
        "    if i != j:\n",
        "      w.append(distance_ocean_recip[i][j])"
      ],
      "metadata": {
        "id": "v3OsJt4omDGE"
      },
      "execution_count": 7,
      "outputs": []
    },
    {
      "cell_type": "markdown",
      "source": [
        "## 2. GNN"
      ],
      "metadata": {
        "id": "vHV3fKk0ttuy"
      }
    },
    {
      "cell_type": "code",
      "source": [
        "!pip install dgl -f https://data.dgl.ai/wheels/repo.html\n",
        "\n",
        "import random\n",
        "\n",
        "import torch\n",
        "\n",
        "import dgl\n",
        "import dgl.nn as dglnn\n",
        "import dgl.data\n",
        "import torch.nn as nn\n",
        "import torch.nn.functional as F"
      ],
      "metadata": {
        "colab": {
          "base_uri": "https://localhost:8080/"
        },
        "id": "bOvjjT3gud5H",
        "outputId": "c401f125-f649-4999-9280-8ca5c2c1f091"
      },
      "execution_count": 8,
      "outputs": [
        {
          "output_type": "stream",
          "name": "stdout",
          "text": [
            "Looking in links: https://data.dgl.ai/wheels/repo.html\n",
            "Collecting dgl\n",
            "  Downloading https://data.dgl.ai/wheels/dgl-0.8.0-cp37-cp37m-manylinux1_x86_64.whl (6.1 MB)\n",
            "\u001b[K     |████████████████████████████████| 6.1 MB 6.8 MB/s \n",
            "\u001b[?25hRequirement already satisfied: numpy>=1.14.0 in /usr/local/lib/python3.7/dist-packages (from dgl) (1.21.5)\n",
            "Requirement already satisfied: networkx>=2.1 in /usr/local/lib/python3.7/dist-packages (from dgl) (2.6.3)\n",
            "Requirement already satisfied: tqdm in /usr/local/lib/python3.7/dist-packages (from dgl) (4.63.0)\n",
            "Requirement already satisfied: requests>=2.19.0 in /usr/local/lib/python3.7/dist-packages (from dgl) (2.23.0)\n",
            "Requirement already satisfied: scipy>=1.1.0 in /usr/local/lib/python3.7/dist-packages (from dgl) (1.4.1)\n",
            "Requirement already satisfied: idna<3,>=2.5 in /usr/local/lib/python3.7/dist-packages (from requests>=2.19.0->dgl) (2.10)\n",
            "Requirement already satisfied: urllib3!=1.25.0,!=1.25.1,<1.26,>=1.21.1 in /usr/local/lib/python3.7/dist-packages (from requests>=2.19.0->dgl) (1.24.3)\n",
            "Requirement already satisfied: chardet<4,>=3.0.2 in /usr/local/lib/python3.7/dist-packages (from requests>=2.19.0->dgl) (3.0.4)\n",
            "Requirement already satisfied: certifi>=2017.4.17 in /usr/local/lib/python3.7/dist-packages (from requests>=2.19.0->dgl) (2021.10.8)\n",
            "Installing collected packages: dgl\n",
            "Successfully installed dgl-0.8.0\n"
          ]
        },
        {
          "output_type": "stream",
          "name": "stderr",
          "text": [
            "DGL backend not selected or invalid.  Assuming PyTorch for now.\n"
          ]
        },
        {
          "output_type": "stream",
          "name": "stdout",
          "text": [
            "Setting the default backend to \"pytorch\". You can change it in the ~/.dgl/config.json file or export the DGLBACKEND environment variable.  Valid options are: pytorch, mxnet, tensorflow (all lowercase)\n"
          ]
        }
      ]
    },
    {
      "cell_type": "code",
      "source": [
        "node_num = len(soda_sst_ocean_1980_2009_flattened_all[index])\n",
        "\n",
        "def graph_structure():\n",
        "  u = []\n",
        "  v = []\n",
        "  for i in range(node_num):\n",
        "    for j in range(node_num):\n",
        "      if j == i:\n",
        "        pass\n",
        "      else:\n",
        "        u.append(i)\n",
        "        v.append(j)\n",
        "  return torch.tensor(u), torch.tensor(v)\n",
        "  \n",
        "u, v = graph_structure()\n",
        "graph = dgl.graph((u, v))"
      ],
      "metadata": {
        "id": "o-Z4FC2HyZow"
      },
      "execution_count": 9,
      "outputs": []
    },
    {
      "cell_type": "code",
      "source": [
        "weights = torch.tensor(w)"
      ],
      "metadata": {
        "id": "2f1bO-d1tnWE"
      },
      "execution_count": 10,
      "outputs": []
    },
    {
      "cell_type": "code",
      "source": [
        "def split(a, n):\n",
        "    k, m = divmod(len(a), n)\n",
        "    return (a[i*k+min(i, m):(i+1)*k+min(i+1, m)] for i in range(n))"
      ],
      "metadata": {
        "id": "6MEOgzyh0GfG"
      },
      "execution_count": 11,
      "outputs": []
    },
    {
      "cell_type": "code",
      "source": [
        "class SAGE(nn.Module):\n",
        "    def __init__(self, in_feats, hid_feats, out_feats):\n",
        "        super().__init__()\n",
        "        self.conv1 = dglnn.SAGEConv(\n",
        "            in_feats=in_feats, out_feats=hid_feats, aggregator_type='mean')\n",
        "        self.conv2 = dglnn.SAGEConv(\n",
        "            in_feats=hid_feats, out_feats=out_feats, aggregator_type='mean')\n",
        "\n",
        "    def forward(self, graph, inputs):\n",
        "        # Inputs are features of nodes.\n",
        "        h = self.conv1(graph, inputs)\n",
        "        h = torch.tanh(h) # sigmoid(h), relu(h)\n",
        "        h = self.conv2(graph, h)\n",
        "        return h\n",
        "\n",
        "def evaluate(model, graph, features, labels, mask):\n",
        "    model.eval()\n",
        "    with torch.no_grad():\n",
        "        logits = model(graph, features)\n",
        "        logits = logits[mask]\n",
        "        labels = labels[mask]\n",
        "        _, indices = torch.max(logits, dim=1)\n",
        "        #print(\"Validation / test observed class:\", labels.tolist(), \"| predicted class:\", indices.tolist())\n",
        "        #correct = torch.sum(indices == labels)\n",
        "        combine = indices + labels\n",
        "        accuracy = torch.sum(indices == labels).item() * 1.0 / len(labels)\n",
        "        precision = (torch.sum(combine == 2).item() * 1.0) / (torch.sum(labels == 1).item() * 1.0)\n",
        "\n",
        "        tp = (torch.sum(combine == 2).item() * 1.0)\n",
        "        fp = (torch.sum(labels == 1).item() * 1.0) - (torch.sum(combine == 2).item() * 1.0)\n",
        "        tn = (torch.sum(combine == 0).item() * 1.0)\n",
        "        fn = (torch.sum(indices == 1).item() * 1.0) - (torch.sum(combine == 2).item() * 1.0)\n",
        "        kappa = (2 * (tp * tn - fn * fp)) / ((tp + fp) * (fp + tn) + (tp + fn) * (fn + tn))\n",
        "\n",
        "        return accuracy, precision, kappa"
      ],
      "metadata": {
        "id": "RRWvhmmF2VHB"
      },
      "execution_count": 12,
      "outputs": []
    },
    {
      "cell_type": "code",
      "source": [
        "test_results = []\n",
        "\n",
        "for month in target_month:\n",
        "  \n",
        "  print(\"--------------------\")\n",
        "  print(\"Start training for\", month, \".\")\n",
        "  print()\n",
        "\n",
        "  index = target_month.index(month)\n",
        "  node_num = len(soda_sst_ocean_1980_2009_flattened_all[index])\n",
        "\n",
        "  node_feature = torch.tensor(soda_sst_ocean_1980_2009_flattened_all[index])\n",
        "  node_class = torch.tensor(soda_sst_ocean_2010_mhw_all[index])\n",
        "\n",
        "  graph.ndata[\"feat\"] = node_feature\n",
        "  graph.ndata[\"label\"] = node_class\n",
        "\n",
        "  graph.edata['w'] = weights\n",
        "\n",
        "  def masks():\n",
        "    train = [True] * node_num\n",
        "    val = [False] * node_num\n",
        "    test = [False] * node_num\n",
        "    randomlist = []\n",
        "    for i in range(0, round(node_num * 0.3)):\n",
        "      n = random.randint(0, node_num-1) # Need to substract 1 to be in the list index range.\n",
        "      randomlist.append(n)\n",
        "    #print(randomlist)\n",
        "    randomlist_split = list(split(randomlist, 3))\n",
        "    for i in randomlist_split[0]:\n",
        "      val[i] = True\n",
        "    for i in randomlist_split[1]:\n",
        "      test[i] = True\n",
        "    for i in randomlist_split[2]:\n",
        "      test[i] = True\n",
        "    for i in randomlist:\n",
        "      train[i] = False\n",
        "    #print(\"Training mask:\")\n",
        "    #print(train)\n",
        "    return torch.tensor(train), torch.tensor(val), torch.tensor(test)\n",
        "\n",
        "  graph.ndata[\"train_mask\"], graph.ndata[\"val_mask\"], graph.ndata[\"test_mask\"] = masks()\n",
        "  #print(graph.ndata)\n",
        "\n",
        "  node_features = graph.ndata['feat']\n",
        "  node_labels = graph.ndata['label']\n",
        "  train_mask = graph.ndata['train_mask']\n",
        "  valid_mask = graph.ndata['val_mask']\n",
        "  test_mask = graph.ndata['test_mask']\n",
        "  n_features = node_features.shape[1]\n",
        "  n_labels = int(node_labels.max().item() + 1)\n",
        "\n",
        "  model = SAGE(in_feats=n_features, hid_feats=200, out_feats=n_labels)\n",
        "  #opt = torch.optim.Adam(model.parameters(), lr=0.0005)\n",
        "  opt = torch.optim.SGD(model.parameters(), lr=0.0001) #momentum=0.9\n",
        "\n",
        "  for epoch in range(5):\n",
        "      print(\"Epoch:\", epoch+1)\n",
        "      model.train()\n",
        "      # Forward propagation by using all nodes\n",
        "      logits = model(graph, node_features.float())\n",
        "      # Compute loss.\n",
        "      loss = F.cross_entropy(logits[train_mask], node_labels[train_mask])\n",
        "      # Compute validation accuracy.\n",
        "      acc, pre, kappa = evaluate(model, graph, node_features.float(), node_labels, valid_mask)\n",
        "      # Backward propagation\n",
        "      opt.zero_grad()\n",
        "      loss.backward()\n",
        "      opt.step()\n",
        "      print(\"Training loss: %.4f\" % loss.item(), \"| validation accuracy: %.4f\" % acc, \"| validation precision: %.4f\" % pre, \"| test kappa statistics: %.4f\" % kappa)\n",
        "      print()\n",
        "\n",
        "  print(\"----------\")\n",
        "  test_acc, test_pre, test_kappa = evaluate(model, graph, node_features.float(), node_labels, test_mask)\n",
        "  print(\"Test accuracy: %.4f\" % test_acc, \"| test precision: %.4f\" % test_pre, \"| test kappa statistics: %.4f\" % test_kappa)\n",
        "  \n",
        "  test_results.append([test_acc, test_pre])\n",
        "  print(\"The test results for\", month, \"have been appended.\")\n",
        "  print()"
      ],
      "metadata": {
        "colab": {
          "base_uri": "https://localhost:8080/"
        },
        "id": "XwUfkbrvttSw",
        "outputId": "0afd437f-b610-450c-a07b-ac9cf7f07d91"
      },
      "execution_count": 16,
      "outputs": [
        {
          "output_type": "stream",
          "name": "stdout",
          "text": [
            "--------------------\n",
            "Start training for Jan .\n",
            "\n",
            "Epoch: 1\n",
            "Training loss: 2.3854 | validation accuracy: 0.3182 | validation precision: 0.5969 | test kappa statistics: -0.0757\n",
            "\n",
            "Epoch: 2\n",
            "Training loss: 2.2391 | validation accuracy: 0.3424 | validation precision: 0.4729 | test kappa statistics: -0.1154\n",
            "\n",
            "Epoch: 3\n",
            "Training loss: 2.1377 | validation accuracy: 0.3530 | validation precision: 0.4419 | test kappa statistics: -0.1238\n",
            "\n",
            "Epoch: 4\n",
            "Training loss: 2.0516 | validation accuracy: 0.3606 | validation precision: 0.4264 | test kappa statistics: -0.1269\n",
            "\n",
            "Epoch: 5\n",
            "Training loss: 1.9730 | validation accuracy: 0.3712 | validation precision: 0.4264 | test kappa statistics: -0.1210\n",
            "\n",
            "----------\n",
            "Test accuracy: 0.3685 | test precision: 0.4261 | test kappa statistics: -0.1158\n",
            "The test results for Jan have been appended.\n",
            "\n",
            "--------------------\n",
            "Start training for Feb .\n",
            "\n",
            "Epoch: 1\n",
            "Training loss: 0.6750 | validation accuracy: 0.8040 | validation precision: 0.0000 | test kappa statistics: -0.0090\n",
            "\n",
            "Epoch: 2\n",
            "Training loss: 0.6703 | validation accuracy: 0.8040 | validation precision: 0.0000 | test kappa statistics: -0.0090\n",
            "\n",
            "Epoch: 3\n",
            "Training loss: 0.6656 | validation accuracy: 0.8040 | validation precision: 0.0000 | test kappa statistics: -0.0090\n",
            "\n",
            "Epoch: 4\n",
            "Training loss: 0.6610 | validation accuracy: 0.8024 | validation precision: 0.0000 | test kappa statistics: -0.0119\n",
            "\n",
            "Epoch: 5\n",
            "Training loss: 0.6565 | validation accuracy: 0.8024 | validation precision: 0.0000 | test kappa statistics: -0.0119\n",
            "\n",
            "----------\n",
            "Test accuracy: 0.7962 | test precision: 0.0000 | test kappa statistics: -0.0156\n",
            "The test results for Feb have been appended.\n",
            "\n",
            "--------------------\n",
            "Start training for Mar .\n",
            "\n",
            "Epoch: 1\n",
            "Training loss: 3.2147 | validation accuracy: 0.2462 | validation precision: 1.0000 | test kappa statistics: 0.0000\n",
            "\n",
            "Epoch: 2\n",
            "Training loss: 2.5916 | validation accuracy: 0.2462 | validation precision: 1.0000 | test kappa statistics: 0.0000\n",
            "\n",
            "Epoch: 3\n",
            "Training loss: 2.3621 | validation accuracy: 0.2462 | validation precision: 1.0000 | test kappa statistics: 0.0000\n",
            "\n",
            "Epoch: 4\n",
            "Training loss: 2.1876 | validation accuracy: 0.2462 | validation precision: 1.0000 | test kappa statistics: 0.0000\n",
            "\n",
            "Epoch: 5\n",
            "Training loss: 2.0326 | validation accuracy: 0.2462 | validation precision: 1.0000 | test kappa statistics: 0.0000\n",
            "\n",
            "----------\n",
            "Test accuracy: 0.2196 | test precision: 1.0000 | test kappa statistics: 0.0000\n",
            "The test results for Mar have been appended.\n",
            "\n",
            "--------------------\n",
            "Start training for Apr .\n",
            "\n",
            "Epoch: 1\n",
            "Training loss: 0.6503 | validation accuracy: 0.6847 | validation precision: 0.0828 | test kappa statistics: -0.0756\n",
            "\n",
            "Epoch: 2\n",
            "Training loss: 0.6398 | validation accuracy: 0.6892 | validation precision: 0.0828 | test kappa statistics: -0.0695\n",
            "\n",
            "Epoch: 3\n",
            "Training loss: 0.6298 | validation accuracy: 0.6982 | validation precision: 0.0828 | test kappa statistics: -0.0570\n",
            "\n",
            "Epoch: 4\n",
            "Training loss: 0.6203 | validation accuracy: 0.7042 | validation precision: 0.0828 | test kappa statistics: -0.0484\n",
            "\n",
            "Epoch: 5\n",
            "Training loss: 0.6112 | validation accuracy: 0.7087 | validation precision: 0.0759 | test kappa statistics: -0.0482\n",
            "\n",
            "----------\n",
            "Test accuracy: 0.6900 | test precision: 0.0769 | test kappa statistics: -0.0738\n",
            "The test results for Apr have been appended.\n",
            "\n",
            "--------------------\n",
            "Start training for May .\n",
            "\n",
            "Epoch: 1\n",
            "Training loss: 2.1458 | validation accuracy: 0.4348 | validation precision: 0.3643 | test kappa statistics: -0.1139\n",
            "\n",
            "Epoch: 2\n",
            "Training loss: 2.0524 | validation accuracy: 0.4470 | validation precision: 0.3411 | test kappa statistics: -0.1184\n",
            "\n",
            "Epoch: 3\n",
            "Training loss: 1.9675 | validation accuracy: 0.4591 | validation precision: 0.3333 | test kappa statistics: -0.1147\n",
            "\n",
            "Epoch: 4\n",
            "Training loss: 1.8877 | validation accuracy: 0.4742 | validation precision: 0.3333 | test kappa statistics: -0.1045\n",
            "\n",
            "Epoch: 5\n",
            "Training loss: 1.8126 | validation accuracy: 0.4758 | validation precision: 0.3256 | test kappa statistics: -0.1078\n",
            "\n",
            "----------\n",
            "Test accuracy: 0.4801 | test precision: 0.3243 | test kappa statistics: -0.1082\n",
            "The test results for May have been appended.\n",
            "\n",
            "--------------------\n",
            "Start training for Jun .\n",
            "\n",
            "Epoch: 1\n",
            "Training loss: 4.3619 | validation accuracy: 0.2205 | validation precision: 1.0000 | test kappa statistics: 0.0000\n",
            "\n",
            "Epoch: 2\n",
            "Training loss: 4.1685 | validation accuracy: 0.2205 | validation precision: 1.0000 | test kappa statistics: 0.0000\n",
            "\n",
            "Epoch: 3\n",
            "Training loss: 3.9632 | validation accuracy: 0.2205 | validation precision: 1.0000 | test kappa statistics: 0.0000\n",
            "\n",
            "Epoch: 4\n",
            "Training loss: 3.7555 | validation accuracy: 0.2205 | validation precision: 1.0000 | test kappa statistics: 0.0000\n",
            "\n",
            "Epoch: 5\n",
            "Training loss: 3.5730 | validation accuracy: 0.2205 | validation precision: 1.0000 | test kappa statistics: 0.0000\n",
            "\n",
            "----------\n",
            "Test accuracy: 0.2063 | test precision: 1.0000 | test kappa statistics: 0.0000\n",
            "The test results for Jun have been appended.\n",
            "\n",
            "--------------------\n",
            "Start training for Jul .\n",
            "\n",
            "Epoch: 1\n",
            "Training loss: 1.3934 | validation accuracy: 0.2333 | validation precision: 0.9630 | test kappa statistics: 0.0037\n",
            "\n",
            "Epoch: 2\n",
            "Training loss: 1.2829 | validation accuracy: 0.2424 | validation precision: 0.9630 | test kappa statistics: 0.0086\n",
            "\n",
            "Epoch: 3\n",
            "Training loss: 1.1794 | validation accuracy: 0.2500 | validation precision: 0.9630 | test kappa statistics: 0.0127\n",
            "\n",
            "Epoch: 4\n",
            "Training loss: 1.0861 | validation accuracy: 0.2576 | validation precision: 0.9556 | test kappa statistics: 0.0145\n",
            "\n",
            "Epoch: 5\n",
            "Training loss: 1.0063 | validation accuracy: 0.2727 | validation precision: 0.9407 | test kappa statistics: 0.0183\n",
            "\n",
            "----------\n",
            "Test accuracy: 0.2663 | test precision: 0.9610 | test kappa statistics: 0.0276\n",
            "The test results for Jul have been appended.\n",
            "\n",
            "--------------------\n",
            "Start training for Aug .\n",
            "\n",
            "Epoch: 1\n",
            "Training loss: 1.3609 | validation accuracy: 0.3717 | validation precision: 0.8077 | test kappa statistics: 0.0347\n",
            "\n",
            "Epoch: 2\n",
            "Training loss: 1.1346 | validation accuracy: 0.3932 | validation precision: 0.7692 | test kappa statistics: 0.0349\n",
            "\n",
            "Epoch: 3\n",
            "Training loss: 1.0218 | validation accuracy: 0.4117 | validation precision: 0.7538 | test kappa statistics: 0.0417\n",
            "\n",
            "Epoch: 4\n",
            "Training loss: 0.9369 | validation accuracy: 0.4270 | validation precision: 0.7077 | test kappa statistics: 0.0348\n",
            "\n",
            "Epoch: 5\n",
            "Training loss: 0.8693 | validation accuracy: 0.4531 | validation precision: 0.7000 | test kappa statistics: 0.0508\n",
            "\n",
            "----------\n",
            "Test accuracy: 0.4605 | test precision: 0.6797 | test kappa statistics: 0.0482\n",
            "The test results for Aug have been appended.\n",
            "\n",
            "--------------------\n",
            "Start training for Sep .\n",
            "\n",
            "Epoch: 1\n",
            "Training loss: 3.7035 | validation accuracy: 0.2142 | validation precision: 1.0000 | test kappa statistics: 0.0000\n",
            "\n",
            "Epoch: 2\n",
            "Training loss: 3.0787 | validation accuracy: 0.2142 | validation precision: 1.0000 | test kappa statistics: 0.0000\n",
            "\n",
            "Epoch: 3\n",
            "Training loss: 2.6733 | validation accuracy: 0.2142 | validation precision: 1.0000 | test kappa statistics: 0.0000\n",
            "\n",
            "Epoch: 4\n",
            "Training loss: 2.3541 | validation accuracy: 0.2142 | validation precision: 1.0000 | test kappa statistics: 0.0000\n",
            "\n",
            "Epoch: 5\n",
            "Training loss: 2.0839 | validation accuracy: 0.2142 | validation precision: 0.9856 | test kappa statistics: -0.0045\n",
            "\n",
            "----------\n",
            "Test accuracy: 0.1984 | test precision: 1.0000 | test kappa statistics: 0.0049\n",
            "The test results for Sep have been appended.\n",
            "\n",
            "--------------------\n",
            "Start training for Oct .\n",
            "\n",
            "Epoch: 1\n",
            "Training loss: 2.8034 | validation accuracy: 0.1928 | validation precision: 1.0000 | test kappa statistics: 0.0000\n",
            "\n",
            "Epoch: 2\n",
            "Training loss: 2.5532 | validation accuracy: 0.1928 | validation precision: 1.0000 | test kappa statistics: 0.0000\n",
            "\n",
            "Epoch: 3\n",
            "Training loss: 2.3458 | validation accuracy: 0.1988 | validation precision: 0.9922 | test kappa statistics: 0.0006\n",
            "\n",
            "Epoch: 4\n",
            "Training loss: 2.1621 | validation accuracy: 0.2244 | validation precision: 0.9141 | test kappa statistics: -0.0106\n",
            "\n",
            "Epoch: 5\n",
            "Training loss: 2.0000 | validation accuracy: 0.2846 | validation precision: 0.7344 | test kappa statistics: -0.0400\n",
            "\n",
            "----------\n",
            "Test accuracy: 0.3555 | test precision: 0.5785 | test kappa statistics: -0.0615\n",
            "The test results for Oct have been appended.\n",
            "\n",
            "--------------------\n",
            "Start training for Nov .\n",
            "\n",
            "Epoch: 1\n",
            "Training loss: 0.5505 | validation accuracy: 0.7958 | validation precision: 0.0000 | test kappa statistics: 0.0000\n",
            "\n",
            "Epoch: 2\n",
            "Training loss: 0.5468 | validation accuracy: 0.7958 | validation precision: 0.0000 | test kappa statistics: 0.0000\n",
            "\n",
            "Epoch: 3\n",
            "Training loss: 0.5433 | validation accuracy: 0.7958 | validation precision: 0.0000 | test kappa statistics: 0.0000\n",
            "\n",
            "Epoch: 4\n",
            "Training loss: 0.5401 | validation accuracy: 0.7958 | validation precision: 0.0000 | test kappa statistics: 0.0000\n",
            "\n",
            "Epoch: 5\n",
            "Training loss: 0.5371 | validation accuracy: 0.7958 | validation precision: 0.0000 | test kappa statistics: 0.0000\n",
            "\n",
            "----------\n",
            "Test accuracy: 0.8091 | test precision: 0.0000 | test kappa statistics: 0.0000\n",
            "The test results for Nov have been appended.\n",
            "\n",
            "--------------------\n",
            "Start training for Dec .\n",
            "\n",
            "Epoch: 1\n",
            "Training loss: 3.2502 | validation accuracy: 0.2015 | validation precision: 1.0000 | test kappa statistics: 0.0008\n",
            "\n",
            "Epoch: 2\n",
            "Training loss: 2.5598 | validation accuracy: 0.2260 | validation precision: 0.9847 | test kappa statistics: 0.0086\n",
            "\n",
            "Epoch: 3\n",
            "Training loss: 2.0532 | validation accuracy: 0.3420 | validation precision: 0.7863 | test kappa statistics: 0.0083\n",
            "\n",
            "Epoch: 4\n",
            "Training loss: 1.5312 | validation accuracy: 0.3832 | validation precision: 0.7481 | test kappa statistics: 0.0204\n",
            "\n",
            "Epoch: 5\n",
            "Training loss: 1.2793 | validation accuracy: 0.3924 | validation precision: 0.6947 | test kappa statistics: 0.0060\n",
            "\n",
            "----------\n",
            "Test accuracy: 0.4491 | test precision: 0.6223 | test kappa statistics: 0.0173\n",
            "The test results for Dec have been appended.\n",
            "\n"
          ]
        }
      ]
    },
    {
      "cell_type": "code",
      "source": [
        "for element in test_results:\n",
        "  print(element)"
      ],
      "metadata": {
        "colab": {
          "base_uri": "https://localhost:8080/"
        },
        "id": "M6wV6K3D6UTk",
        "outputId": "f1e48d29-a094-4c70-80d6-f31a9668cc3f"
      },
      "execution_count": 17,
      "outputs": [
        {
          "output_type": "stream",
          "name": "stdout",
          "text": [
            "[0.36850519584332536, 0.4260869565217391]\n",
            "[0.7961630695443646, 0.0]\n",
            "[0.21964856230031948, 1.0]\n",
            "[0.6900398406374502, 0.07692307692307693]\n",
            "[0.48009554140127386, 0.32432432432432434]\n",
            "[0.20634920634920634, 1.0]\n",
            "[0.26629123089300083, 0.961038961038961]\n",
            "[0.46050552922590837, 0.6796875]\n",
            "[0.19838709677419356, 1.0]\n",
            "[0.355484387510008, 0.5785123966942148]\n",
            "[0.8090692124105012, 0.0]\n",
            "[0.4491255961844197, 0.6223175965665236]\n"
          ]
        }
      ]
    },
    {
      "cell_type": "code",
      "source": [
        "import pandas as pd\n",
        "import matplotlib.pyplot as plt\n",
        "\n",
        "d = {'Accuracy':[test_results[i][0] for i in range(len(test_results))], 'Precision': [test_results[i][1] for i in range(len(test_results))]}\n",
        "result_df = pd.DataFrame(data=d)\n",
        "result_df\n",
        "\n",
        "fig, ax = plt.subplots(1, figsize=(8, 4))\n",
        "plt.bar(result_df.index, result_df['Accuracy'], color = '#337AE3', width = 0.9)\n",
        "plt.bar(result_df.index, result_df['Precision'], bottom = result_df['Accuracy'], color = '#DB4444', width = 0.9)\n",
        "plt.xlim(-0.6, 12)\n",
        "plt.ylim(0, 2)# remove spines\n",
        "ax.spines['right'].set_visible(False)\n",
        "ax.spines['left'].set_visible(False)\n",
        "ax.spines['top'].set_visible(False)\n",
        "ax.spines['bottom'].set_visible(False)#grid\n",
        "ax.set_axisbelow(True)\n",
        "ax.yaxis.grid(color='gray', linestyle='dashed', alpha=0.7)# x ticks\n",
        "xticks_labels = ['Jan', 'Fev', 'Mar', 'Apr', 'May', 'Jun', 'Jul', 'Aug', 'Sep', 'Oct', 'Nov', 'Dec']\n",
        "plt.xticks(result_df.index , labels = xticks_labels)# title and legend\n",
        "legend_label = ['Accuracy', 'Precision']\n",
        "plt.legend(legend_label, ncol = 4, bbox_to_anchor=([1, 1.1, 0, 0]), frameon = False)\n",
        "plt.title('Test Evaluation Metrics\\n', loc='left')\n",
        "plt.show()"
      ],
      "metadata": {
        "colab": {
          "base_uri": "https://localhost:8080/",
          "height": 296
        },
        "id": "ro5mzlzuy26M",
        "outputId": "0be6ca2a-d779-4fbf-e344-c81de56ac84c"
      },
      "execution_count": 20,
      "outputs": [
        {
          "output_type": "display_data",
          "data": {
            "image/png": "[encoded data removed]",
            "text/plain": [
              "<Figure size 576x288 with 1 Axes>"
            ]
          },
          "metadata": {
            "needs_background": "light"
          }
        }
      ]
    }
  ]
}