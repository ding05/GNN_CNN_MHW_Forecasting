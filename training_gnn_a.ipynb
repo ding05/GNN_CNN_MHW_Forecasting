{
  "nbformat": 4,
  "nbformat_minor": 0,
  "metadata": {
    "colab": {
      "name": "02/11 GNN SODA A.ipynb",
      "provenance": [],
      "collapsed_sections": []
    },
    "kernelspec": {
      "name": "python3",
      "display_name": "Python 3"
    },
    "language_info": {
      "name": "python"
    },
    "accelerator": "GPU"
  },
  "cells": [
    {
      "cell_type": "markdown",
      "source": [
        "# Preprocessing SODA and Training GNNs\n",
        "\n",
        "by Ding"
      ],
      "metadata": {
        "id": "mzcaDeWwDnML"
      }
    },
    {
      "cell_type": "markdown",
      "source": [
        "## 1. Preprocessing"
      ],
      "metadata": {
        "id": "lF14MaayDoVC"
      }
    },
    {
      "cell_type": "code",
      "source": [
        "!pip install geopandas\n",
        "\n",
        "import numpy as np\n",
        "from netCDF4 import Dataset\n",
        "import xarray as xr\n",
        "import matplotlib.pyplot as plt\n",
        "import pandas as pd\n",
        "import geopandas as gpd\n",
        "from geopandas import GeoDataFrame\n",
        "from shapely.geometry import Point\n",
        "\n",
        "from google.colab import drive\n",
        "drive.mount(\"/gdrive\", force_remount=True)\n",
        "\n",
        "!cp -a \"/gdrive/MyDrive/soda_331_pt_l5.nc\" \"/content/\""
      ],
      "metadata": {
        "colab": {
          "base_uri": "https://localhost:8080/"
        },
        "id": "HdzGdalaDtWI",
        "outputId": "f9488056-3c77-4c93-c6b1-6ae196030265"
      },
      "execution_count": null,
      "outputs": [
        {
          "output_type": "stream",
          "name": "stdout",
          "text": [
            "Collecting geopandas\n",
            "  Downloading geopandas-0.10.2-py2.py3-none-any.whl (1.0 MB)\n",
            "\u001b[K     |████████████████████████████████| 1.0 MB 4.2 MB/s \n",
            "\u001b[?25hCollecting pyproj>=2.2.0\n",
            "  Downloading pyproj-3.2.1-cp37-cp37m-manylinux2010_x86_64.whl (6.3 MB)\n",
            "\u001b[K     |████████████████████████████████| 6.3 MB 40.3 MB/s \n",
            "\u001b[?25hRequirement already satisfied: shapely>=1.6 in /usr/local/lib/python3.7/dist-packages (from geopandas) (1.8.1.post1)\n",
            "Collecting fiona>=1.8\n",
            "  Downloading Fiona-1.8.21-cp37-cp37m-manylinux2014_x86_64.whl (16.7 MB)\n",
            "\u001b[K     |████████████████████████████████| 16.7 MB 405 kB/s \n",
            "\u001b[?25hRequirement already satisfied: pandas>=0.25.0 in /usr/local/lib/python3.7/dist-packages (from geopandas) (1.3.5)\n",
            "Requirement already satisfied: setuptools in /usr/local/lib/python3.7/dist-packages (from fiona>=1.8->geopandas) (57.4.0)\n",
            "Collecting munch\n",
            "  Downloading munch-2.5.0-py2.py3-none-any.whl (10 kB)\n",
            "Collecting click-plugins>=1.0\n",
            "  Downloading click_plugins-1.1.1-py2.py3-none-any.whl (7.5 kB)\n",
            "Collecting cligj>=0.5\n",
            "  Downloading cligj-0.7.2-py3-none-any.whl (7.1 kB)\n",
            "Requirement already satisfied: six>=1.7 in /usr/local/lib/python3.7/dist-packages (from fiona>=1.8->geopandas) (1.15.0)\n",
            "Requirement already satisfied: attrs>=17 in /usr/local/lib/python3.7/dist-packages (from fiona>=1.8->geopandas) (21.4.0)\n",
            "Requirement already satisfied: certifi in /usr/local/lib/python3.7/dist-packages (from fiona>=1.8->geopandas) (2021.10.8)\n",
            "Requirement already satisfied: click>=4.0 in /usr/local/lib/python3.7/dist-packages (from fiona>=1.8->geopandas) (7.1.2)\n",
            "Requirement already satisfied: numpy>=1.17.3 in /usr/local/lib/python3.7/dist-packages (from pandas>=0.25.0->geopandas) (1.21.5)\n",
            "Requirement already satisfied: pytz>=2017.3 in /usr/local/lib/python3.7/dist-packages (from pandas>=0.25.0->geopandas) (2018.9)\n",
            "Requirement already satisfied: python-dateutil>=2.7.3 in /usr/local/lib/python3.7/dist-packages (from pandas>=0.25.0->geopandas) (2.8.2)\n",
            "Installing collected packages: munch, cligj, click-plugins, pyproj, fiona, geopandas\n",
            "Successfully installed click-plugins-1.1.1 cligj-0.7.2 fiona-1.8.21 geopandas-0.10.2 munch-2.5.0 pyproj-3.2.1\n",
            "Mounted at /gdrive\n"
          ]
        }
      ]
    },
    {
      "cell_type": "code",
      "source": [
        "soda = xr.open_dataset(\"soda_331_pt_l5.nc\", decode_times=False)\n",
        "\n",
        "soda_array = soda.to_array(dim=\"temp\")\n",
        "soda_smaller = soda_array[:,:,:,::5,::5].to_dataset(dim=\"temp\")\n",
        "\n",
        "start_year = 1980\n",
        "end_year = 2009\n",
        "target_year = end_year + +1\n",
        "start_month = (start_year - 1980) * 12\n",
        "end_month = (end_year + 1 - 1980) * 12\n",
        "\n",
        "soda_sst_1980_2009 = np.zeros((end_month-start_month+12,1,66,144)) # Include one more year.\n",
        "soda_sst_1980_2009[:,:,:,:] = soda_smaller.variables[\"temp\"][0:end_month-start_month+12,:,:,:]\n",
        "soda_sst_1980_2009 = np.squeeze(soda_sst_1980_2009, axis=1)\n",
        "print(soda_sst_1980_2009.shape)\n",
        "\n",
        "soda_sst_2010 = np.zeros((12,1,66,144))\n",
        "soda_sst_2010[:,:,:,:] = soda_smaller.variables[\"temp\"][end_month-start_month:end_month-start_month+12,:,:,:]\n",
        "soda_sst_2010 = np.squeeze(soda_sst_2010, axis=1)\n",
        "print(soda_sst_2010.shape)"
      ],
      "metadata": {
        "colab": {
          "base_uri": "https://localhost:8080/"
        },
        "id": "aGUbMZ42LNQe",
        "outputId": "bb331e33-49c8-4c85-ef34-4c5a10bbd55a"
      },
      "execution_count": null,
      "outputs": [
        {
          "output_type": "stream",
          "name": "stdout",
          "text": [
            "(372, 66, 144)\n",
            "(12, 66, 144)\n"
          ]
        }
      ]
    },
    {
      "cell_type": "code",
      "source": [
        "soda_sst_1980_2009_transposed = soda_sst_1980_2009.transpose(1,2,0)\n",
        "soda_sst_1980_2009_flattened = soda_sst_1980_2009_transposed.reshape(soda_sst_1980_2009.shape[1] * soda_sst_1980_2009.shape[2],len(soda_sst_1980_2009))\n",
        "print(soda_sst_1980_2009_flattened.shape)\n",
        "\n",
        "soda_sst_2010_transposed = soda_sst_2010.transpose(1,2,0)\n",
        "soda_sst_2010_flattened = soda_sst_2010_transposed.reshape(soda_sst_2010.shape[1] * soda_sst_2010.shape[2],len(soda_sst_2010))\n",
        "print(soda_sst_2010_flattened.shape)"
      ],
      "metadata": {
        "colab": {
          "base_uri": "https://localhost:8080/"
        },
        "id": "Wo4HSa6jNKww",
        "outputId": "59c3e12c-09a7-4275-dad4-3a183c0ec569"
      },
      "execution_count": null,
      "outputs": [
        {
          "output_type": "stream",
          "name": "stdout",
          "text": [
            "(9504, 372)\n",
            "(9504, 12)\n"
          ]
        }
      ]
    },
    {
      "cell_type": "code",
      "source": [
        "def dropna(arr, *args, **kwarg):\n",
        "    assert isinstance(arr, np.ndarray)\n",
        "    dropped=pd.DataFrame(arr).dropna(*args, **kwarg).values\n",
        "    if arr.ndim==1:\n",
        "        dropped=dropped.flatten()\n",
        "    return dropped\n",
        "\n",
        "soda_sst_ocean_1980_2009_flattened = dropna(soda_sst_1980_2009_flattened)\n",
        "print(soda_sst_ocean_1980_2009_flattened.shape)\n",
        "\n",
        "soda_sst_ocean_2010_flattened = dropna(soda_sst_2010_flattened)\n",
        "print(soda_sst_ocean_2010_flattened.shape)"
      ],
      "metadata": {
        "colab": {
          "base_uri": "https://localhost:8080/"
        },
        "id": "s7mbHccmR6ad",
        "outputId": "64cbffae-255e-47de-d9ed-db2327fcecc2"
      },
      "execution_count": null,
      "outputs": [
        {
          "output_type": "stream",
          "name": "stdout",
          "text": [
            "(6924, 372)\n",
            "(6924, 12)\n"
          ]
        }
      ]
    },
    {
      "cell_type": "code",
      "source": [
        "target_month = [\"Jan\", \"Feb\", \"Mar\", \"Apr\", \"May\", \"Jun\", \"Jul\", \"Aug\", \"Sep\", \"Oct\", \"Nov\", \"Dec\"]\n",
        "#target_month = [\"Jan\"]\n",
        "\n",
        "soda_sst_ocean_1980_2009_flattened_all = []\n",
        "soda_sst_ocean_2010_mhw_all = []\n",
        "\n",
        "for month in target_month:\n",
        "\n",
        "  index = target_month.index(month)\n",
        "  soda_sst_ocean_1980_2009_flattened_all.append(soda_sst_ocean_1980_2009_flattened[:,index:(index+soda_sst_ocean_1980_2009_flattened.shape[1]-12)])\n",
        "\n",
        "  soda_sst_ocean_2010_mhw = []\n",
        "  for row in range(len(soda_sst_ocean_1980_2009_flattened)):\n",
        "    sst_node = soda_sst_ocean_1980_2009_flattened[row][index::12]\n",
        "    #print(np.mean(sst_node))\n",
        "    if soda_sst_ocean_2010_flattened[row][index] > sorted(sst_node)[-4]:\n",
        "      soda_sst_ocean_2010_mhw.append(1)\n",
        "    else:\n",
        "      soda_sst_ocean_2010_mhw.append(0)\n",
        "  \n",
        "  print(month, target_year, \":\", soda_sst_ocean_2010_mhw.count(1), \"MHW\")\n",
        "  print(month, target_year, \":\", soda_sst_ocean_2010_mhw.count(0), \"no MHW\")\n",
        "  print()\n",
        "\n",
        "  soda_sst_ocean_2010_mhw = np.array(soda_sst_ocean_2010_mhw)\n",
        "  soda_sst_ocean_2010_mhw_all.append(soda_sst_ocean_2010_mhw)"
      ],
      "metadata": {
        "colab": {
          "base_uri": "https://localhost:8080/"
        },
        "id": "zr1xOR6poSbL",
        "outputId": "19c85fd3-dfa9-4d88-e673-6850890e3356"
      },
      "execution_count": null,
      "outputs": [
        {
          "output_type": "stream",
          "name": "stdout",
          "text": [
            "Jan 2010 : 1318 MHW\n",
            "Jan 2010 : 5606 no MHW\n",
            "\n",
            "Feb 2010 : 1427 MHW\n",
            "Feb 2010 : 5497 no MHW\n",
            "\n",
            "Mar 2010 : 1542 MHW\n",
            "Mar 2010 : 5382 no MHW\n",
            "\n",
            "Apr 2010 : 1440 MHW\n",
            "Apr 2010 : 5484 no MHW\n",
            "\n",
            "May 2010 : 1370 MHW\n",
            "May 2010 : 5554 no MHW\n",
            "\n",
            "Jun 2010 : 1363 MHW\n",
            "Jun 2010 : 5561 no MHW\n",
            "\n",
            "Jul 2010 : 1283 MHW\n",
            "Jul 2010 : 5641 no MHW\n",
            "\n",
            "Aug 2010 : 1444 MHW\n",
            "Aug 2010 : 5480 no MHW\n",
            "\n",
            "Sep 2010 : 1413 MHW\n",
            "Sep 2010 : 5511 no MHW\n",
            "\n",
            "Oct 2010 : 1368 MHW\n",
            "Oct 2010 : 5556 no MHW\n",
            "\n",
            "Nov 2010 : 1251 MHW\n",
            "Nov 2010 : 5673 no MHW\n",
            "\n",
            "Dec 2010 : 1367 MHW\n",
            "Dec 2010 : 5557 no MHW\n",
            "\n"
          ]
        }
      ]
    },
    {
      "cell_type": "code",
      "source": [
        "lons, lats = np.meshgrid(soda_smaller.longitude.values, soda_smaller.latitude.values)\n",
        "\n",
        "soda_time_1 = soda_smaller.temp.isel(depth=0,time=240)\n",
        "soda_time_1_lons, soda_time_1_lats = np.meshgrid(soda_time_1.longitude.values, soda_time_1.latitude.values)\n",
        "soda_masked = soda_time_1.where(abs(soda_time_1_lons) + abs(soda_time_1_lats) > 0)\n",
        "\n",
        "soda_masked.values.flatten()[soda_masked.notnull().values.flatten()]\n",
        "\n",
        "from sklearn.metrics.pairwise import haversine_distances\n",
        "\n",
        "lons_ocean = soda_time_1_lons.flatten()[soda_masked.notnull().values.flatten()]\n",
        "lons_ocean = lons_ocean[::]\n",
        "lats_ocean = soda_time_1_lats.flatten()[soda_masked.notnull().values.flatten()]\n",
        "lats_ocean = lats_ocean[::]\n",
        "\n",
        "lons_ocean *= np.pi/180\n",
        "lats_ocean *= np.pi/180\n",
        "\n",
        "points_ocean = np.concatenate([np.expand_dims(lats_ocean.flatten(),-1), np.expand_dims(lons_ocean.flatten(),-1)],-1)\n",
        "\n",
        "distance_ocean = 6371*haversine_distances(points_ocean)\n",
        "\n",
        "distance_ocean_diag = distance_ocean\n",
        "distance_ocean_diag[distance_ocean_diag==0] = 1\n",
        "\n",
        "distance_ocean_recip = np.reciprocal(distance_ocean_diag)\n",
        "\n",
        "distance_ocean_recip.shape"
      ],
      "metadata": {
        "colab": {
          "base_uri": "https://localhost:8080/"
        },
        "id": "o8K8AXQwly2F",
        "outputId": "ecc3210f-5817-44b6-c34a-7eed9e5814ed"
      },
      "execution_count": null,
      "outputs": [
        {
          "output_type": "execute_result",
          "data": {
            "text/plain": [
              "(6924, 6924)"
            ]
          },
          "metadata": {},
          "execution_count": 6
        }
      ]
    },
    {
      "cell_type": "code",
      "source": [
        "adjacency_matrix = distance_ocean_recip\n",
        "\n",
        "w = []\n",
        "\n",
        "for i in range(distance_ocean_recip.shape[0]):\n",
        "  for j in range(distance_ocean_recip.shape[1]):\n",
        "    if i != j:\n",
        "      w.append(distance_ocean_recip[i][j])"
      ],
      "metadata": {
        "id": "v3OsJt4omDGE"
      },
      "execution_count": null,
      "outputs": []
    },
    {
      "cell_type": "markdown",
      "source": [
        "## 2. GNN"
      ],
      "metadata": {
        "id": "vHV3fKk0ttuy"
      }
    },
    {
      "cell_type": "code",
      "source": [
        "!pip install dgl -f https://data.dgl.ai/wheels/repo.html\n",
        "\n",
        "import random\n",
        "\n",
        "import torch\n",
        "\n",
        "import dgl\n",
        "import dgl.nn as dglnn\n",
        "import dgl.data\n",
        "import torch.nn as nn\n",
        "import torch.nn.functional as F"
      ],
      "metadata": {
        "colab": {
          "base_uri": "https://localhost:8080/"
        },
        "id": "bOvjjT3gud5H",
        "outputId": "68b4b63e-aaf2-4c0d-fdc0-7a20d48fd5a9"
      },
      "execution_count": null,
      "outputs": [
        {
          "output_type": "stream",
          "name": "stdout",
          "text": [
            "Looking in links: https://data.dgl.ai/wheels/repo.html\n",
            "Collecting dgl\n",
            "  Downloading https://data.dgl.ai/wheels/dgl-0.8.0-cp37-cp37m-manylinux1_x86_64.whl (6.1 MB)\n",
            "\u001b[K     |████████████████████████████████| 6.1 MB 3.9 MB/s \n",
            "\u001b[?25hRequirement already satisfied: requests>=2.19.0 in /usr/local/lib/python3.7/dist-packages (from dgl) (2.23.0)\n",
            "Requirement already satisfied: tqdm in /usr/local/lib/python3.7/dist-packages (from dgl) (4.63.0)\n",
            "Requirement already satisfied: networkx>=2.1 in /usr/local/lib/python3.7/dist-packages (from dgl) (2.6.3)\n",
            "Requirement already satisfied: numpy>=1.14.0 in /usr/local/lib/python3.7/dist-packages (from dgl) (1.21.5)\n",
            "Requirement already satisfied: scipy>=1.1.0 in /usr/local/lib/python3.7/dist-packages (from dgl) (1.4.1)\n",
            "Requirement already satisfied: chardet<4,>=3.0.2 in /usr/local/lib/python3.7/dist-packages (from requests>=2.19.0->dgl) (3.0.4)\n",
            "Requirement already satisfied: idna<3,>=2.5 in /usr/local/lib/python3.7/dist-packages (from requests>=2.19.0->dgl) (2.10)\n",
            "Requirement already satisfied: urllib3!=1.25.0,!=1.25.1,<1.26,>=1.21.1 in /usr/local/lib/python3.7/dist-packages (from requests>=2.19.0->dgl) (1.24.3)\n",
            "Requirement already satisfied: certifi>=2017.4.17 in /usr/local/lib/python3.7/dist-packages (from requests>=2.19.0->dgl) (2021.10.8)\n",
            "Installing collected packages: dgl\n",
            "Successfully installed dgl-0.8.0\n"
          ]
        },
        {
          "output_type": "stream",
          "name": "stderr",
          "text": [
            "DGL backend not selected or invalid.  Assuming PyTorch for now.\n"
          ]
        },
        {
          "output_type": "stream",
          "name": "stdout",
          "text": [
            "Setting the default backend to \"pytorch\". You can change it in the ~/.dgl/config.json file or export the DGLBACKEND environment variable.  Valid options are: pytorch, mxnet, tensorflow (all lowercase)\n"
          ]
        }
      ]
    },
    {
      "cell_type": "code",
      "source": [
        "node_num = len(soda_sst_ocean_1980_2009_flattened_all[index])\n",
        "\n",
        "def graph_structure():\n",
        "  u = []\n",
        "  v = []\n",
        "  for i in range(node_num):\n",
        "    for j in range(node_num):\n",
        "      if j == i:\n",
        "        pass\n",
        "      else:\n",
        "        u.append(i)\n",
        "        v.append(j)\n",
        "  return torch.tensor(u), torch.tensor(v)\n",
        "  \n",
        "u, v = graph_structure()\n",
        "graph = dgl.graph((u, v))"
      ],
      "metadata": {
        "id": "o-Z4FC2HyZow"
      },
      "execution_count": null,
      "outputs": []
    },
    {
      "cell_type": "code",
      "source": [
        "weights = torch.tensor(w)"
      ],
      "metadata": {
        "id": "2f1bO-d1tnWE"
      },
      "execution_count": null,
      "outputs": []
    },
    {
      "cell_type": "code",
      "source": [
        "def split(a, n):\n",
        "    k, m = divmod(len(a), n)\n",
        "    return (a[i*k+min(i, m):(i+1)*k+min(i+1, m)] for i in range(n))"
      ],
      "metadata": {
        "id": "6MEOgzyh0GfG"
      },
      "execution_count": null,
      "outputs": []
    },
    {
      "cell_type": "code",
      "source": [
        "class SAGE(nn.Module):\n",
        "    def __init__(self, in_feats, hid_feats, out_feats):\n",
        "        super().__init__()\n",
        "        self.conv1 = dglnn.SAGEConv(\n",
        "            in_feats=in_feats, out_feats=hid_feats, aggregator_type='mean')\n",
        "        self.conv2 = dglnn.SAGEConv(\n",
        "            in_feats=hid_feats, out_feats=out_feats, aggregator_type='mean')\n",
        "\n",
        "    def forward(self, graph, inputs):\n",
        "        # Inputs are features of nodes.\n",
        "        h = self.conv1(graph, inputs)\n",
        "        h = torch.tanh(h) # sigmoid(h), relu(h)\n",
        "        h = self.conv2(graph, h)\n",
        "        return h\n",
        "\n",
        "def evaluate(model, graph, features, labels, mask):\n",
        "    model.eval()\n",
        "    with torch.no_grad():\n",
        "        logits = model(graph, features)\n",
        "        logits = logits[mask]\n",
        "        labels = labels[mask]\n",
        "        _, indices = torch.max(logits, dim=1)\n",
        "        #print(\"Validation / test observed class:\", labels.tolist(), \"| predicted class:\", indices.tolist())\n",
        "        #correct = torch.sum(indices == labels)\n",
        "        combine = indices + labels\n",
        "        accuracy = torch.sum(indices == labels).item() * 1.0 / len(labels)\n",
        "        precision = (torch.sum(combine == 2).item() * 1.0) / (torch.sum(labels == 1).item() * 1.0)\n",
        "\n",
        "        tp = (torch.sum(combine == 2).item() * 1.0)\n",
        "        fp = (torch.sum(labels == 1).item() * 1.0) - (torch.sum(combine == 2).item() * 1.0)\n",
        "        tn = (torch.sum(combine == 0).item() * 1.0)\n",
        "        fn = (torch.sum(indices == 1).item() * 1.0) - (torch.sum(combine == 2).item() * 1.0)\n",
        "        kappa = (2 * (tp * tn - fn * fp)) / ((tp + fp) * (fp + tn) + (tp + fn) * (fn + tn))\n",
        "\n",
        "        return accuracy, precision, kappa"
      ],
      "metadata": {
        "id": "RRWvhmmF2VHB"
      },
      "execution_count": null,
      "outputs": []
    },
    {
      "cell_type": "code",
      "source": [
        "test_results = []\n",
        "\n",
        "for month in target_month:\n",
        "  \n",
        "  print(\"--------------------\")\n",
        "  print(\"Start training for\", month, \".\")\n",
        "  print()\n",
        "\n",
        "  index = target_month.index(month)\n",
        "  node_num = len(soda_sst_ocean_1980_2009_flattened_all[index])\n",
        "\n",
        "  node_feature = torch.tensor(soda_sst_ocean_1980_2009_flattened_all[index])\n",
        "  node_class = torch.tensor(soda_sst_ocean_2010_mhw_all[index])\n",
        "\n",
        "  graph.ndata[\"feat\"] = node_feature\n",
        "  graph.ndata[\"label\"] = node_class\n",
        "\n",
        "  graph.edata['w'] = weights\n",
        "\n",
        "  def masks():\n",
        "    train = [True] * node_num\n",
        "    val = [False] * node_num\n",
        "    test = [False] * node_num\n",
        "    randomlist = []\n",
        "    for i in range(0, round(node_num * 0.3)):\n",
        "      n = random.randint(0, node_num-1) # Need to substract 1 to be in the list index range.\n",
        "      randomlist.append(n)\n",
        "    #print(randomlist)\n",
        "    randomlist_split = list(split(randomlist, 3))\n",
        "    for i in randomlist_split[0]:\n",
        "      val[i] = True\n",
        "    for i in randomlist_split[1]:\n",
        "      test[i] = True\n",
        "    for i in randomlist_split[2]:\n",
        "      test[i] = True\n",
        "    for i in randomlist:\n",
        "      train[i] = False\n",
        "    #print(\"Training mask:\")\n",
        "    #print(train)\n",
        "    return torch.tensor(train), torch.tensor(val), torch.tensor(test)\n",
        "\n",
        "  graph.ndata[\"train_mask\"], graph.ndata[\"val_mask\"], graph.ndata[\"test_mask\"] = masks()\n",
        "  #print(graph.ndata)\n",
        "\n",
        "  node_features = graph.ndata['feat']\n",
        "  node_labels = graph.ndata['label']\n",
        "  train_mask = graph.ndata['train_mask']\n",
        "  valid_mask = graph.ndata['val_mask']\n",
        "  test_mask = graph.ndata['test_mask']\n",
        "  n_features = node_features.shape[1]\n",
        "  n_labels = int(node_labels.max().item() + 1)\n",
        "\n",
        "  model = SAGE(in_feats=n_features, hid_feats=200, out_feats=n_labels)\n",
        "  #opt = torch.optim.Adam(model.parameters(), lr=0.0005)\n",
        "  opt = torch.optim.SGD(model.parameters(), lr=0.0001) #momentum=0.9\n",
        "\n",
        "  for epoch in range(5):\n",
        "      print(\"Epoch:\", epoch+1)\n",
        "      model.train()\n",
        "      # Forward propagation by using all nodes\n",
        "      logits = model(graph, node_features.float())\n",
        "      # Compute loss.\n",
        "      loss = F.cross_entropy(logits[train_mask], node_labels[train_mask])\n",
        "      # Compute validation accuracy.\n",
        "      acc, pre, kappa = evaluate(model, graph, node_features.float(), node_labels, valid_mask)\n",
        "      # Backward propagation\n",
        "      opt.zero_grad()\n",
        "      loss.backward()\n",
        "      opt.step()\n",
        "      print(\"Training loss: %.4f\" % loss.item(), \"| validation accuracy: %.4f\" % acc, \"| validation precision: %.4f\" % pre, \"| test kappa statistics: %.4f\" % kappa)\n",
        "      print()\n",
        "\n",
        "  print(\"----------\")\n",
        "  test_acc, test_pre, test_kappa = evaluate(model, graph, node_features.float(), node_labels, test_mask)\n",
        "  print(\"Test accuracy: %.4f\" % test_acc, \"| test precision: %.4f\" % test_pre, \"| test kappa statistics: %.4f\" % test_kappa)\n",
        "  \n",
        "  test_results.append([test_acc, test_pre, test_kappa])\n",
        "  print(\"The test results for\", month, \"have been appended.\")\n",
        "  print()"
      ],
      "metadata": {
        "colab": {
          "base_uri": "https://localhost:8080/"
        },
        "id": "XwUfkbrvttSw",
        "outputId": "41451c22-4829-42f7-ab91-50a677e4de5e"
      },
      "execution_count": null,
      "outputs": [
        {
          "output_type": "stream",
          "name": "stdout",
          "text": [
            "--------------------\n",
            "Start training for Jan .\n",
            "\n",
            "Epoch: 1\n",
            "Training loss: 1.0955 | validation accuracy: 0.4614 | validation precision: 0.4690 | test kappa statistics: -0.0389\n",
            "\n",
            "Epoch: 2\n",
            "Training loss: 1.0196 | validation accuracy: 0.4841 | validation precision: 0.4690 | test kappa statistics: -0.0246\n",
            "\n",
            "Epoch: 3\n",
            "Training loss: 0.9540 | validation accuracy: 0.4887 | validation precision: 0.4336 | test kappa statistics: -0.0382\n",
            "\n",
            "Epoch: 4\n",
            "Training loss: 0.8997 | validation accuracy: 0.4932 | validation precision: 0.3982 | test kappa statistics: -0.0524\n",
            "\n",
            "Epoch: 5\n",
            "Training loss: 0.8553 | validation accuracy: 0.5038 | validation precision: 0.3805 | test kappa statistics: -0.0544\n",
            "\n",
            "----------\n",
            "Test accuracy: 0.5239 | test precision: 0.3739 | test kappa statistics: -0.0453\n",
            "The test results for Jan have been appended.\n",
            "\n",
            "--------------------\n",
            "Start training for Feb .\n",
            "\n",
            "Epoch: 1\n",
            "Training loss: 0.9468 | validation accuracy: 0.5015 | validation precision: 0.7308 | test kappa statistics: 0.1046\n",
            "\n",
            "Epoch: 2\n",
            "Training loss: 0.8771 | validation accuracy: 0.5197 | validation precision: 0.7179 | test kappa statistics: 0.1170\n",
            "\n",
            "Epoch: 3\n",
            "Training loss: 0.8174 | validation accuracy: 0.5515 | validation precision: 0.6923 | test kappa statistics: 0.1388\n",
            "\n",
            "Epoch: 4\n",
            "Training loss: 0.7730 | validation accuracy: 0.5667 | validation precision: 0.6410 | test kappa statistics: 0.1333\n",
            "\n",
            "Epoch: 5\n",
            "Training loss: 0.7391 | validation accuracy: 0.5894 | validation precision: 0.5769 | test kappa statistics: 0.1301\n",
            "\n",
            "----------\n",
            "Test accuracy: 0.6053 | test precision: 0.5020 | test kappa statistics: 0.0989\n",
            "The test results for Feb have been appended.\n",
            "\n",
            "--------------------\n",
            "Start training for Mar .\n",
            "\n",
            "Epoch: 1\n",
            "Training loss: 3.9007 | validation accuracy: 0.3394 | validation precision: 0.8345 | test kappa statistics: 0.0209\n",
            "\n",
            "Epoch: 2\n",
            "Training loss: 3.7121 | validation accuracy: 0.3560 | validation precision: 0.8345 | test kappa statistics: 0.0317\n",
            "\n",
            "Epoch: 3\n",
            "Training loss: 3.5244 | validation accuracy: 0.3635 | validation precision: 0.8273 | test kappa statistics: 0.0341\n",
            "\n",
            "Epoch: 4\n",
            "Training loss: 3.3133 | validation accuracy: 0.3695 | validation precision: 0.8273 | test kappa statistics: 0.0381\n",
            "\n",
            "Epoch: 5\n",
            "Training loss: 3.0948 | validation accuracy: 0.3710 | validation precision: 0.8201 | test kappa statistics: 0.0366\n",
            "\n",
            "----------\n",
            "Test accuracy: 0.3944 | test precision: 0.8047 | test kappa statistics: 0.0406\n",
            "The test results for Mar have been appended.\n",
            "\n",
            "--------------------\n",
            "Start training for Apr .\n",
            "\n",
            "Epoch: 1\n",
            "Training loss: 0.8941 | validation accuracy: 0.7534 | validation precision: 0.0000 | test kappa statistics: 0.0000\n",
            "\n",
            "Epoch: 2\n",
            "Training loss: 0.8810 | validation accuracy: 0.7534 | validation precision: 0.0000 | test kappa statistics: 0.0000\n",
            "\n",
            "Epoch: 3\n",
            "Training loss: 0.8672 | validation accuracy: 0.7534 | validation precision: 0.0000 | test kappa statistics: 0.0000\n",
            "\n",
            "Epoch: 4\n",
            "Training loss: 0.8533 | validation accuracy: 0.7534 | validation precision: 0.0000 | test kappa statistics: 0.0000\n",
            "\n",
            "Epoch: 5\n",
            "Training loss: 0.8396 | validation accuracy: 0.7534 | validation precision: 0.0000 | test kappa statistics: 0.0000\n",
            "\n",
            "----------\n",
            "Test accuracy: 0.7825 | test precision: 0.0000 | test kappa statistics: 0.0000\n",
            "The test results for Apr have been appended.\n",
            "\n",
            "--------------------\n",
            "Start training for May .\n",
            "\n",
            "Epoch: 1\n",
            "Training loss: 1.3721 | validation accuracy: 0.4189 | validation precision: 0.7929 | test kappa statistics: 0.0603\n",
            "\n",
            "Epoch: 2\n",
            "Training loss: 1.1974 | validation accuracy: 0.4354 | validation precision: 0.7786 | test kappa statistics: 0.0673\n",
            "\n",
            "Epoch: 3\n",
            "Training loss: 1.0757 | validation accuracy: 0.4429 | validation precision: 0.7643 | test kappa statistics: 0.0676\n",
            "\n",
            "Epoch: 4\n",
            "Training loss: 0.9806 | validation accuracy: 0.4610 | validation precision: 0.7643 | test kappa statistics: 0.0817\n",
            "\n",
            "Epoch: 5\n",
            "Training loss: 0.9035 | validation accuracy: 0.4685 | validation precision: 0.7214 | test kappa statistics: 0.0711\n",
            "\n",
            "----------\n",
            "Test accuracy: 0.5325 | test precision: 0.6877 | test kappa statistics: 0.1106\n",
            "The test results for May have been appended.\n",
            "\n",
            "--------------------\n",
            "Start training for Jun .\n",
            "\n",
            "Epoch: 1\n",
            "Training loss: 1.6249 | validation accuracy: 0.7897 | validation precision: 0.0000 | test kappa statistics: 0.0000\n",
            "\n",
            "Epoch: 2\n",
            "Training loss: 1.5983 | validation accuracy: 0.7897 | validation precision: 0.0000 | test kappa statistics: 0.0000\n",
            "\n",
            "Epoch: 3\n",
            "Training loss: 1.5686 | validation accuracy: 0.7897 | validation precision: 0.0000 | test kappa statistics: 0.0000\n",
            "\n",
            "Epoch: 4\n",
            "Training loss: 1.5398 | validation accuracy: 0.7897 | validation precision: 0.0000 | test kappa statistics: 0.0000\n",
            "\n",
            "Epoch: 5\n",
            "Training loss: 1.5150 | validation accuracy: 0.7897 | validation precision: 0.0000 | test kappa statistics: 0.0000\n",
            "\n",
            "----------\n",
            "Test accuracy: 0.8207 | test precision: 0.0000 | test kappa statistics: 0.0000\n",
            "The test results for Jun have been appended.\n",
            "\n",
            "--------------------\n",
            "Start training for Jul .\n",
            "\n",
            "Epoch: 1\n",
            "Training loss: 0.5906 | validation accuracy: 0.7948 | validation precision: 0.0080 | test kappa statistics: -0.0168\n",
            "\n",
            "Epoch: 2\n",
            "Training loss: 0.5802 | validation accuracy: 0.7963 | validation precision: 0.0080 | test kappa statistics: -0.0139\n",
            "\n",
            "Epoch: 3\n",
            "Training loss: 0.5673 | validation accuracy: 0.7963 | validation precision: 0.0080 | test kappa statistics: -0.0139\n",
            "\n",
            "Epoch: 4\n",
            "Training loss: 0.5561 | validation accuracy: 0.7979 | validation precision: 0.0080 | test kappa statistics: -0.0111\n",
            "\n",
            "Epoch: 5\n",
            "Training loss: 0.5486 | validation accuracy: 0.7979 | validation precision: 0.0080 | test kappa statistics: -0.0111\n",
            "\n",
            "----------\n",
            "Test accuracy: 0.8002 | test precision: 0.0224 | test kappa statistics: -0.0117\n",
            "The test results for Jul have been appended.\n",
            "\n",
            "--------------------\n",
            "Start training for Aug .\n",
            "\n",
            "Epoch: 1\n",
            "Training loss: 1.0235 | validation accuracy: 0.7994 | validation precision: 0.0000 | test kappa statistics: 0.0000\n",
            "\n",
            "Epoch: 2\n",
            "Training loss: 1.0094 | validation accuracy: 0.7994 | validation precision: 0.0000 | test kappa statistics: 0.0000\n",
            "\n",
            "Epoch: 3\n",
            "Training loss: 0.9952 | validation accuracy: 0.7994 | validation precision: 0.0000 | test kappa statistics: 0.0000\n",
            "\n",
            "Epoch: 4\n",
            "Training loss: 0.9814 | validation accuracy: 0.7994 | validation precision: 0.0000 | test kappa statistics: 0.0000\n",
            "\n",
            "Epoch: 5\n",
            "Training loss: 0.9684 | validation accuracy: 0.7994 | validation precision: 0.0000 | test kappa statistics: 0.0000\n",
            "\n",
            "----------\n",
            "Test accuracy: 0.8033 | test precision: 0.0000 | test kappa statistics: 0.0000\n",
            "The test results for Aug have been appended.\n",
            "\n",
            "--------------------\n",
            "Start training for Sep .\n",
            "\n",
            "Epoch: 1\n",
            "Training loss: 2.7685 | validation accuracy: 0.2311 | validation precision: 0.9565 | test kappa statistics: -0.0015\n",
            "\n",
            "Epoch: 2\n",
            "Training loss: 2.4621 | validation accuracy: 0.3278 | validation precision: 0.8188 | test kappa statistics: 0.0084\n",
            "\n",
            "Epoch: 3\n",
            "Training loss: 2.2276 | validation accuracy: 0.3444 | validation precision: 0.7971 | test kappa statistics: 0.0111\n",
            "\n",
            "Epoch: 4\n",
            "Training loss: 2.0034 | validation accuracy: 0.3656 | validation precision: 0.7899 | test kappa statistics: 0.0222\n",
            "\n",
            "Epoch: 5\n",
            "Training loss: 1.8355 | validation accuracy: 0.3897 | validation precision: 0.7826 | test kappa statistics: 0.0359\n",
            "\n",
            "----------\n",
            "Test accuracy: 0.3956 | test precision: 0.7787 | test kappa statistics: 0.0393\n",
            "The test results for Sep have been appended.\n",
            "\n",
            "--------------------\n",
            "Start training for Oct .\n",
            "\n",
            "Epoch: 1\n",
            "Training loss: 0.5879 | validation accuracy: 0.7102 | validation precision: 0.1719 | test kappa statistics: 0.0108\n",
            "\n",
            "Epoch: 2\n",
            "Training loss: 0.5796 | validation accuracy: 0.7417 | validation precision: 0.0625 | test kappa statistics: -0.0428\n",
            "\n",
            "Epoch: 3\n",
            "Training loss: 0.5729 | validation accuracy: 0.7658 | validation precision: 0.0391 | test kappa statistics: -0.0304\n",
            "\n",
            "Epoch: 4\n",
            "Training loss: 0.5676 | validation accuracy: 0.7718 | validation precision: 0.0312 | test kappa statistics: -0.0291\n",
            "\n",
            "Epoch: 5\n",
            "Training loss: 0.5631 | validation accuracy: 0.7778 | validation precision: 0.0234 | test kappa statistics: -0.0277\n",
            "\n",
            "----------\n",
            "Test accuracy: 0.7380 | test precision: 0.0250 | test kappa statistics: -0.0479\n",
            "The test results for Oct have been appended.\n",
            "\n",
            "--------------------\n",
            "Start training for Nov .\n",
            "\n",
            "Epoch: 1\n",
            "Training loss: 1.0904 | validation accuracy: 0.8197 | validation precision: 0.0000 | test kappa statistics: 0.0000\n",
            "\n",
            "Epoch: 2\n",
            "Training loss: 1.0741 | validation accuracy: 0.8197 | validation precision: 0.0000 | test kappa statistics: 0.0000\n",
            "\n",
            "Epoch: 3\n",
            "Training loss: 1.0576 | validation accuracy: 0.8197 | validation precision: 0.0000 | test kappa statistics: 0.0000\n",
            "\n",
            "Epoch: 4\n",
            "Training loss: 1.0410 | validation accuracy: 0.8197 | validation precision: 0.0000 | test kappa statistics: 0.0000\n",
            "\n",
            "Epoch: 5\n",
            "Training loss: 1.0246 | validation accuracy: 0.8197 | validation precision: 0.0000 | test kappa statistics: 0.0000\n",
            "\n",
            "----------\n",
            "Test accuracy: 0.8123 | test precision: 0.0000 | test kappa statistics: 0.0000\n",
            "The test results for Nov have been appended.\n",
            "\n",
            "--------------------\n",
            "Start training for Dec .\n",
            "\n",
            "Epoch: 1\n",
            "Training loss: 0.8945 | validation accuracy: 0.5091 | validation precision: 0.4242 | test kappa statistics: -0.0305\n",
            "\n",
            "Epoch: 2\n",
            "Training loss: 0.8496 | validation accuracy: 0.5302 | validation precision: 0.4015 | test kappa statistics: -0.0252\n",
            "\n",
            "Epoch: 3\n",
            "Training loss: 0.8124 | validation accuracy: 0.5363 | validation precision: 0.3939 | test kappa statistics: -0.0242\n",
            "\n",
            "Epoch: 4\n",
            "Training loss: 0.7813 | validation accuracy: 0.5604 | validation precision: 0.3939 | test kappa statistics: -0.0030\n",
            "\n",
            "Epoch: 5\n",
            "Training loss: 0.7549 | validation accuracy: 0.5770 | validation precision: 0.3864 | test kappa statistics: 0.0082\n",
            "\n",
            "----------\n",
            "Test accuracy: 0.5742 | test precision: 0.3448 | test kappa statistics: -0.0209\n",
            "The test results for Dec have been appended.\n",
            "\n"
          ]
        }
      ]
    },
    {
      "cell_type": "code",
      "source": [
        "for element in test_results:\n",
        "  print(element)\n",
        "for element in test_results:\n",
        "  print(round(element[0], 4), \"&\", round(element[1], 4), \"&\", round(element[2], 4))"
      ],
      "metadata": {
        "colab": {
          "base_uri": "https://localhost:8080/"
        },
        "id": "M6wV6K3D6UTk",
        "outputId": "a4aa44a2-8dff-4f07-cfc6-23a6bc3dae68"
      },
      "execution_count": null,
      "outputs": [
        {
          "output_type": "stream",
          "name": "stdout",
          "text": [
            "[0.5238853503184714, 0.3739495798319328, -0.0452566771690362]\n",
            "[0.6053054662379421, 0.5019762845849802, 0.09888054196639856]\n",
            "[0.39437751004016064, 0.8047138047138047, 0.04059481833512188]\n",
            "[0.7824701195219124, 0.0, 0.0]\n",
            "[0.5324881141045958, 0.6877470355731226, 0.11057330501489585]\n",
            "[0.8207171314741036, 0.0, 0.0]\n",
            "[0.8001605136436597, 0.02242152466367713, -0.011726418355301346]\n",
            "[0.8033175355450237, 0.0, 0.0]\n",
            "[0.39564867042707497, 0.7786561264822134, 0.039332905338037155]\n",
            "[0.7379636937647988, 0.025, -0.04788476964391588]\n",
            "[0.8123003194888179, 0.0, 0.0]\n",
            "[0.5741626794258373, 0.3448275862068966, -0.020929764540148922]\n",
            "0.5239 & 0.3739 & -0.0453\n",
            "0.6053 & 0.502 & 0.0989\n",
            "0.3944 & 0.8047 & 0.0406\n",
            "0.7825 & 0.0 & 0.0\n",
            "0.5325 & 0.6877 & 0.1106\n",
            "0.8207 & 0.0 & 0.0\n",
            "0.8002 & 0.0224 & -0.0117\n",
            "0.8033 & 0.0 & 0.0\n",
            "0.3956 & 0.7787 & 0.0393\n",
            "0.738 & 0.025 & -0.0479\n",
            "0.8123 & 0.0 & 0.0\n",
            "0.5742 & 0.3448 & -0.0209\n"
          ]
        }
      ]
    },
    {
      "cell_type": "code",
      "source": [
        "import pandas as pd\n",
        "import matplotlib.pyplot as plt\n",
        "\n",
        "d = {'Accuracy':[test_results[i][0] for i in range(len(test_results))], 'Precision': [test_results[i][1] for i in range(len(test_results))]}\n",
        "result_df = pd.DataFrame(data=d)\n",
        "result_df\n",
        "\n",
        "fig, ax = plt.subplots(1, figsize=(8, 4))\n",
        "plt.bar(result_df.index, result_df['Accuracy'], color = '#337AE3', width = 0.9)\n",
        "plt.bar(result_df.index, result_df['Precision'], bottom = result_df['Accuracy'], color = '#DB4444', width = 0.9)\n",
        "plt.xlim(-0.6, 12)\n",
        "plt.ylim(0, 2)# remove spines\n",
        "ax.spines['right'].set_visible(False)\n",
        "ax.spines['left'].set_visible(False)\n",
        "ax.spines['top'].set_visible(False)\n",
        "ax.spines['bottom'].set_visible(False)#grid\n",
        "ax.set_axisbelow(True)\n",
        "ax.yaxis.grid(color='gray', linestyle='dashed', alpha=0.7)# x ticks\n",
        "xticks_labels = ['Jan', 'Fev', 'Mar', 'Apr', 'May', 'Jun', 'Jul', 'Aug', 'Sep', 'Oct', 'Nov', 'Dec']\n",
        "plt.xticks(result_df.index , labels = xticks_labels)# title and legend\n",
        "legend_label = ['Accuracy', 'Precision']\n",
        "plt.legend(legend_label, ncol = 4, bbox_to_anchor=([1, 1.1, 0, 0]), frameon = False)\n",
        "plt.title('Test Evaluation Metrics\\n', loc='left')\n",
        "plt.show()"
      ],
      "metadata": {
        "colab": {
          "base_uri": "https://localhost:8080/",
          "height": 296
        },
        "id": "ro5mzlzuy26M",
        "outputId": "c05f0483-93f4-4b68-8230-053e66c0b259"
      },
      "execution_count": null,
      "outputs": [
        {
          "output_type": "display_data",
          "data": {
            "image/png": "[encoded data removed]",
            "text/plain": [
              "<Figure size 576x288 with 1 Axes>"
            ]
          },
          "metadata": {
            "needs_background": "light"
          }
        }
      ]
    }
  ]
}